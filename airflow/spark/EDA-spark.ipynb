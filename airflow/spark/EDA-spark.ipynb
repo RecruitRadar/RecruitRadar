{
 "cells": [
  {
   "cell_type": "markdown",
   "id": "909c5127-e2e8-4739-87d8-9f4a9bf55b01",
   "metadata": {},
   "source": [
    "## 데이터 불러오기"
   ]
  },
  {
   "cell_type": "code",
   "execution_count": 27,
   "id": "9db93f28-de6b-44b3-b030-fd3df4cf2eb5",
   "metadata": {
    "tags": []
   },
   "outputs": [],
   "source": [
    "spark.stop()"
   ]
  },
  {
   "cell_type": "code",
   "execution_count": 10,
   "id": "32f55de7-ccee-42fc-b99a-ab2b7cc69502",
   "metadata": {
    "tags": []
   },
   "outputs": [],
   "source": [
    "from pyspark.sql import SparkSession\n",
    "import os\n",
    "import glob\n",
    "import json\n",
    "import boto3\n",
    "from botocore.exceptions import NoCredentialsError\n",
    "from dotenv import load_dotenv\n",
    "\n",
    "load_dotenv()\n",
    "\n",
    "# AWS S3 정보\n",
    "BUCKET_NAME = os.getenv('BUCKET_NAME')\n",
    "ACCESS_KEY = os.getenv('AWS_ACCESS_KEY_ID')\n",
    "SECRET_KEY = os.getenv('AWS_SECRET_ACCESS_KEY')\n",
    "REGION_NAME = \"ap-northeast-2\"\n",
    "\n",
    "\n",
    "def download_s3_file(remote_path, local_path):\n",
    "    s3 = boto3.client('s3', aws_access_key_id=ACCESS_KEY, aws_secret_access_key=SECRET_KEY)\n",
    "    try:\n",
    "        s3.download_file(BUCKET_NAME, remote_path, local_path)\n",
    "    except NoCredentialsError:\n",
    "        raise Exception(\"AWS credentials not available\")\n",
    "\n",
    "# 로컬 디렉토리 생성\n",
    "os.makedirs('data', exist_ok=True)\n",
    "\n",
    "# S3 파일 다운로드\n",
    "download_s3_file('jobplanet/year=2023/month=08/day=14/jobplanet.json', 'data/jobplanet.json')\n",
    "download_s3_file('jumpit/year=2023/month=08/day=12/jumpit.json', 'data/jumpit.json')\n",
    "download_s3_file('rallit/year=2023/month=08/day=12/rallit.json', 'data/rallit.json')\n",
    "download_s3_file('wanted/year=2023/month=08/day=12/wanted.json', 'data/wanted.json')"
   ]
  },
  {
   "cell_type": "code",
   "execution_count": 15,
   "id": "9d2cf2c4-8349-49af-ab7f-d33cde8d3d1d",
   "metadata": {
    "tags": []
   },
   "outputs": [],
   "source": [
    "from pyspark.sql import SparkSession\n",
    "\n",
    "spark = SparkSession \\\n",
    "    .builder \\\n",
    "    .appName(\"Python Spark EDA #1\") \\\n",
    "    .config(\"spark.jars\", \"/usr/local/lib/python3.10/dist-packages/pyspark/jars/redshift-jdbc42-2.1.0.14.jar\") \\\n",
    "    .getOrCreate()"
   ]
  },
  {
   "cell_type": "code",
   "execution_count": 16,
   "id": "9ac6a3c9-1a17-44b8-b017-8f24f46a13a0",
   "metadata": {
    "tags": []
   },
   "outputs": [
    {
     "data": {
      "text/plain": [
       "['/home/jovyan/data/jobplanet.json',\n",
       " '/home/jovyan/data/jumpit.json',\n",
       " '/home/jovyan/data/rallit.json',\n",
       " '/home/jovyan/data/wanted.json']"
      ]
     },
     "execution_count": 16,
     "metadata": {},
     "output_type": "execute_result"
    }
   ],
   "source": [
    "# 현재 디렉토리의 data 폴더에 있는 모든 JSON 파일의 경로를 가져옵니다.\n",
    "file_path = glob.glob(f'{os.getcwd()}/data/*.json')\n",
    "\n",
    "if not file_path:\n",
    "    raise ValueError(\"No JSON files found in the specified directory!\")\n",
    "\n",
    "file_path"
   ]
  },
  {
   "cell_type": "code",
   "execution_count": 22,
   "id": "91fb7eea-98cb-45c2-b093-59432fb631ec",
   "metadata": {
    "tags": []
   },
   "outputs": [],
   "source": [
    "# JSON 파일 읽어서 DataFrame 생성\n",
    "data = []\n",
    "for path in file_path:\n",
    "    with open(path) as json_file:\n",
    "        json_data = json.load(json_file)\n",
    "        # 키 이름 변경\n",
    "        if \"result\" in json_data:\n",
    "            data.append(path)\n",
    "            "
   ]
  },
  {
   "cell_type": "code",
   "execution_count": 25,
   "id": "5e8bfb5f-7e8a-4e60-b4c2-b01cdb86f76d",
   "metadata": {
    "tags": []
   },
   "outputs": [
    {
     "data": {
      "text/plain": [
       "['/home/jovyan/data/jobplanet.json',\n",
       " '/home/jovyan/data/jumpit.json',\n",
       " '/home/jovyan/data/rallit.json',\n",
       " '/home/jovyan/data/wanted.json']"
      ]
     },
     "execution_count": 25,
     "metadata": {},
     "output_type": "execute_result"
    }
   ],
   "source": [
    "data"
   ]
  },
  {
   "cell_type": "code",
   "execution_count": 23,
   "id": "87b0f8a4-2fc7-4e8c-8aaf-f5ac6537c9c6",
   "metadata": {
    "tags": []
   },
   "outputs": [],
   "source": [
    "# 모든 JSON 파일을 한 번에 읽어 DataFrame 생성\n",
    "df = spark.read.option(\"multiline\", \"true\").json(data)"
   ]
  },
  {
   "cell_type": "code",
   "execution_count": 24,
   "id": "142ae52f-fd3d-4cc9-afcb-0158873f9238",
   "metadata": {
    "tags": []
   },
   "outputs": [
    {
     "name": "stdout",
     "output_type": "stream",
     "text": [
      "+----------------------------+\n",
      "|                      result|\n",
      "+----------------------------+\n",
      "|[{, 웹 개발자, 포그리트, ...|\n",
      "| [{null, 서버/백엔드 개발...|\n",
      "|      [{null, CTO, (주)로...|\n",
      "|  [{NodeJS 기반의 글로벌 ...|\n",
      "+----------------------------+\n",
      "\n"
     ]
    }
   ],
   "source": [
    "df.show()"
   ]
  },
  {
   "cell_type": "code",
   "execution_count": 26,
   "id": "39b4936d-d232-4482-8555-a297f6094057",
   "metadata": {
    "tags": []
   },
   "outputs": [],
   "source": [
    "# \"results\" 배열을 DataFrame의 행으로 변환\n",
    "df_results = df.selectExpr(\"explode(result) as results\")\n",
    "\n",
    "# 각 필드에 대해 DataFrame 컬럼으로 분리\n",
    "df_final = df_results.select(\n",
    "    \"results.job_id\",\n",
    "    \"results.platform\",\n",
    "    \"results.category\",\n",
    "    \"results.url\",\n",
    "    \"results.company\",\n",
    "    \"results.title\",\n",
    "    \"results.primary_responsibility\",\n",
    "    \"results.required\",\n",
    "    \"results.preferred\",\n",
    "    \"results.end_at\",\n",
    "    \"results.skills\",\n",
    "    \"results.location\",\n",
    "    \"results.welfare\",\n",
    "    \"results.body\",\n",
    "    \"results.company_description\",\n",
    "    \"results.coordinate\"\n",
    ")"
   ]
  },
  {
   "cell_type": "code",
   "execution_count": 34,
   "id": "0481210d-f3b3-46f1-9057-0d666753a929",
   "metadata": {
    "tags": []
   },
   "outputs": [
    {
     "name": "stdout",
     "output_type": "stream",
     "text": [
      "+------+--------+---------+--------------------+---------------------------------+-----------------------------+----------------------------------+------------------------------+-------------------------------+----------+--------------------+----------------------------------+-----------------------------------+----+----------------------------------+--------------------+\n",
      "|job_id|platform| category|                 url|                          company|                        title|            primary_responsibility|                      required|                      preferred|    end_at|              skills|                          location|                            welfare|body|               company_description|          coordinate|\n",
      "+------+--------+---------+--------------------+---------------------------------+-----------------------------+----------------------------------+------------------------------+-------------------------------+----------+--------------------+----------------------------------+-----------------------------------+----+----------------------------------+--------------------+\n",
      "|175689|  wanted|웹 개발자|https://www.wante...|                         포그리트|         Sr. Frontend Deve...|    • 포그리트의 메인 서비스(UX...| • 최소 5년 이상의 웹 개발 ...|• 컴퓨터공학, 전산과 관련 학...|      null|                  []| 경기도 성남시 분당구 판교역로 ...|        • 연 1회 건강검진 \\n• 야...|    |  [조직소개]\\n포그리트는 고객의...|[37.3920843, 127....|\n",
      "|175689|  wanted|웹 개발자|https://www.wante...|                         포그리트|         Sr. Frontend Deve...|    • 포그리트의 메인 서비스(UX...| • 최소 5년 이상의 웹 개발 ...|• 컴퓨터공학, 전산과 관련 학...|      null|                  []| 경기도 성남시 분당구 판교역로 ...|        • 연 1회 건강검진 \\n• 야...|    |  [조직소개]\\n포그리트는 고객의...|[37.3920843, 127....|\n",
      "|175657|  wanted|웹 개발자|https://www.wante...|                 위메이드(WEMADE)|스마트컨트랙트 개발(DeFi /...|      • 블록체인 DeFi 서비스를 ...|• 관련 학과 전공 (컴퓨터 공...|  • DeFi 서비스를 이용해보신...|2023-11-10|                  []|경기도 성남시 분당구 대왕판교로...|   #조식제공 #중식제공 #건강검진...|    |  위메이드는 20여 년간 게임업계...|[37.4014343, 127....|\n",
      "|175550|  wanted|웹 개발자|https://www.wante...|                     일진씨앤에스|   MES & QMS 시스템운영(개발)|      • 솔루션 기반 QMS 시스템 ...|    • C#, C++ 프로그램 개발...|    • 관련 자격증 소지\\n• ME...|      null|                  []|       전북 익산시 석암로3길 63-25|     • 경조휴가 및 경조금 지원, ...|    |         일진그룹의 Total IT So...|[35.9540045, 127....|\n",
      "|175408|  wanted|웹 개발자|https://www.wante...|                   채널코퍼레이션|      [채널톡] Web (Fronte...|     [무엇을 만드나요?]\\n\\n신사...| [이런 분을 찾고있어요] \\n•...|       • 웹 뷰 경험이 있으신 분|      null|                  []|     강남구 논현로 508, GS강남타워|     [이렇게 대우합니다]\\n• 채널...|    |     [어떤 팀인가요?]\\n\\n채널코...|[37.5018187, 127....|\n",
      "|175378|  wanted|웹 개발자|https://www.wante...|                       골프존씨엠|                    웹 개발자|  • 골프장 무인 체크인 키오스크...|          • Java/JavaScript...|         • Spring Boot 개발 ...|      null|[Linux, AWS, JPA,...|    서울시 강남구 영동대로 735 ...|       • 복지포인트 연 500만원\\n...|    |   골프존씨엠은 1999년에 설립된...|                null|\n",
      "|175408|  wanted|웹 개발자|https://www.wante...|                   채널코퍼레이션|      [채널톡] Web (Fronte...|     [무엇을 만드나요?]\\n\\n신사...| [이런 분을 찾고있어요] \\n•...|       • 웹 뷰 경험이 있으신 분|      null|                  []|     강남구 논현로 508, GS강남타워|     [이렇게 대우합니다]\\n• 채널...|    |     [어떤 팀인가요?]\\n\\n채널코...|[37.5018187, 127....|\n",
      "|175544|  wanted|웹 개발자|https://www.wante...|                   비브로스(똑닥)|         Tech 프론트엔드 개발|              - React, Next.js ...|          - React, Next.js ...|         - React Native 개발...|      null|[Git, CSS, HTML, ...| 서울특별시 영등포구 여의대로 1...|     [비브로스의 오피스 문화]\\n\\...|    |   병원 예약 앱 ‘똑닥’ 서비스를...|[37.5238988, 126....|\n",
      "|175675|  wanted|웹 개발자|https://www.wante...|           디앤에스에버(DNS Ever)|         Frontend (React /...|•가상자산거래소 웹사이트 데스크...|          • HTML, CSS, java...| • 5년 이상의  웹 프론트엔드...|2023-08-18|[Git, AngularJS, ...|   서울시 강남구 강남대로 372, 9층|디앤에스에버에서는 직원들을 위해...|    |디앤에스에버는 전 세계의 고객에...|[37.4959964, 127....|\n",
      "|175387|  wanted|웹 개발자|https://www.wante...|퍼포먼스바이티비더블유에이(PTBWA)|                   플랫폼개발|  • 디지털 광고를 집행하기 위한...| • 국내외 4년제 학사 이상\\n...|    • 포트폴리오 제출(github...|2023-08-31|[C#, Java, Node.j...|    서울시 중구 세종대로 39, 대...|      • 자율출퇴근제 운영\\n• 1시...|    |   # 대기업, 고속성장 브랜드사,...|[37.5606707, 126....|\n",
      "|175550|  wanted|웹 개발자|https://www.wante...|                     일진씨앤에스|   MES & QMS 시스템운영(개발)|      • 솔루션 기반 QMS 시스템 ...|    • C#, C++ 프로그램 개발...|    • 관련 자격증 소지\\n• ME...|      null|                  []|       전북 익산시 석암로3길 63-25|     • 경조휴가 및 경조금 지원, ...|    |         일진그룹의 Total IT So...|[35.9540045, 127....|\n",
      "|175618|  wanted|웹 개발자|https://www.wante...|                           베링랩|   백엔드 개발자 (Python/R...|      - 신사업 플랫폼 구축\\n   ...|       - Python 혹은 Rust에...|           - Microservice Ar...|      null|[React, TypeScrip...|    서울시 강남구 봉은사로 524 ...|     - 최신형 노트북 제공 (맥북/...|    | 베링랩은 가장 어렵고 난해한 번...|[37.5125207, 127....|\n",
      "|175657|  wanted|웹 개발자|https://www.wante...|                 위메이드(WEMADE)|스마트컨트랙트 개발(DeFi /...|      • 블록체인 DeFi 서비스를 ...|• 관련 학과 전공 (컴퓨터 공...|  • DeFi 서비스를 이용해보신...|2023-11-10|                  []|경기도 성남시 분당구 대왕판교로...|   #조식제공 #중식제공 #건강검진...|    |  위메이드는 20여 년간 게임업계...|[37.4014343, 127....|\n",
      "|175500|  wanted|웹 개발자|https://www.wante...|                   메가스터디교육|           App 개발 리더 채용|           • e-Book App 개발 및...|  • 경력 : 개발자 경력 10년...|          • iOS , Android 기...|2023-08-31|                  []|     서울 서초구 효령로 321 (덕...|     • 경조사 지원 (경조휴가, 경...|    |메가스터디교육은 늘 교육시장의 ...|[37.4861009, 127....|\n",
      "|175618|  wanted|웹 개발자|https://www.wante...|                           베링랩|   백엔드 개발자 (Python/R...|      - 신사업 플랫폼 구축\\n   ...|       - Python 혹은 Rust에...|           - Microservice Ar...|      null|[React, TypeScrip...|    서울시 강남구 봉은사로 524 ...|     - 최신형 노트북 제공 (맥북/...|    | 베링랩은 가장 어렵고 난해한 번...|[37.5125207, 127....|\n",
      "|175689|  wanted|웹 개발자|https://www.wante...|                         포그리트|         Sr. Frontend Deve...|    • 포그리트의 메인 서비스(UX...| • 최소 5년 이상의 웹 개발 ...|• 컴퓨터공학, 전산과 관련 학...|      null|                  []| 경기도 성남시 분당구 판교역로 ...|        • 연 1회 건강검진 \\n• 야...|    |  [조직소개]\\n포그리트는 고객의...|[37.3920843, 127....|\n",
      "|175689|  wanted|웹 개발자|https://www.wante...|                         포그리트|         Sr. Frontend Deve...|    • 포그리트의 메인 서비스(UX...| • 최소 5년 이상의 웹 개발 ...|• 컴퓨터공학, 전산과 관련 학...|      null|                  []| 경기도 성남시 분당구 판교역로 ...|        • 연 1회 건강검진 \\n• 야...|    |  [조직소개]\\n포그리트는 고객의...|[37.3920843, 127....|\n",
      "|175500|  wanted|웹 개발자|https://www.wante...|                   메가스터디교육|           App 개발 리더 채용|           • e-Book App 개발 및...|  • 경력 : 개발자 경력 10년...|          • iOS , Android 기...|2023-08-31|                  []|     서울 서초구 효령로 321 (덕...|     • 경조사 지원 (경조휴가, 경...|    |메가스터디교육은 늘 교육시장의 ...|[37.4861009, 127....|\n",
      "|175618|  wanted|웹 개발자|https://www.wante...|                           베링랩|   백엔드 개발자 (Python/R...|      - 신사업 플랫폼 구축\\n   ...|       - Python 혹은 Rust에...|           - Microservice Ar...|      null|[React, TypeScrip...|    서울시 강남구 봉은사로 524 ...|     - 최신형 노트북 제공 (맥북/...|    | 베링랩은 가장 어렵고 난해한 번...|[37.5125207, 127....|\n",
      "|175544|  wanted|웹 개발자|https://www.wante...|                   비브로스(똑닥)|         Tech 프론트엔드 개발|              - React, Next.js ...|          - React, Next.js ...|         - React Native 개발...|      null|[Git, CSS, HTML, ...| 서울특별시 영등포구 여의대로 1...|     [비브로스의 오피스 문화]\\n\\...|    |   병원 예약 앱 ‘똑닥’ 서비스를...|[37.5238988, 126....|\n",
      "+------+--------+---------+--------------------+---------------------------------+-----------------------------+----------------------------------+------------------------------+-------------------------------+----------+--------------------+----------------------------------+-----------------------------------+----+----------------------------------+--------------------+\n",
      "only showing top 20 rows\n",
      "\n"
     ]
    }
   ],
   "source": [
    "# 결과 확인\n",
    "df_final.show()"
   ]
  },
  {
   "cell_type": "code",
   "execution_count": 111,
   "id": "ac672c26-5268-4a4f-81c0-87e59d8bbd11",
   "metadata": {
    "tags": []
   },
   "outputs": [
    {
     "data": {
      "text/html": [
       "<div>\n",
       "<style scoped>\n",
       "    .dataframe tbody tr th:only-of-type {\n",
       "        vertical-align: middle;\n",
       "    }\n",
       "\n",
       "    .dataframe tbody tr th {\n",
       "        vertical-align: top;\n",
       "    }\n",
       "\n",
       "    .dataframe thead th {\n",
       "        text-align: right;\n",
       "    }\n",
       "</style>\n",
       "<table border=\"1\" class=\"dataframe\">\n",
       "  <thead>\n",
       "    <tr style=\"text-align: right;\">\n",
       "      <th></th>\n",
       "      <th>job_id</th>\n",
       "      <th>platform</th>\n",
       "      <th>category</th>\n",
       "      <th>url</th>\n",
       "      <th>company</th>\n",
       "      <th>title</th>\n",
       "      <th>primary_responsibility</th>\n",
       "      <th>required</th>\n",
       "      <th>preferred</th>\n",
       "      <th>end_at</th>\n",
       "      <th>skills</th>\n",
       "      <th>location</th>\n",
       "      <th>welfare</th>\n",
       "      <th>body</th>\n",
       "      <th>company_description</th>\n",
       "      <th>coordinate</th>\n",
       "    </tr>\n",
       "  </thead>\n",
       "  <tbody>\n",
       "    <tr>\n",
       "      <th>0</th>\n",
       "      <td>175689</td>\n",
       "      <td>wanted</td>\n",
       "      <td>웹 개발자</td>\n",
       "      <td>https://www.wanted.co.kr/wd/175689</td>\n",
       "      <td>포그리트</td>\n",
       "      <td>Sr. Frontend Developer</td>\n",
       "      <td>• 포그리트의 메인 서비스(UX heatmap, Journey Map)의 신규 기능...</td>\n",
       "      <td>• 최소 5년 이상의 웹 개발 경험 필수 ( HTML, CSS, JavaScript...</td>\n",
       "      <td>• 컴퓨터공학, 전산과 관련 학위를 소지 하신 분\\n• MongoDB,  Elast...</td>\n",
       "      <td>None</td>\n",
       "      <td>[]</td>\n",
       "      <td>경기도 성남시 분당구 판교역로 136 (판교역, 힐스테이트) 판매시설 1100호</td>\n",
       "      <td>• 연 1회 건강검진 \\n• 야근 식대 지원\\n• 매년 야근 예방 접종 지원\\n• ...</td>\n",
       "      <td></td>\n",
       "      <td>[조직소개]\\n포그리트는 고객의 형태를 빅데이터로 재구성하여, 그로스 해킹을 돕는 ...</td>\n",
       "      <td>[37.3920843, 127.109167]</td>\n",
       "    </tr>\n",
       "    <tr>\n",
       "      <th>1</th>\n",
       "      <td>175689</td>\n",
       "      <td>wanted</td>\n",
       "      <td>웹 개발자</td>\n",
       "      <td>https://www.wanted.co.kr/wd/175689</td>\n",
       "      <td>포그리트</td>\n",
       "      <td>Sr. Frontend Developer</td>\n",
       "      <td>• 포그리트의 메인 서비스(UX heatmap, Journey Map)의 신규 기능...</td>\n",
       "      <td>• 최소 5년 이상의 웹 개발 경험 필수 ( HTML, CSS, JavaScript...</td>\n",
       "      <td>• 컴퓨터공학, 전산과 관련 학위를 소지 하신 분\\n• MongoDB,  Elast...</td>\n",
       "      <td>None</td>\n",
       "      <td>[]</td>\n",
       "      <td>경기도 성남시 분당구 판교역로 136 (판교역, 힐스테이트) 판매시설 1100호</td>\n",
       "      <td>• 연 1회 건강검진 \\n• 야근 식대 지원\\n• 매년 야근 예방 접종 지원\\n• ...</td>\n",
       "      <td></td>\n",
       "      <td>[조직소개]\\n포그리트는 고객의 형태를 빅데이터로 재구성하여, 그로스 해킹을 돕는 ...</td>\n",
       "      <td>[37.3920843, 127.109167]</td>\n",
       "    </tr>\n",
       "    <tr>\n",
       "      <th>2</th>\n",
       "      <td>175657</td>\n",
       "      <td>wanted</td>\n",
       "      <td>웹 개발자</td>\n",
       "      <td>https://www.wanted.co.kr/wd/175657</td>\n",
       "      <td>위메이드(WEMADE)</td>\n",
       "      <td>스마트컨트랙트 개발(DeFi / Lending, Crypto Dollar, DEX)</td>\n",
       "      <td>• 블록체인 DeFi 서비스를 위한 스마트 컨트랙트 개발\\n• Kleva(Lendi...</td>\n",
       "      <td>• 관련 학과 전공 (컴퓨터 공학 / 수학 / 금융공학 등) 또는 개발 경력 1년 ...</td>\n",
       "      <td>• DeFi 서비스를 이용해보신 분\\n• 관련 경력 3년 이상 서비스 플랫폼 개발 ...</td>\n",
       "      <td>2023-11-10</td>\n",
       "      <td>[]</td>\n",
       "      <td>경기도 성남시 분당구 대왕판교로 644번길 49 위메이드타워</td>\n",
       "      <td>#조식제공 #중식제공 #건강검진 #단체보험 #사내카페 #복지카드 #요가룸 #수면실\\...</td>\n",
       "      <td></td>\n",
       "      <td>위메이드는 20여 년간 게임업계에서 활약해 왔습니다.\\n\\n미르4를 성공적으로 출시...</td>\n",
       "      <td>[37.4014343, 127.1122219]</td>\n",
       "    </tr>\n",
       "    <tr>\n",
       "      <th>3</th>\n",
       "      <td>175550</td>\n",
       "      <td>wanted</td>\n",
       "      <td>웹 개발자</td>\n",
       "      <td>https://www.wanted.co.kr/wd/175550</td>\n",
       "      <td>일진씨앤에스</td>\n",
       "      <td>MES &amp; QMS 시스템운영(개발)</td>\n",
       "      <td>• 솔루션 기반 QMS 시스템 개발 및 운영\\n• 설비 인터페이스 관리 및 오류 수정</td>\n",
       "      <td>• C#, C++ 프로그램 개발 가능\\n• Oracle 데이터베이스 활용 가능\\n•...</td>\n",
       "      <td>• 관련 자격증 소지\\n• MES(생산관리), QMS(품질관리) 및 EMS(설비관리...</td>\n",
       "      <td>None</td>\n",
       "      <td>[]</td>\n",
       "      <td>전북 익산시 석암로3길 63-25</td>\n",
       "      <td>• 경조휴가 및 경조금 지원, 장기근속 포상, 우수사원 포상\\n• 고등학교/대학교 ...</td>\n",
       "      <td></td>\n",
       "      <td>일진그룹의 Total IT Solution 회사인 일진씨앤에스에서 경력사원을 채용합니다.</td>\n",
       "      <td>[35.9540045, 127.0010682]</td>\n",
       "    </tr>\n",
       "    <tr>\n",
       "      <th>4</th>\n",
       "      <td>175408</td>\n",
       "      <td>wanted</td>\n",
       "      <td>웹 개발자</td>\n",
       "      <td>https://www.wanted.co.kr/wd/175408</td>\n",
       "      <td>채널코퍼레이션</td>\n",
       "      <td>[채널톡] Web (Frontend) Software Engineer 신사업팀</td>\n",
       "      <td>[무엇을 만드나요?]\\n\\n신사업 앱 서비스에 들어가는 웹뷰와 고객사가 사용하는 고...</td>\n",
       "      <td>[이런 분을 찾고있어요] \\n• 자주 새로운 도전 과제들이 생깁니다. 가지 않은 길...</td>\n",
       "      <td>• 웹 뷰 경험이 있으신 분</td>\n",
       "      <td>None</td>\n",
       "      <td>[]</td>\n",
       "      <td>강남구 논현로 508, GS강남타워</td>\n",
       "      <td>[이렇게 대우합니다]\\n• 채널팀은 의미 있는 성과를 낸 멤버에게 '업계 최고'의 ...</td>\n",
       "      <td></td>\n",
       "      <td>[어떤 팀인가요?]\\n\\n채널코퍼레이션은 고객과 브랜드 사이의 문제를 찾고 해결하고...</td>\n",
       "      <td>[37.5018187, 127.0370947]</td>\n",
       "    </tr>\n",
       "    <tr>\n",
       "      <th>...</th>\n",
       "      <td>...</td>\n",
       "      <td>...</td>\n",
       "      <td>...</td>\n",
       "      <td>...</td>\n",
       "      <td>...</td>\n",
       "      <td>...</td>\n",
       "      <td>...</td>\n",
       "      <td>...</td>\n",
       "      <td>...</td>\n",
       "      <td>...</td>\n",
       "      <td>...</td>\n",
       "      <td>...</td>\n",
       "      <td>...</td>\n",
       "      <td>...</td>\n",
       "      <td>...</td>\n",
       "      <td>...</td>\n",
       "    </tr>\n",
       "    <tr>\n",
       "      <th>17333</th>\n",
       "      <td>970</td>\n",
       "      <td>rallit</td>\n",
       "      <td>HARDWARE_EMBEDDED_ENGINEER</td>\n",
       "      <td>https://www.rallit.com/positions/970</td>\n",
       "      <td>(주)아이비스</td>\n",
       "      <td>Embedded SW개발 C++,C 개발자 모집</td>\n",
       "      <td>. 컴퓨터 프로그래밍 언어로 각 업무에 맞는 SW의 기능에 관한 설계, 구현 및 테...</td>\n",
       "      <td>. Linux 기반의 Embedded SW 개발 경험\\n. Linux 기반 Clie...</td>\n",
       "      <td>.  Linux/ rtOS 기반 차량용 SW개발 경험\\n.  C++11/14 개발경험\\n</td>\n",
       "      <td>9999-12-31</td>\n",
       "      <td>[C++, C, 임베디드, Linux]</td>\n",
       "      <td>경기 수원시 영통구 대학4로 17</td>\n",
       "      <td>WORK &amp; LIFE\\n• 근태: '금요일 12시 퇴근! 오전 10시 출근!'내 맘...</td>\n",
       "      <td>차량용 SW개발자를 모집합니다.</td>\n",
       "      <td>\"Future mobility SW in vehicle\" \\n- 차량에 탑재되는 소...</td>\n",
       "      <td>[37.3001653, 127.0467106]</td>\n",
       "    </tr>\n",
       "    <tr>\n",
       "      <th>17334</th>\n",
       "      <td>1633</td>\n",
       "      <td>rallit</td>\n",
       "      <td>HARDWARE_EMBEDDED_ENGINEER</td>\n",
       "      <td>https://www.rallit.com/positions/1633</td>\n",
       "      <td>(주)라피치</td>\n",
       "      <td>[AI음성기술전문기업] 시스템 엔지니어(신입/경력)</td>\n",
       "      <td>ㆍAWS 클라우드 기반 시스템 구축 및 운영\\nㆍ서버 및 스토리지 등 시스템 구축 ...</td>\n",
       "      <td>ㆍ서버, 스토리지, 네트워크, 데이터베이스 등 시스템 기술에 대한 지식과 경험 보유...</td>\n",
       "      <td>ㆍ3년 이상의 시스템 엔지니어링 경력 또는 해당 분야 관련 전공 학위 소지\\nㆍAW...</td>\n",
       "      <td>9999-12-31</td>\n",
       "      <td>[Linux, AWS]</td>\n",
       "      <td>서울 강남구 도곡로8길 6</td>\n",
       "      <td>[근무환경]\\n ㆍPC 및 듀얼모니터 제공\\n ㆍ유연근무제 (근무 시간을 선택해서 ...</td>\n",
       "      <td>시스템 보안 및 안정성을 유지하고 개선하기 위하여 설계 및 구축 등의 역할을 합니다.</td>\n",
       "      <td>'라피치'는 AI 음성기술의 오랜 연구개발과 기술력을 바탕으로\\n현재 화자인증 시스...</td>\n",
       "      <td>[37.490147, 127.0350462]</td>\n",
       "    </tr>\n",
       "    <tr>\n",
       "      <th>17335</th>\n",
       "      <td>771</td>\n",
       "      <td>rallit</td>\n",
       "      <td>HARDWARE_EMBEDDED_ENGINEER</td>\n",
       "      <td>https://www.rallit.com/positions/771</td>\n",
       "      <td>(주)모카시스템</td>\n",
       "      <td>임베디드 펌웨어 개발자</td>\n",
       "      <td>- Airfob Space 디바이스 Firmware 개발\\n- Embedded Li...</td>\n",
       "      <td>- 펌웨어 개발 경험 3년 이상 또는 그에 준하는 이해도를 갖추신 분\\n- Embe...</td>\n",
       "      <td>출입 통제, 근태 관리, 경보 시스템 또는 보안 관련 경험이 있으신 분</td>\n",
       "      <td>9999-12-31</td>\n",
       "      <td>[임베디드, Linux, C, C++, Qt]</td>\n",
       "      <td>경기 성남시 분당구 성남대로331번길 8</td>\n",
       "      <td>효율적인 업무 집중을 위해\\n- 주 4.5일 근무제(매 주 금요일 4시간 30분 근...</td>\n",
       "      <td>출입통제 시스템의 불편함을 해결하기 위해 최초의 100% 클라우드 기반 모바일 출입...</td>\n",
       "      <td>출입통제 시스템의 불편함을 해결하기 위해 최초의 100% 클라우드 기반 모바일 출입...</td>\n",
       "      <td>[37.3659481, 127.1066323]</td>\n",
       "    </tr>\n",
       "    <tr>\n",
       "      <th>17336</th>\n",
       "      <td>1490</td>\n",
       "      <td>rallit</td>\n",
       "      <td>HARDWARE_EMBEDDED_ENGINEER</td>\n",
       "      <td>https://www.rallit.com/positions/1490</td>\n",
       "      <td>더블디</td>\n",
       "      <td>[더블디] ESP32 펌웨어, 회로설계 개발자 채용 공고</td>\n",
       "      <td>- ESP32 펌웨어 및 하드웨어 개발 보조\\n- 자주 사용하는 기능 에셋화 / 모...</td>\n",
       "      <td>- Python 및 C언어 사용 능숙\\n- ESP32 개발 경험 보유(우대사항)</td>\n",
       "      <td>- Nordic, STM, ATMega 등 다양한 MCU 처리 경험(우대사항)</td>\n",
       "      <td>9999-12-31</td>\n",
       "      <td>[C, Python, 임베디드]</td>\n",
       "      <td>대구 수성구 무열로 61</td>\n",
       "      <td>- 1달에 1권씩 도서구입을 지원해요.\\n- 점심식사를 무료 제공해요.\\n- 간식(...</td>\n",
       "      <td>하드웨어 / 펌웨어 개발자 - 1명 모집\\n자세한 내용은 file.pillowstu...</td>\n",
       "      <td>더블디는 디자인/개발/운영 능력이 부족한 스타트업의 든든한 서포터 역할을 수행합니다...</td>\n",
       "      <td>[35.8639979, 128.6489799]</td>\n",
       "    </tr>\n",
       "    <tr>\n",
       "      <th>17337</th>\n",
       "      <td>1616</td>\n",
       "      <td>rallit</td>\n",
       "      <td>AGILE_SCRUM_MASTER</td>\n",
       "      <td>https://www.rallit.com/positions/1616</td>\n",
       "      <td>로민</td>\n",
       "      <td>플랫폼 개발 리드 채용</td>\n",
       "      <td>• 로민 제품 개발 총괄\\n    - 설계, 관리, 스펙관리 및 기술 전략 수립\\n...</td>\n",
       "      <td>• 개발팀 리딩 경험이 5년 이상이신 분\\n• SaaS 서비스 또는 자체 프로덕트 ...</td>\n",
       "      <td>• 풀스택 개발 경험을 보유하신 분\\n• 디자인, 기획, 사업개발, 마케팅 등의 다...</td>\n",
       "      <td>9999-12-31</td>\n",
       "      <td>[Python, FastAPI, PostgreSQL, Tensorflow, PyTo...</td>\n",
       "      <td>서울 서초구 방배천로2길 10</td>\n",
       "      <td>1. 자율과 책임에 근거한 근무 환경을 제공합니다.\\n\\n   • 재택근무 제도\\n...</td>\n",
       "      <td>국내 주요 금융사들이 앞다투어 사용하고 있는 인공지능(AI) 문서인식 솔루션을 제공...</td>\n",
       "      <td>[로민 회사 소개]\\n\\n로민(Lomin)은 컴퓨터비전 및 자연어처리 등 인공지능 ...</td>\n",
       "      <td>[37.4767608, 126.9833178]</td>\n",
       "    </tr>\n",
       "  </tbody>\n",
       "</table>\n",
       "<p>17338 rows × 16 columns</p>\n",
       "</div>"
      ],
      "text/plain": [
       "       job_id platform                    category  \\\n",
       "0      175689   wanted                       웹 개발자   \n",
       "1      175689   wanted                       웹 개발자   \n",
       "2      175657   wanted                       웹 개발자   \n",
       "3      175550   wanted                       웹 개발자   \n",
       "4      175408   wanted                       웹 개발자   \n",
       "...       ...      ...                         ...   \n",
       "17333     970   rallit  HARDWARE_EMBEDDED_ENGINEER   \n",
       "17334    1633   rallit  HARDWARE_EMBEDDED_ENGINEER   \n",
       "17335     771   rallit  HARDWARE_EMBEDDED_ENGINEER   \n",
       "17336    1490   rallit  HARDWARE_EMBEDDED_ENGINEER   \n",
       "17337    1616   rallit          AGILE_SCRUM_MASTER   \n",
       "\n",
       "                                         url       company  \\\n",
       "0         https://www.wanted.co.kr/wd/175689          포그리트   \n",
       "1         https://www.wanted.co.kr/wd/175689          포그리트   \n",
       "2         https://www.wanted.co.kr/wd/175657  위메이드(WEMADE)   \n",
       "3         https://www.wanted.co.kr/wd/175550        일진씨앤에스   \n",
       "4         https://www.wanted.co.kr/wd/175408       채널코퍼레이션   \n",
       "...                                      ...           ...   \n",
       "17333   https://www.rallit.com/positions/970       (주)아이비스   \n",
       "17334  https://www.rallit.com/positions/1633        (주)라피치   \n",
       "17335   https://www.rallit.com/positions/771      (주)모카시스템   \n",
       "17336  https://www.rallit.com/positions/1490           더블디   \n",
       "17337  https://www.rallit.com/positions/1616            로민   \n",
       "\n",
       "                                                title  \\\n",
       "0                              Sr. Frontend Developer   \n",
       "1                              Sr. Frontend Developer   \n",
       "2      스마트컨트랙트 개발(DeFi / Lending, Crypto Dollar, DEX)   \n",
       "3                                 MES & QMS 시스템운영(개발)   \n",
       "4         [채널톡] Web (Frontend) Software Engineer 신사업팀   \n",
       "...                                               ...   \n",
       "17333                     Embedded SW개발 C++,C 개발자 모집    \n",
       "17334                    [AI음성기술전문기업] 시스템 엔지니어(신입/경력)   \n",
       "17335                                    임베디드 펌웨어 개발자   \n",
       "17336                 [더블디] ESP32 펌웨어, 회로설계 개발자 채용 공고   \n",
       "17337                                    플랫폼 개발 리드 채용   \n",
       "\n",
       "                                  primary_responsibility  \\\n",
       "0      • 포그리트의 메인 서비스(UX heatmap, Journey Map)의 신규 기능...   \n",
       "1      • 포그리트의 메인 서비스(UX heatmap, Journey Map)의 신규 기능...   \n",
       "2      • 블록체인 DeFi 서비스를 위한 스마트 컨트랙트 개발\\n• Kleva(Lendi...   \n",
       "3        • 솔루션 기반 QMS 시스템 개발 및 운영\\n• 설비 인터페이스 관리 및 오류 수정   \n",
       "4      [무엇을 만드나요?]\\n\\n신사업 앱 서비스에 들어가는 웹뷰와 고객사가 사용하는 고...   \n",
       "...                                                  ...   \n",
       "17333  . 컴퓨터 프로그래밍 언어로 각 업무에 맞는 SW의 기능에 관한 설계, 구현 및 테...   \n",
       "17334  ㆍAWS 클라우드 기반 시스템 구축 및 운영\\nㆍ서버 및 스토리지 등 시스템 구축 ...   \n",
       "17335  - Airfob Space 디바이스 Firmware 개발\\n- Embedded Li...   \n",
       "17336  - ESP32 펌웨어 및 하드웨어 개발 보조\\n- 자주 사용하는 기능 에셋화 / 모...   \n",
       "17337  • 로민 제품 개발 총괄\\n    - 설계, 관리, 스펙관리 및 기술 전략 수립\\n...   \n",
       "\n",
       "                                                required  \\\n",
       "0      • 최소 5년 이상의 웹 개발 경험 필수 ( HTML, CSS, JavaScript...   \n",
       "1      • 최소 5년 이상의 웹 개발 경험 필수 ( HTML, CSS, JavaScript...   \n",
       "2      • 관련 학과 전공 (컴퓨터 공학 / 수학 / 금융공학 등) 또는 개발 경력 1년 ...   \n",
       "3      • C#, C++ 프로그램 개발 가능\\n• Oracle 데이터베이스 활용 가능\\n•...   \n",
       "4      [이런 분을 찾고있어요] \\n• 자주 새로운 도전 과제들이 생깁니다. 가지 않은 길...   \n",
       "...                                                  ...   \n",
       "17333  . Linux 기반의 Embedded SW 개발 경험\\n. Linux 기반 Clie...   \n",
       "17334  ㆍ서버, 스토리지, 네트워크, 데이터베이스 등 시스템 기술에 대한 지식과 경험 보유...   \n",
       "17335  - 펌웨어 개발 경험 3년 이상 또는 그에 준하는 이해도를 갖추신 분\\n- Embe...   \n",
       "17336       - Python 및 C언어 사용 능숙\\n- ESP32 개발 경험 보유(우대사항)   \n",
       "17337  • 개발팀 리딩 경험이 5년 이상이신 분\\n• SaaS 서비스 또는 자체 프로덕트 ...   \n",
       "\n",
       "                                               preferred      end_at  \\\n",
       "0      • 컴퓨터공학, 전산과 관련 학위를 소지 하신 분\\n• MongoDB,  Elast...        None   \n",
       "1      • 컴퓨터공학, 전산과 관련 학위를 소지 하신 분\\n• MongoDB,  Elast...        None   \n",
       "2      • DeFi 서비스를 이용해보신 분\\n• 관련 경력 3년 이상 서비스 플랫폼 개발 ...  2023-11-10   \n",
       "3      • 관련 자격증 소지\\n• MES(생산관리), QMS(품질관리) 및 EMS(설비관리...        None   \n",
       "4                                        • 웹 뷰 경험이 있으신 분        None   \n",
       "...                                                  ...         ...   \n",
       "17333  .  Linux/ rtOS 기반 차량용 SW개발 경험\\n.  C++11/14 개발경험\\n  9999-12-31   \n",
       "17334  ㆍ3년 이상의 시스템 엔지니어링 경력 또는 해당 분야 관련 전공 학위 소지\\nㆍAW...  9999-12-31   \n",
       "17335            출입 통제, 근태 관리, 경보 시스템 또는 보안 관련 경험이 있으신 분  9999-12-31   \n",
       "17336        - Nordic, STM, ATMega 등 다양한 MCU 처리 경험(우대사항)  9999-12-31   \n",
       "17337  • 풀스택 개발 경험을 보유하신 분\\n• 디자인, 기획, 사업개발, 마케팅 등의 다...  9999-12-31   \n",
       "\n",
       "                                                  skills  \\\n",
       "0                                                     []   \n",
       "1                                                     []   \n",
       "2                                                     []   \n",
       "3                                                     []   \n",
       "4                                                     []   \n",
       "...                                                  ...   \n",
       "17333                              [C++, C, 임베디드, Linux]   \n",
       "17334                                       [Linux, AWS]   \n",
       "17335                          [임베디드, Linux, C, C++, Qt]   \n",
       "17336                                  [C, Python, 임베디드]   \n",
       "17337  [Python, FastAPI, PostgreSQL, Tensorflow, PyTo...   \n",
       "\n",
       "                                           location  \\\n",
       "0      경기도 성남시 분당구 판교역로 136 (판교역, 힐스테이트) 판매시설 1100호   \n",
       "1      경기도 성남시 분당구 판교역로 136 (판교역, 힐스테이트) 판매시설 1100호   \n",
       "2                 경기도 성남시 분당구 대왕판교로 644번길 49 위메이드타워   \n",
       "3                                전북 익산시 석암로3길 63-25   \n",
       "4                               강남구 논현로 508, GS강남타워   \n",
       "...                                             ...   \n",
       "17333                            경기 수원시 영통구 대학4로 17   \n",
       "17334                                서울 강남구 도곡로8길 6   \n",
       "17335                        경기 성남시 분당구 성남대로331번길 8   \n",
       "17336                                 대구 수성구 무열로 61   \n",
       "17337                              서울 서초구 방배천로2길 10   \n",
       "\n",
       "                                                 welfare  \\\n",
       "0      • 연 1회 건강검진 \\n• 야근 식대 지원\\n• 매년 야근 예방 접종 지원\\n• ...   \n",
       "1      • 연 1회 건강검진 \\n• 야근 식대 지원\\n• 매년 야근 예방 접종 지원\\n• ...   \n",
       "2      #조식제공 #중식제공 #건강검진 #단체보험 #사내카페 #복지카드 #요가룸 #수면실\\...   \n",
       "3      • 경조휴가 및 경조금 지원, 장기근속 포상, 우수사원 포상\\n• 고등학교/대학교 ...   \n",
       "4      [이렇게 대우합니다]\\n• 채널팀은 의미 있는 성과를 낸 멤버에게 '업계 최고'의 ...   \n",
       "...                                                  ...   \n",
       "17333  WORK & LIFE\\n• 근태: '금요일 12시 퇴근! 오전 10시 출근!'내 맘...   \n",
       "17334  [근무환경]\\n ㆍPC 및 듀얼모니터 제공\\n ㆍ유연근무제 (근무 시간을 선택해서 ...   \n",
       "17335  효율적인 업무 집중을 위해\\n- 주 4.5일 근무제(매 주 금요일 4시간 30분 근...   \n",
       "17336  - 1달에 1권씩 도서구입을 지원해요.\\n- 점심식사를 무료 제공해요.\\n- 간식(...   \n",
       "17337  1. 자율과 책임에 근거한 근무 환경을 제공합니다.\\n\\n   • 재택근무 제도\\n...   \n",
       "\n",
       "                                                    body  \\\n",
       "0                                                          \n",
       "1                                                          \n",
       "2                                                          \n",
       "3                                                          \n",
       "4                                                          \n",
       "...                                                  ...   \n",
       "17333                                 차량용 SW개발자를 모집합니다.    \n",
       "17334    시스템 보안 및 안정성을 유지하고 개선하기 위하여 설계 및 구축 등의 역할을 합니다.   \n",
       "17335  출입통제 시스템의 불편함을 해결하기 위해 최초의 100% 클라우드 기반 모바일 출입...   \n",
       "17336  하드웨어 / 펌웨어 개발자 - 1명 모집\\n자세한 내용은 file.pillowstu...   \n",
       "17337  국내 주요 금융사들이 앞다투어 사용하고 있는 인공지능(AI) 문서인식 솔루션을 제공...   \n",
       "\n",
       "                                     company_description  \\\n",
       "0      [조직소개]\\n포그리트는 고객의 형태를 빅데이터로 재구성하여, 그로스 해킹을 돕는 ...   \n",
       "1      [조직소개]\\n포그리트는 고객의 형태를 빅데이터로 재구성하여, 그로스 해킹을 돕는 ...   \n",
       "2      위메이드는 20여 년간 게임업계에서 활약해 왔습니다.\\n\\n미르4를 성공적으로 출시...   \n",
       "3      일진그룹의 Total IT Solution 회사인 일진씨앤에스에서 경력사원을 채용합니다.   \n",
       "4      [어떤 팀인가요?]\\n\\n채널코퍼레이션은 고객과 브랜드 사이의 문제를 찾고 해결하고...   \n",
       "...                                                  ...   \n",
       "17333  \"Future mobility SW in vehicle\" \\n- 차량에 탑재되는 소...   \n",
       "17334  '라피치'는 AI 음성기술의 오랜 연구개발과 기술력을 바탕으로\\n현재 화자인증 시스...   \n",
       "17335  출입통제 시스템의 불편함을 해결하기 위해 최초의 100% 클라우드 기반 모바일 출입...   \n",
       "17336  더블디는 디자인/개발/운영 능력이 부족한 스타트업의 든든한 서포터 역할을 수행합니다...   \n",
       "17337  [로민 회사 소개]\\n\\n로민(Lomin)은 컴퓨터비전 및 자연어처리 등 인공지능 ...   \n",
       "\n",
       "                      coordinate  \n",
       "0       [37.3920843, 127.109167]  \n",
       "1       [37.3920843, 127.109167]  \n",
       "2      [37.4014343, 127.1122219]  \n",
       "3      [35.9540045, 127.0010682]  \n",
       "4      [37.5018187, 127.0370947]  \n",
       "...                          ...  \n",
       "17333  [37.3001653, 127.0467106]  \n",
       "17334   [37.490147, 127.0350462]  \n",
       "17335  [37.3659481, 127.1066323]  \n",
       "17336  [35.8639979, 128.6489799]  \n",
       "17337  [37.4767608, 126.9833178]  \n",
       "\n",
       "[17338 rows x 16 columns]"
      ]
     },
     "execution_count": 111,
     "metadata": {},
     "output_type": "execute_result"
    }
   ],
   "source": [
    "df_final.toPandas()"
   ]
  },
  {
   "cell_type": "code",
   "execution_count": 35,
   "id": "bb3809a1-e464-45cc-8a5f-41ad144a0954",
   "metadata": {
    "tags": []
   },
   "outputs": [
    {
     "name": "stdout",
     "output_type": "stream",
     "text": [
      "root\n",
      " |-- job_id: string (nullable = true)\n",
      " |-- platform: string (nullable = true)\n",
      " |-- category: string (nullable = true)\n",
      " |-- url: string (nullable = true)\n",
      " |-- company: string (nullable = true)\n",
      " |-- title: string (nullable = true)\n",
      " |-- primary_responsibility: string (nullable = true)\n",
      " |-- required: string (nullable = true)\n",
      " |-- preferred: string (nullable = true)\n",
      " |-- end_at: string (nullable = true)\n",
      " |-- skills: array (nullable = true)\n",
      " |    |-- element: string (containsNull = true)\n",
      " |-- location: string (nullable = true)\n",
      " |-- welfare: string (nullable = true)\n",
      " |-- body: string (nullable = true)\n",
      " |-- company_description: string (nullable = true)\n",
      " |-- coordinate: array (nullable = true)\n",
      " |    |-- element: double (containsNull = true)\n",
      "\n"
     ]
    }
   ],
   "source": [
    "df_final.printSchema()"
   ]
  },
  {
   "cell_type": "code",
   "execution_count": 36,
   "id": "6bfe000b-4425-4e18-b965-dea721df3cfd",
   "metadata": {
    "tags": []
   },
   "outputs": [
    {
     "data": {
      "text/plain": [
       "4"
      ]
     },
     "execution_count": 36,
     "metadata": {},
     "output_type": "execute_result"
    }
   ],
   "source": [
    "df_final.rdd.getNumPartitions()"
   ]
  },
  {
   "cell_type": "markdown",
   "id": "5f8aa7c0-2581-4ced-a35c-a5bef60b8836",
   "metadata": {},
   "source": [
    "## 데이터 정제"
   ]
  },
  {
   "cell_type": "markdown",
   "id": "8667f53e-fee4-4761-9c83-8a8c7bee0bda",
   "metadata": {},
   "source": [
    "### 중복 컬럼 확인하기"
   ]
  },
  {
   "cell_type": "code",
   "execution_count": 42,
   "id": "d6054640-e8ee-4e3a-82ba-c7362ec5a1a8",
   "metadata": {
    "tags": []
   },
   "outputs": [],
   "source": [
    "from pyspark.sql.functions import col"
   ]
  },
  {
   "cell_type": "code",
   "execution_count": 43,
   "id": "b328632c-ac43-431b-b9a8-fcc9f14064f0",
   "metadata": {
    "tags": []
   },
   "outputs": [],
   "source": [
    "# Finding duplicates based on job_id\n",
    "duplicates = df_final.filter(col(\"job_id\")\n",
    "                             .isin(df_final.groupBy(\"job_id\")\n",
    "                                   .count().filter(\"count > 1\")\n",
    "                                   .select(\"job_id\")\n",
    "                                   .rdd.flatMap(lambda x: x)\n",
    "                                   .collect()))"
   ]
  },
  {
   "cell_type": "code",
   "execution_count": 44,
   "id": "656235d5-68c5-4a92-9c42-6ebf7fc0e4ba",
   "metadata": {
    "tags": []
   },
   "outputs": [],
   "source": [
    "# Finding duplicates based on job_id and company\n",
    "new_duplicates = df_final.filter((col(\"job_id\") + col(\"company\"))\n",
    "                                 .isin(df_final.groupBy(\"job_id\", \"company\")\n",
    "                                       .count()\n",
    "                                       .filter(\"count > 1\")\n",
    "                                       .select((col(\"job_id\") + col(\"company\"))\n",
    "                                               .alias(\"combined\"))\n",
    "                                       .rdd.flatMap(lambda x: x)\n",
    "                                       .collect()))"
   ]
  },
  {
   "cell_type": "code",
   "execution_count": 41,
   "id": "13a83773-1460-499a-8ea5-4928f2ad6f5a",
   "metadata": {
    "tags": []
   },
   "outputs": [],
   "source": [
    "# Sorting duplicates by job_id\n",
    "duplicates = duplicates.orderBy(\"job_id\")"
   ]
  },
  {
   "cell_type": "code",
   "execution_count": 47,
   "id": "47e7ee42-db59-43f1-b694-889eeff1cf0d",
   "metadata": {
    "scrolled": true,
    "tags": []
   },
   "outputs": [
    {
     "data": {
      "text/plain": [
       "DataFrame[job_id: string, platform: string, category: string, url: string, company: string, title: string, primary_responsibility: string, required: string, preferred: string, end_at: string, skills: array<string>, location: string, welfare: string, body: string, company_description: string, coordinate: array<double>]"
      ]
     },
     "execution_count": 47,
     "metadata": {},
     "output_type": "execute_result"
    }
   ],
   "source": [
    "duplicates"
   ]
  },
  {
   "cell_type": "code",
   "execution_count": 110,
   "id": "2e2e0dd0-4eee-493c-b67f-0e9a9cbb1e13",
   "metadata": {
    "tags": []
   },
   "outputs": [
    {
     "data": {
      "text/html": [
       "<div>\n",
       "<style scoped>\n",
       "    .dataframe tbody tr th:only-of-type {\n",
       "        vertical-align: middle;\n",
       "    }\n",
       "\n",
       "    .dataframe tbody tr th {\n",
       "        vertical-align: top;\n",
       "    }\n",
       "\n",
       "    .dataframe thead th {\n",
       "        text-align: right;\n",
       "    }\n",
       "</style>\n",
       "<table border=\"1\" class=\"dataframe\">\n",
       "  <thead>\n",
       "    <tr style=\"text-align: right;\">\n",
       "      <th></th>\n",
       "      <th>job_id</th>\n",
       "      <th>platform</th>\n",
       "      <th>category</th>\n",
       "      <th>url</th>\n",
       "      <th>company</th>\n",
       "      <th>title</th>\n",
       "      <th>primary_responsibility</th>\n",
       "      <th>required</th>\n",
       "      <th>preferred</th>\n",
       "      <th>end_at</th>\n",
       "      <th>skills</th>\n",
       "      <th>location</th>\n",
       "      <th>welfare</th>\n",
       "      <th>body</th>\n",
       "      <th>company_description</th>\n",
       "      <th>coordinate</th>\n",
       "    </tr>\n",
       "  </thead>\n",
       "  <tbody>\n",
       "    <tr>\n",
       "      <th>0</th>\n",
       "      <td>175689</td>\n",
       "      <td>wanted</td>\n",
       "      <td>웹 개발자</td>\n",
       "      <td>https://www.wanted.co.kr/wd/175689</td>\n",
       "      <td>포그리트</td>\n",
       "      <td>Sr. Frontend Developer</td>\n",
       "      <td>• 포그리트의 메인 서비스(UX heatmap, Journey Map)의 신규 기능...</td>\n",
       "      <td>• 최소 5년 이상의 웹 개발 경험 필수 ( HTML, CSS, JavaScript...</td>\n",
       "      <td>• 컴퓨터공학, 전산과 관련 학위를 소지 하신 분\\n• MongoDB,  Elast...</td>\n",
       "      <td>None</td>\n",
       "      <td>[]</td>\n",
       "      <td>경기도 성남시 분당구 판교역로 136 (판교역, 힐스테이트) 판매시설 1100호</td>\n",
       "      <td>• 연 1회 건강검진 \\n• 야근 식대 지원\\n• 매년 야근 예방 접종 지원\\n• ...</td>\n",
       "      <td></td>\n",
       "      <td>[조직소개]\\n포그리트는 고객의 형태를 빅데이터로 재구성하여, 그로스 해킹을 돕는 ...</td>\n",
       "      <td>[37.3920843, 127.109167]</td>\n",
       "    </tr>\n",
       "    <tr>\n",
       "      <th>1</th>\n",
       "      <td>175689</td>\n",
       "      <td>wanted</td>\n",
       "      <td>웹 개발자</td>\n",
       "      <td>https://www.wanted.co.kr/wd/175689</td>\n",
       "      <td>포그리트</td>\n",
       "      <td>Sr. Frontend Developer</td>\n",
       "      <td>• 포그리트의 메인 서비스(UX heatmap, Journey Map)의 신규 기능...</td>\n",
       "      <td>• 최소 5년 이상의 웹 개발 경험 필수 ( HTML, CSS, JavaScript...</td>\n",
       "      <td>• 컴퓨터공학, 전산과 관련 학위를 소지 하신 분\\n• MongoDB,  Elast...</td>\n",
       "      <td>None</td>\n",
       "      <td>[]</td>\n",
       "      <td>경기도 성남시 분당구 판교역로 136 (판교역, 힐스테이트) 판매시설 1100호</td>\n",
       "      <td>• 연 1회 건강검진 \\n• 야근 식대 지원\\n• 매년 야근 예방 접종 지원\\n• ...</td>\n",
       "      <td></td>\n",
       "      <td>[조직소개]\\n포그리트는 고객의 형태를 빅데이터로 재구성하여, 그로스 해킹을 돕는 ...</td>\n",
       "      <td>[37.3920843, 127.109167]</td>\n",
       "    </tr>\n",
       "    <tr>\n",
       "      <th>2</th>\n",
       "      <td>175657</td>\n",
       "      <td>wanted</td>\n",
       "      <td>웹 개발자</td>\n",
       "      <td>https://www.wanted.co.kr/wd/175657</td>\n",
       "      <td>위메이드(WEMADE)</td>\n",
       "      <td>스마트컨트랙트 개발(DeFi / Lending, Crypto Dollar, DEX)</td>\n",
       "      <td>• 블록체인 DeFi 서비스를 위한 스마트 컨트랙트 개발\\n• Kleva(Lendi...</td>\n",
       "      <td>• 관련 학과 전공 (컴퓨터 공학 / 수학 / 금융공학 등) 또는 개발 경력 1년 ...</td>\n",
       "      <td>• DeFi 서비스를 이용해보신 분\\n• 관련 경력 3년 이상 서비스 플랫폼 개발 ...</td>\n",
       "      <td>2023-11-10</td>\n",
       "      <td>[]</td>\n",
       "      <td>경기도 성남시 분당구 대왕판교로 644번길 49 위메이드타워</td>\n",
       "      <td>#조식제공 #중식제공 #건강검진 #단체보험 #사내카페 #복지카드 #요가룸 #수면실\\...</td>\n",
       "      <td></td>\n",
       "      <td>위메이드는 20여 년간 게임업계에서 활약해 왔습니다.\\n\\n미르4를 성공적으로 출시...</td>\n",
       "      <td>[37.4014343, 127.1122219]</td>\n",
       "    </tr>\n",
       "    <tr>\n",
       "      <th>3</th>\n",
       "      <td>175550</td>\n",
       "      <td>wanted</td>\n",
       "      <td>웹 개발자</td>\n",
       "      <td>https://www.wanted.co.kr/wd/175550</td>\n",
       "      <td>일진씨앤에스</td>\n",
       "      <td>MES &amp; QMS 시스템운영(개발)</td>\n",
       "      <td>• 솔루션 기반 QMS 시스템 개발 및 운영\\n• 설비 인터페이스 관리 및 오류 수정</td>\n",
       "      <td>• C#, C++ 프로그램 개발 가능\\n• Oracle 데이터베이스 활용 가능\\n•...</td>\n",
       "      <td>• 관련 자격증 소지\\n• MES(생산관리), QMS(품질관리) 및 EMS(설비관리...</td>\n",
       "      <td>None</td>\n",
       "      <td>[]</td>\n",
       "      <td>전북 익산시 석암로3길 63-25</td>\n",
       "      <td>• 경조휴가 및 경조금 지원, 장기근속 포상, 우수사원 포상\\n• 고등학교/대학교 ...</td>\n",
       "      <td></td>\n",
       "      <td>일진그룹의 Total IT Solution 회사인 일진씨앤에스에서 경력사원을 채용합니다.</td>\n",
       "      <td>[35.9540045, 127.0010682]</td>\n",
       "    </tr>\n",
       "    <tr>\n",
       "      <th>4</th>\n",
       "      <td>175408</td>\n",
       "      <td>wanted</td>\n",
       "      <td>웹 개발자</td>\n",
       "      <td>https://www.wanted.co.kr/wd/175408</td>\n",
       "      <td>채널코퍼레이션</td>\n",
       "      <td>[채널톡] Web (Frontend) Software Engineer 신사업팀</td>\n",
       "      <td>[무엇을 만드나요?]\\n\\n신사업 앱 서비스에 들어가는 웹뷰와 고객사가 사용하는 고...</td>\n",
       "      <td>[이런 분을 찾고있어요] \\n• 자주 새로운 도전 과제들이 생깁니다. 가지 않은 길...</td>\n",
       "      <td>• 웹 뷰 경험이 있으신 분</td>\n",
       "      <td>None</td>\n",
       "      <td>[]</td>\n",
       "      <td>강남구 논현로 508, GS강남타워</td>\n",
       "      <td>[이렇게 대우합니다]\\n• 채널팀은 의미 있는 성과를 낸 멤버에게 '업계 최고'의 ...</td>\n",
       "      <td></td>\n",
       "      <td>[어떤 팀인가요?]\\n\\n채널코퍼레이션은 고객과 브랜드 사이의 문제를 찾고 해결하고...</td>\n",
       "      <td>[37.5018187, 127.0370947]</td>\n",
       "    </tr>\n",
       "    <tr>\n",
       "      <th>...</th>\n",
       "      <td>...</td>\n",
       "      <td>...</td>\n",
       "      <td>...</td>\n",
       "      <td>...</td>\n",
       "      <td>...</td>\n",
       "      <td>...</td>\n",
       "      <td>...</td>\n",
       "      <td>...</td>\n",
       "      <td>...</td>\n",
       "      <td>...</td>\n",
       "      <td>...</td>\n",
       "      <td>...</td>\n",
       "      <td>...</td>\n",
       "      <td>...</td>\n",
       "      <td>...</td>\n",
       "      <td>...</td>\n",
       "    </tr>\n",
       "    <tr>\n",
       "      <th>13373</th>\n",
       "      <td>1734</td>\n",
       "      <td>rallit</td>\n",
       "      <td>HARDWARE_EMBEDDED_ENGINEER</td>\n",
       "      <td>https://www.rallit.com/positions/1734</td>\n",
       "      <td>주식회사 모빌테크</td>\n",
       "      <td>센서 융합 연구원 (신입/경력)</td>\n",
       "      <td>ㆍ센서 시스템 및 맵핑 시스템 셋업\\nㆍ센서 데이터 (Camera, LiDAR, G...</td>\n",
       "      <td>ㆍC / C++ Programming\\nㆍROS Programming\\nㆍLinux...</td>\n",
       "      <td>ㆍ네트워크에 대한 이해도가 있으신 분\\nㆍ센서 활용 경험\\n  - (LiDAR, G...</td>\n",
       "      <td>9999-12-31</td>\n",
       "      <td>[C, C++, Linux]</td>\n",
       "      <td>서울 서초구 마방로4길 16-9</td>\n",
       "      <td>**자율적인 회사 문화**\\n- 출퇴근 시간을 내맘대로! 주 40시간 근무와 팀별 ...</td>\n",
       "      <td>----------------------------------------------...</td>\n",
       "      <td>모빌테크는 AI를 기반으로 3D 공간 정보를 다루는 스타트업입니다.\\n공간을 있는 ...</td>\n",
       "      <td>[37.4733296, 127.0407797]</td>\n",
       "    </tr>\n",
       "    <tr>\n",
       "      <th>13374</th>\n",
       "      <td>970</td>\n",
       "      <td>rallit</td>\n",
       "      <td>HARDWARE_EMBEDDED_ENGINEER</td>\n",
       "      <td>https://www.rallit.com/positions/970</td>\n",
       "      <td>(주)아이비스</td>\n",
       "      <td>Embedded SW개발 C++,C 개발자 모집</td>\n",
       "      <td>. 컴퓨터 프로그래밍 언어로 각 업무에 맞는 SW의 기능에 관한 설계, 구현 및 테...</td>\n",
       "      <td>. Linux 기반의 Embedded SW 개발 경험\\n. Linux 기반 Clie...</td>\n",
       "      <td>.  Linux/ rtOS 기반 차량용 SW개발 경험\\n.  C++11/14 개발경험\\n</td>\n",
       "      <td>9999-12-31</td>\n",
       "      <td>[C++, C, 임베디드, Linux]</td>\n",
       "      <td>경기 수원시 영통구 대학4로 17</td>\n",
       "      <td>WORK &amp; LIFE\\n• 근태: '금요일 12시 퇴근! 오전 10시 출근!'내 맘...</td>\n",
       "      <td>차량용 SW개발자를 모집합니다.</td>\n",
       "      <td>\"Future mobility SW in vehicle\" \\n- 차량에 탑재되는 소...</td>\n",
       "      <td>[37.3001653, 127.0467106]</td>\n",
       "    </tr>\n",
       "    <tr>\n",
       "      <th>13375</th>\n",
       "      <td>1633</td>\n",
       "      <td>rallit</td>\n",
       "      <td>HARDWARE_EMBEDDED_ENGINEER</td>\n",
       "      <td>https://www.rallit.com/positions/1633</td>\n",
       "      <td>(주)라피치</td>\n",
       "      <td>[AI음성기술전문기업] 시스템 엔지니어(신입/경력)</td>\n",
       "      <td>ㆍAWS 클라우드 기반 시스템 구축 및 운영\\nㆍ서버 및 스토리지 등 시스템 구축 ...</td>\n",
       "      <td>ㆍ서버, 스토리지, 네트워크, 데이터베이스 등 시스템 기술에 대한 지식과 경험 보유...</td>\n",
       "      <td>ㆍ3년 이상의 시스템 엔지니어링 경력 또는 해당 분야 관련 전공 학위 소지\\nㆍAW...</td>\n",
       "      <td>9999-12-31</td>\n",
       "      <td>[Linux, AWS]</td>\n",
       "      <td>서울 강남구 도곡로8길 6</td>\n",
       "      <td>[근무환경]\\n ㆍPC 및 듀얼모니터 제공\\n ㆍ유연근무제 (근무 시간을 선택해서 ...</td>\n",
       "      <td>시스템 보안 및 안정성을 유지하고 개선하기 위하여 설계 및 구축 등의 역할을 합니다.</td>\n",
       "      <td>'라피치'는 AI 음성기술의 오랜 연구개발과 기술력을 바탕으로\\n현재 화자인증 시스...</td>\n",
       "      <td>[37.490147, 127.0350462]</td>\n",
       "    </tr>\n",
       "    <tr>\n",
       "      <th>13376</th>\n",
       "      <td>771</td>\n",
       "      <td>rallit</td>\n",
       "      <td>HARDWARE_EMBEDDED_ENGINEER</td>\n",
       "      <td>https://www.rallit.com/positions/771</td>\n",
       "      <td>(주)모카시스템</td>\n",
       "      <td>임베디드 펌웨어 개발자</td>\n",
       "      <td>- Airfob Space 디바이스 Firmware 개발\\n- Embedded Li...</td>\n",
       "      <td>- 펌웨어 개발 경험 3년 이상 또는 그에 준하는 이해도를 갖추신 분\\n- Embe...</td>\n",
       "      <td>출입 통제, 근태 관리, 경보 시스템 또는 보안 관련 경험이 있으신 분</td>\n",
       "      <td>9999-12-31</td>\n",
       "      <td>[임베디드, Linux, C, C++, Qt]</td>\n",
       "      <td>경기 성남시 분당구 성남대로331번길 8</td>\n",
       "      <td>효율적인 업무 집중을 위해\\n- 주 4.5일 근무제(매 주 금요일 4시간 30분 근...</td>\n",
       "      <td>출입통제 시스템의 불편함을 해결하기 위해 최초의 100% 클라우드 기반 모바일 출입...</td>\n",
       "      <td>출입통제 시스템의 불편함을 해결하기 위해 최초의 100% 클라우드 기반 모바일 출입...</td>\n",
       "      <td>[37.3659481, 127.1066323]</td>\n",
       "    </tr>\n",
       "    <tr>\n",
       "      <th>13377</th>\n",
       "      <td>1616</td>\n",
       "      <td>rallit</td>\n",
       "      <td>AGILE_SCRUM_MASTER</td>\n",
       "      <td>https://www.rallit.com/positions/1616</td>\n",
       "      <td>로민</td>\n",
       "      <td>플랫폼 개발 리드 채용</td>\n",
       "      <td>• 로민 제품 개발 총괄\\n    - 설계, 관리, 스펙관리 및 기술 전략 수립\\n...</td>\n",
       "      <td>• 개발팀 리딩 경험이 5년 이상이신 분\\n• SaaS 서비스 또는 자체 프로덕트 ...</td>\n",
       "      <td>• 풀스택 개발 경험을 보유하신 분\\n• 디자인, 기획, 사업개발, 마케팅 등의 다...</td>\n",
       "      <td>9999-12-31</td>\n",
       "      <td>[Python, FastAPI, PostgreSQL, Tensorflow, PyTo...</td>\n",
       "      <td>서울 서초구 방배천로2길 10</td>\n",
       "      <td>1. 자율과 책임에 근거한 근무 환경을 제공합니다.\\n\\n   • 재택근무 제도\\n...</td>\n",
       "      <td>국내 주요 금융사들이 앞다투어 사용하고 있는 인공지능(AI) 문서인식 솔루션을 제공...</td>\n",
       "      <td>[로민 회사 소개]\\n\\n로민(Lomin)은 컴퓨터비전 및 자연어처리 등 인공지능 ...</td>\n",
       "      <td>[37.4767608, 126.9833178]</td>\n",
       "    </tr>\n",
       "  </tbody>\n",
       "</table>\n",
       "<p>13378 rows × 16 columns</p>\n",
       "</div>"
      ],
      "text/plain": [
       "       job_id platform                    category  \\\n",
       "0      175689   wanted                       웹 개발자   \n",
       "1      175689   wanted                       웹 개발자   \n",
       "2      175657   wanted                       웹 개발자   \n",
       "3      175550   wanted                       웹 개발자   \n",
       "4      175408   wanted                       웹 개발자   \n",
       "...       ...      ...                         ...   \n",
       "13373    1734   rallit  HARDWARE_EMBEDDED_ENGINEER   \n",
       "13374     970   rallit  HARDWARE_EMBEDDED_ENGINEER   \n",
       "13375    1633   rallit  HARDWARE_EMBEDDED_ENGINEER   \n",
       "13376     771   rallit  HARDWARE_EMBEDDED_ENGINEER   \n",
       "13377    1616   rallit          AGILE_SCRUM_MASTER   \n",
       "\n",
       "                                         url       company  \\\n",
       "0         https://www.wanted.co.kr/wd/175689          포그리트   \n",
       "1         https://www.wanted.co.kr/wd/175689          포그리트   \n",
       "2         https://www.wanted.co.kr/wd/175657  위메이드(WEMADE)   \n",
       "3         https://www.wanted.co.kr/wd/175550        일진씨앤에스   \n",
       "4         https://www.wanted.co.kr/wd/175408       채널코퍼레이션   \n",
       "...                                      ...           ...   \n",
       "13373  https://www.rallit.com/positions/1734     주식회사 모빌테크   \n",
       "13374   https://www.rallit.com/positions/970       (주)아이비스   \n",
       "13375  https://www.rallit.com/positions/1633        (주)라피치   \n",
       "13376   https://www.rallit.com/positions/771      (주)모카시스템   \n",
       "13377  https://www.rallit.com/positions/1616            로민   \n",
       "\n",
       "                                                title  \\\n",
       "0                              Sr. Frontend Developer   \n",
       "1                              Sr. Frontend Developer   \n",
       "2      스마트컨트랙트 개발(DeFi / Lending, Crypto Dollar, DEX)   \n",
       "3                                 MES & QMS 시스템운영(개발)   \n",
       "4         [채널톡] Web (Frontend) Software Engineer 신사업팀   \n",
       "...                                               ...   \n",
       "13373                               센서 융합 연구원 (신입/경력)   \n",
       "13374                     Embedded SW개발 C++,C 개발자 모집    \n",
       "13375                    [AI음성기술전문기업] 시스템 엔지니어(신입/경력)   \n",
       "13376                                    임베디드 펌웨어 개발자   \n",
       "13377                                    플랫폼 개발 리드 채용   \n",
       "\n",
       "                                  primary_responsibility  \\\n",
       "0      • 포그리트의 메인 서비스(UX heatmap, Journey Map)의 신규 기능...   \n",
       "1      • 포그리트의 메인 서비스(UX heatmap, Journey Map)의 신규 기능...   \n",
       "2      • 블록체인 DeFi 서비스를 위한 스마트 컨트랙트 개발\\n• Kleva(Lendi...   \n",
       "3        • 솔루션 기반 QMS 시스템 개발 및 운영\\n• 설비 인터페이스 관리 및 오류 수정   \n",
       "4      [무엇을 만드나요?]\\n\\n신사업 앱 서비스에 들어가는 웹뷰와 고객사가 사용하는 고...   \n",
       "...                                                  ...   \n",
       "13373  ㆍ센서 시스템 및 맵핑 시스템 셋업\\nㆍ센서 데이터 (Camera, LiDAR, G...   \n",
       "13374  . 컴퓨터 프로그래밍 언어로 각 업무에 맞는 SW의 기능에 관한 설계, 구현 및 테...   \n",
       "13375  ㆍAWS 클라우드 기반 시스템 구축 및 운영\\nㆍ서버 및 스토리지 등 시스템 구축 ...   \n",
       "13376  - Airfob Space 디바이스 Firmware 개발\\n- Embedded Li...   \n",
       "13377  • 로민 제품 개발 총괄\\n    - 설계, 관리, 스펙관리 및 기술 전략 수립\\n...   \n",
       "\n",
       "                                                required  \\\n",
       "0      • 최소 5년 이상의 웹 개발 경험 필수 ( HTML, CSS, JavaScript...   \n",
       "1      • 최소 5년 이상의 웹 개발 경험 필수 ( HTML, CSS, JavaScript...   \n",
       "2      • 관련 학과 전공 (컴퓨터 공학 / 수학 / 금융공학 등) 또는 개발 경력 1년 ...   \n",
       "3      • C#, C++ 프로그램 개발 가능\\n• Oracle 데이터베이스 활용 가능\\n•...   \n",
       "4      [이런 분을 찾고있어요] \\n• 자주 새로운 도전 과제들이 생깁니다. 가지 않은 길...   \n",
       "...                                                  ...   \n",
       "13373  ㆍC / C++ Programming\\nㆍROS Programming\\nㆍLinux...   \n",
       "13374  . Linux 기반의 Embedded SW 개발 경험\\n. Linux 기반 Clie...   \n",
       "13375  ㆍ서버, 스토리지, 네트워크, 데이터베이스 등 시스템 기술에 대한 지식과 경험 보유...   \n",
       "13376  - 펌웨어 개발 경험 3년 이상 또는 그에 준하는 이해도를 갖추신 분\\n- Embe...   \n",
       "13377  • 개발팀 리딩 경험이 5년 이상이신 분\\n• SaaS 서비스 또는 자체 프로덕트 ...   \n",
       "\n",
       "                                               preferred      end_at  \\\n",
       "0      • 컴퓨터공학, 전산과 관련 학위를 소지 하신 분\\n• MongoDB,  Elast...        None   \n",
       "1      • 컴퓨터공학, 전산과 관련 학위를 소지 하신 분\\n• MongoDB,  Elast...        None   \n",
       "2      • DeFi 서비스를 이용해보신 분\\n• 관련 경력 3년 이상 서비스 플랫폼 개발 ...  2023-11-10   \n",
       "3      • 관련 자격증 소지\\n• MES(생산관리), QMS(품질관리) 및 EMS(설비관리...        None   \n",
       "4                                        • 웹 뷰 경험이 있으신 분        None   \n",
       "...                                                  ...         ...   \n",
       "13373  ㆍ네트워크에 대한 이해도가 있으신 분\\nㆍ센서 활용 경험\\n  - (LiDAR, G...  9999-12-31   \n",
       "13374  .  Linux/ rtOS 기반 차량용 SW개발 경험\\n.  C++11/14 개발경험\\n  9999-12-31   \n",
       "13375  ㆍ3년 이상의 시스템 엔지니어링 경력 또는 해당 분야 관련 전공 학위 소지\\nㆍAW...  9999-12-31   \n",
       "13376            출입 통제, 근태 관리, 경보 시스템 또는 보안 관련 경험이 있으신 분  9999-12-31   \n",
       "13377  • 풀스택 개발 경험을 보유하신 분\\n• 디자인, 기획, 사업개발, 마케팅 등의 다...  9999-12-31   \n",
       "\n",
       "                                                  skills  \\\n",
       "0                                                     []   \n",
       "1                                                     []   \n",
       "2                                                     []   \n",
       "3                                                     []   \n",
       "4                                                     []   \n",
       "...                                                  ...   \n",
       "13373                                    [C, C++, Linux]   \n",
       "13374                              [C++, C, 임베디드, Linux]   \n",
       "13375                                       [Linux, AWS]   \n",
       "13376                          [임베디드, Linux, C, C++, Qt]   \n",
       "13377  [Python, FastAPI, PostgreSQL, Tensorflow, PyTo...   \n",
       "\n",
       "                                           location  \\\n",
       "0      경기도 성남시 분당구 판교역로 136 (판교역, 힐스테이트) 판매시설 1100호   \n",
       "1      경기도 성남시 분당구 판교역로 136 (판교역, 힐스테이트) 판매시설 1100호   \n",
       "2                 경기도 성남시 분당구 대왕판교로 644번길 49 위메이드타워   \n",
       "3                                전북 익산시 석암로3길 63-25   \n",
       "4                               강남구 논현로 508, GS강남타워   \n",
       "...                                             ...   \n",
       "13373                             서울 서초구 마방로4길 16-9   \n",
       "13374                            경기 수원시 영통구 대학4로 17   \n",
       "13375                                서울 강남구 도곡로8길 6   \n",
       "13376                        경기 성남시 분당구 성남대로331번길 8   \n",
       "13377                              서울 서초구 방배천로2길 10   \n",
       "\n",
       "                                                 welfare  \\\n",
       "0      • 연 1회 건강검진 \\n• 야근 식대 지원\\n• 매년 야근 예방 접종 지원\\n• ...   \n",
       "1      • 연 1회 건강검진 \\n• 야근 식대 지원\\n• 매년 야근 예방 접종 지원\\n• ...   \n",
       "2      #조식제공 #중식제공 #건강검진 #단체보험 #사내카페 #복지카드 #요가룸 #수면실\\...   \n",
       "3      • 경조휴가 및 경조금 지원, 장기근속 포상, 우수사원 포상\\n• 고등학교/대학교 ...   \n",
       "4      [이렇게 대우합니다]\\n• 채널팀은 의미 있는 성과를 낸 멤버에게 '업계 최고'의 ...   \n",
       "...                                                  ...   \n",
       "13373  **자율적인 회사 문화**\\n- 출퇴근 시간을 내맘대로! 주 40시간 근무와 팀별 ...   \n",
       "13374  WORK & LIFE\\n• 근태: '금요일 12시 퇴근! 오전 10시 출근!'내 맘...   \n",
       "13375  [근무환경]\\n ㆍPC 및 듀얼모니터 제공\\n ㆍ유연근무제 (근무 시간을 선택해서 ...   \n",
       "13376  효율적인 업무 집중을 위해\\n- 주 4.5일 근무제(매 주 금요일 4시간 30분 근...   \n",
       "13377  1. 자율과 책임에 근거한 근무 환경을 제공합니다.\\n\\n   • 재택근무 제도\\n...   \n",
       "\n",
       "                                                    body  \\\n",
       "0                                                          \n",
       "1                                                          \n",
       "2                                                          \n",
       "3                                                          \n",
       "4                                                          \n",
       "...                                                  ...   \n",
       "13373  ----------------------------------------------...   \n",
       "13374                                 차량용 SW개발자를 모집합니다.    \n",
       "13375    시스템 보안 및 안정성을 유지하고 개선하기 위하여 설계 및 구축 등의 역할을 합니다.   \n",
       "13376  출입통제 시스템의 불편함을 해결하기 위해 최초의 100% 클라우드 기반 모바일 출입...   \n",
       "13377  국내 주요 금융사들이 앞다투어 사용하고 있는 인공지능(AI) 문서인식 솔루션을 제공...   \n",
       "\n",
       "                                     company_description  \\\n",
       "0      [조직소개]\\n포그리트는 고객의 형태를 빅데이터로 재구성하여, 그로스 해킹을 돕는 ...   \n",
       "1      [조직소개]\\n포그리트는 고객의 형태를 빅데이터로 재구성하여, 그로스 해킹을 돕는 ...   \n",
       "2      위메이드는 20여 년간 게임업계에서 활약해 왔습니다.\\n\\n미르4를 성공적으로 출시...   \n",
       "3      일진그룹의 Total IT Solution 회사인 일진씨앤에스에서 경력사원을 채용합니다.   \n",
       "4      [어떤 팀인가요?]\\n\\n채널코퍼레이션은 고객과 브랜드 사이의 문제를 찾고 해결하고...   \n",
       "...                                                  ...   \n",
       "13373  모빌테크는 AI를 기반으로 3D 공간 정보를 다루는 스타트업입니다.\\n공간을 있는 ...   \n",
       "13374  \"Future mobility SW in vehicle\" \\n- 차량에 탑재되는 소...   \n",
       "13375  '라피치'는 AI 음성기술의 오랜 연구개발과 기술력을 바탕으로\\n현재 화자인증 시스...   \n",
       "13376  출입통제 시스템의 불편함을 해결하기 위해 최초의 100% 클라우드 기반 모바일 출입...   \n",
       "13377  [로민 회사 소개]\\n\\n로민(Lomin)은 컴퓨터비전 및 자연어처리 등 인공지능 ...   \n",
       "\n",
       "                      coordinate  \n",
       "0       [37.3920843, 127.109167]  \n",
       "1       [37.3920843, 127.109167]  \n",
       "2      [37.4014343, 127.1122219]  \n",
       "3      [35.9540045, 127.0010682]  \n",
       "4      [37.5018187, 127.0370947]  \n",
       "...                          ...  \n",
       "13373  [37.4733296, 127.0407797]  \n",
       "13374  [37.3001653, 127.0467106]  \n",
       "13375   [37.490147, 127.0350462]  \n",
       "13376  [37.3659481, 127.1066323]  \n",
       "13377  [37.4767608, 126.9833178]  \n",
       "\n",
       "[13378 rows x 16 columns]"
      ]
     },
     "execution_count": 110,
     "metadata": {},
     "output_type": "execute_result"
    }
   ],
   "source": [
    "duplicates.toPandas()"
   ]
  },
  {
   "cell_type": "code",
   "execution_count": 50,
   "id": "d770b00b-b826-438e-ad5b-1870cecf00b1",
   "metadata": {
    "tags": []
   },
   "outputs": [],
   "source": [
    "from pyspark.sql.functions import count"
   ]
  },
  {
   "cell_type": "code",
   "execution_count": 54,
   "id": "e1818c4e-b02a-4ef5-b7a0-c405d2c94083",
   "metadata": {
    "tags": []
   },
   "outputs": [
    {
     "data": {
      "text/plain": [
       "13378"
      ]
     },
     "execution_count": 54,
     "metadata": {},
     "output_type": "execute_result"
    }
   ],
   "source": [
    "duplicates.count()"
   ]
  },
  {
   "cell_type": "code",
   "execution_count": 55,
   "id": "8345c6a8-7ebb-4575-8556-8f0ff91c488a",
   "metadata": {
    "tags": []
   },
   "outputs": [
    {
     "data": {
      "text/plain": [
       "0"
      ]
     },
     "execution_count": 55,
     "metadata": {},
     "output_type": "execute_result"
    }
   ],
   "source": [
    "new_duplicates.count()"
   ]
  },
  {
   "cell_type": "code",
   "execution_count": 53,
   "id": "db67d5cc-1fc0-4e50-9702-cc97ee83bb21",
   "metadata": {
    "tags": []
   },
   "outputs": [
    {
     "name": "stdout",
     "output_type": "stream",
     "text": [
      "플랫폼별로 겹치는 job_id는 없음: False\n",
      "중복된 데이터의 개수는: 6689개\n",
      "중복 데이터를 제외한 채용공고 수는 : 10649개\n"
     ]
    }
   ],
   "source": [
    "# Check if the lengths of new_duplicates and duplicates are the same\n",
    "are_lengths_equal = new_duplicates.count() == duplicates.count()\n",
    "print(f\"플랫폼별로 겹치는 job_id는 없음: {are_lengths_equal}\")\n",
    "\n",
    "# Print the number of duplicate data\n",
    "print(f'중복된 데이터의 개수는: {duplicates.count() // 2}개')\n",
    "\n",
    "# Print the number of job posts after excluding duplicate data\n",
    "print(f'중복 데이터를 제외한 채용공고 수는 : {df_final.count() - (duplicates.count() // 2)}개')"
   ]
  },
  {
   "cell_type": "markdown",
   "id": "100a70d8-29b0-47b9-b2ad-1045df39cd25",
   "metadata": {},
   "source": [
    "### 대분류, 중분류 카테고리 분류"
   ]
  },
  {
   "cell_type": "code",
   "execution_count": 56,
   "id": "cd2a915c-f02e-4053-9d39-41786eadf614",
   "metadata": {
    "tags": []
   },
   "outputs": [],
   "source": [
    "# data = [\n",
    "#     (\"WEB\", \"서버/백엔드 개발자\", \"서버 개발자\"),\n",
    "#     (\"WEB\", \"서버/백엔드 개발자\", \"자바 개발자\"),\n",
    "    \n",
    "# ]"
   ]
  },
  {
   "cell_type": "code",
   "execution_count": 57,
   "id": "a29590cc-014d-48fd-ab13-474f727a8bcc",
   "metadata": {
    "tags": []
   },
   "outputs": [
    {
     "name": "stdout",
     "output_type": "stream",
     "text": [
      "[('WEB', '서버/백엔드 개발자', '서버 개발자'), ('WEB', '서버/백엔드 개발자', '자바 개발자'), ('WEB', '서버/백엔드 개발자', 'Node.js 개발자'), ('WEB', '서버/백엔드 개발자', 'PHP 개발자'), ('WEB', '서버/백엔드 개발자', '웹 개발자'), ('WEB', '서버/백엔드 개발자', '루비온레일즈 개발자'), ('WEB', '서버/백엔드 개발자', '.NET 개발자'), ('WEB', '프론트엔드 개발자', '프론트엔드 개발자'), ('WEB', '프론트엔드 개발자', '프론트엔드 개발'), ('WEB', '프론트엔드 개발자', 'FRONTEND_DEVELOPER'), ('WEB', '웹 퍼블리셔', '웹 퍼블리셔'), ('WEB', '웹 퍼블리셔', '웹퍼블리셔'), ('GAME', '게임 개발자', '게임개발'), ('GAME', '게임 개발자', '게임 클라이언트 개발자'), ('GAME', '게임 개발자', '게임 서버 개발자'), ('GAME', 'VR/AR/3D', 'VR 엔지니어'), ('GAME', 'VR/AR/3D', '그래픽스 엔지니어'), ('GAME', 'VR/AR/3D', 'VR/AR/3D,게임 클라이언트 개발자'), ('DATA', '데이터 사이언티스트', '데이터 사이언티스트'), ('DATA', '데이터 사이언티스트', 'DATA_SCIENTIST'), ('DATA', '데이터 엔지니어', '데이터 엔지니어'), ('DATA', '데이터 엔지니어', '빅데이터 엔지니어'), ('DATA', '데이터 엔지니어', 'DATA_ENGINEER'), ('DATA', '데이터 분석가', 'BI 엔지니어'), ('DATA', '데이터 분석가', '데이터 분석가'), ('DATA', '데이터 분석가', 'DATA_ANALYST'), ('DATA', 'AI 엔지니어', '머신러닝 엔지니어'), ('DATA', 'AI 엔지니어', '영상,음성 엔지니어'), ('DATA', 'AI 엔지니어', 'MACHINE_LEARNING'), ('DATA', 'AI 엔지니어', '인공지능/머신러닝'), ('DATA', 'DBA', 'DBA'), ('DATA', 'DBA', '빅데이터 엔지니어,DBA'), ('MOBILE', '안드로이드 개발자', '안드로이드 개발자'), ('MOBILE', '안드로이드 개발자', 'ANDROID_DEVELOPER'), ('MOBILE', 'iOS 개발자', 'iOS 개발자'), ('MOBILE', 'iOS 개발자', 'IOS'), ('MOBILE', 'iOS 개발자', 'IOS_DEVELOPER'), ('MOBILE', '크로스 플랫폼 모바일 개발자', '크로스플랫폼 앱 개발자'), ('MOBILE', '크로스 플랫폼 모바일 개발자', 'CROSS_PLATFORM_DEVELOPER'), ('SUPPORT', 'PM', '개발 매니저'), ('SUPPORT', 'PM', '프로덕트 매니저'), ('SUPPORT', 'PM', 'AGILE_SCRUM_MASTER'), ('SUPPORT', 'QA 엔지니어', 'QA,테스트 엔지니어'), ('SUPPORT', 'QA 엔지니어', 'QA'), ('SUPPORT', 'QA 엔지니어', 'QA_ENGINEER'), ('SUPPORT', '기술지원', '기술지원'), ('SUPPORT', '기술지원', 'SUPPORT_ENGINEER'), ('DEVSECOPS', '데브옵스/인프라 엔지니어', 'DevOps / 시스템 관리자'), ('DEVSECOPS', '데브옵스/인프라 엔지니어', '시스템,네트워크 관리자'), ('DEVSECOPS', '데브옵스/인프라 엔지니어', 'DEV_OPS'), ('DEVSECOPS', '데브옵스/인프라 엔지니어', 'INFRA_ENGINEER'), ('DEVSECOPS', '데브옵스/인프라 엔지니어', 'devops/시스템 엔지니어'), ('DEVSECOPS', '정보보안 담당자', '보안 엔지니어'), ('DEVSECOPS', '정보보안 담당자', 'CIO,Chief Information Officer'), ('DEVSECOPS', '정보보안 담당자', 'SECURITY_ENGINEER'), ('SW/HW/IOT', 'HW/임베디드 개발자', '임베디드 개발자'), ('SW/HW/IOT', 'HW/임베디드 개발자', '하드웨어 엔지니어'), ('SW/HW/IOT', 'HW/임베디드 개발자', 'HARDWARE_EMBEDDED_ENGINEER'), ('SW/HW/IOT', '소프트웨어 개발자', '소프트웨어 엔지니어'), ('SW/HW/IOT', '소프트웨어 개발자', '파이썬 개발자'), ('SW/HW/IOT', '소프트웨어 개발자', 'C,C++ 개발자'), ('SW/HW/IOT', '소프트웨어 개발자', 'SOFTWARE_ENGINEER'), ('ETC', '블록체인 엔지니어', '블록체인 플랫폼 엔지니어'), ('ETC', '블록체인 엔지니어', 'BLOCKCHAIN_ENGINEER'), ('ETC', '기타', 'ERP전문가'), ('ETC', '기타', 'CTO,Chief Technology Officer'), ('ETC', '기타', 'ERP')]\n"
     ]
    }
   ],
   "source": [
    "data_list = []\n",
    "\n",
    "# 대분류, 중분류, 카테고리를 나타내는 데이터\n",
    "categories = [\n",
    "    (\"WEB\", \"서버/백엔드 개발자\", [\"서버 개발자\", \"자바 개발자\", \"Node.js 개발자\", \"PHP 개발자\", \"웹 개발자\", \"루비온레일즈 개발자\", \".NET 개발자\"]),\n",
    "    (\"WEB\", \"프론트엔드 개발자\", [\"프론트엔드 개발자\",\"프론트엔드 개발\",\"FRONTEND_DEVELOPER\"]),\n",
    "    (\"WEB\", \"웹 퍼블리셔\", [\"웹 퍼블리셔\",\"웹퍼블리셔\"]),\n",
    "    (\"GAME\", \"게임 개발자\", [\"게임개발\", \"게임 클라이언트 개발자\", \"게임 서버 개발자\"]),\n",
    "    (\"GAME\", \"VR/AR/3D\", [\"VR 엔지니어\", \"그래픽스 엔지니어\", \"VR/AR/3D,게임 클라이언트 개발자\"]),\n",
    "    (\"DATA\", \"데이터 사이언티스트\", [\"데이터 사이언티스트\", \"DATA_SCIENTIST\"]),\n",
    "    (\"DATA\", \"데이터 엔지니어\", [\"데이터 엔지니어\", \"빅데이터 엔지니어\", \"DATA_ENGINEER\"]),\n",
    "    (\"DATA\", \"데이터 분석가\", [\"BI 엔지니어\", \"데이터 분석가\", \"DATA_ANALYST\"]),\n",
    "    (\"DATA\", \"AI 엔지니어\", [\"머신러닝 엔지니어\", \"영상,음성 엔지니어\", \"MACHINE_LEARNING\", \"인공지능/머신러닝\"]),\n",
    "    (\"DATA\", \"DBA\", [\"DBA\", \"빅데이터 엔지니어,DBA\"]),\n",
    "    (\"MOBILE\", \"안드로이드 개발자\", [\"안드로이드 개발자\", \"ANDROID_DEVELOPER\"]),\n",
    "    (\"MOBILE\", \"iOS 개발자\", [\"iOS 개발자\", \"IOS\", \"IOS_DEVELOPER\"]),\n",
    "    (\"MOBILE\", \"크로스 플랫폼 모바일 개발자\", [\"크로스플랫폼 앱 개발자\", \"CROSS_PLATFORM_DEVELOPER\"]),\n",
    "    (\"SUPPORT\", \"PM\", [\"개발 매니저\", \"프로덕트 매니저\", \"AGILE_SCRUM_MASTER\"]),\n",
    "    (\"SUPPORT\", \"QA 엔지니어\", [\"QA,테스트 엔지니어\", \"QA\", \"QA_ENGINEER\"]),\n",
    "    (\"SUPPORT\", \"기술지원\", [\"기술지원\", \"SUPPORT_ENGINEER\"]),\n",
    "    (\"DEVSECOPS\", \"데브옵스/인프라 엔지니어\", [\"DevOps / 시스템 관리자\", \"시스템,네트워크 관리자\", \"DEV_OPS\", \"INFRA_ENGINEER\", \"devops/시스템 엔지니어\"]),\n",
    "    (\"DEVSECOPS\", \"정보보안 담당자\", [\"보안 엔지니어\", \"CIO,Chief Information Officer\", \"SECURITY_ENGINEER\"]),\n",
    "    (\"SW/HW/IOT\", \"HW/임베디드 개발자\", [\"임베디드 개발자\", \"하드웨어 엔지니어\", \"HARDWARE_EMBEDDED_ENGINEER\"]),\n",
    "    (\"SW/HW/IOT\", \"소프트웨어 개발자\", [\"소프트웨어 엔지니어\", \"파이썬 개발자\", \"C,C++ 개발자\", \"SOFTWARE_ENGINEER\"]),\n",
    "    (\"ETC\", \"블록체인 엔지니어\", [\"블록체인 플랫폼 엔지니어\", \"BLOCKCHAIN_ENGINEER\"]),\n",
    "    (\"ETC\", \"기타\", [\"ERP전문가\", \"CTO,Chief Technology Officer\", \"ERP\"])\n",
    "]\n",
    "\n",
    "for category in categories:\n",
    "    major_category, sub_category, job_list = category\n",
    "    for sub_category in job_list:\n",
    "        data_list.append((major_category, middle_category, sub_category))\n",
    "\n",
    "print(data_list)"
   ]
  },
  {
   "cell_type": "code",
   "execution_count": 59,
   "id": "a328cc6c-d068-4255-b269-9e76d3210172",
   "metadata": {
    "tags": []
   },
   "outputs": [],
   "source": [
    "from pyspark.sql.types import StringType, StructField, StructType"
   ]
  },
  {
   "cell_type": "code",
   "execution_count": 67,
   "id": "a6791ccf-fb86-4a71-91db-8097fe686c8b",
   "metadata": {
    "tags": []
   },
   "outputs": [],
   "source": [
    "# 데이터 스키마 정의\n",
    "schema = StructType([\n",
    "    StructField(\"major_category\", StringType(), True),\n",
    "    StructField(\"middle_category\", StringType(), True),\n",
    "    StructField(\"sub_category\", StringType(), True)\n",
    "])"
   ]
  },
  {
   "cell_type": "code",
   "execution_count": 68,
   "id": "8b444270-3a67-4d52-aa0f-684836f9e6ab",
   "metadata": {
    "tags": []
   },
   "outputs": [],
   "source": [
    "# data_list를 기반으로 DataFrame 생성\n",
    "mapping_df = spark.createDataFrame(data_list, schema=schema)"
   ]
  },
  {
   "cell_type": "code",
   "execution_count": 109,
   "id": "a46d953e-273e-4b1c-a979-aeb7d5b4d429",
   "metadata": {
    "tags": []
   },
   "outputs": [
    {
     "data": {
      "text/html": [
       "<div>\n",
       "<style scoped>\n",
       "    .dataframe tbody tr th:only-of-type {\n",
       "        vertical-align: middle;\n",
       "    }\n",
       "\n",
       "    .dataframe tbody tr th {\n",
       "        vertical-align: top;\n",
       "    }\n",
       "\n",
       "    .dataframe thead th {\n",
       "        text-align: right;\n",
       "    }\n",
       "</style>\n",
       "<table border=\"1\" class=\"dataframe\">\n",
       "  <thead>\n",
       "    <tr style=\"text-align: right;\">\n",
       "      <th></th>\n",
       "      <th>major_category</th>\n",
       "      <th>middle_category</th>\n",
       "      <th>sub_category</th>\n",
       "    </tr>\n",
       "  </thead>\n",
       "  <tbody>\n",
       "    <tr>\n",
       "      <th>0</th>\n",
       "      <td>WEB</td>\n",
       "      <td>서버/백엔드 개발자</td>\n",
       "      <td>서버 개발자</td>\n",
       "    </tr>\n",
       "    <tr>\n",
       "      <th>1</th>\n",
       "      <td>WEB</td>\n",
       "      <td>서버/백엔드 개발자</td>\n",
       "      <td>자바 개발자</td>\n",
       "    </tr>\n",
       "    <tr>\n",
       "      <th>2</th>\n",
       "      <td>WEB</td>\n",
       "      <td>서버/백엔드 개발자</td>\n",
       "      <td>Node.js 개발자</td>\n",
       "    </tr>\n",
       "    <tr>\n",
       "      <th>3</th>\n",
       "      <td>WEB</td>\n",
       "      <td>서버/백엔드 개발자</td>\n",
       "      <td>PHP 개발자</td>\n",
       "    </tr>\n",
       "    <tr>\n",
       "      <th>4</th>\n",
       "      <td>WEB</td>\n",
       "      <td>서버/백엔드 개발자</td>\n",
       "      <td>웹 개발자</td>\n",
       "    </tr>\n",
       "    <tr>\n",
       "      <th>...</th>\n",
       "      <td>...</td>\n",
       "      <td>...</td>\n",
       "      <td>...</td>\n",
       "    </tr>\n",
       "    <tr>\n",
       "      <th>62</th>\n",
       "      <td>ETC</td>\n",
       "      <td>블록체인 엔지니어</td>\n",
       "      <td>블록체인 플랫폼 엔지니어</td>\n",
       "    </tr>\n",
       "    <tr>\n",
       "      <th>63</th>\n",
       "      <td>ETC</td>\n",
       "      <td>블록체인 엔지니어</td>\n",
       "      <td>BLOCKCHAIN_ENGINEER</td>\n",
       "    </tr>\n",
       "    <tr>\n",
       "      <th>64</th>\n",
       "      <td>ETC</td>\n",
       "      <td>기타</td>\n",
       "      <td>ERP전문가</td>\n",
       "    </tr>\n",
       "    <tr>\n",
       "      <th>65</th>\n",
       "      <td>ETC</td>\n",
       "      <td>기타</td>\n",
       "      <td>CTO,Chief Technology Officer</td>\n",
       "    </tr>\n",
       "    <tr>\n",
       "      <th>66</th>\n",
       "      <td>ETC</td>\n",
       "      <td>기타</td>\n",
       "      <td>ERP</td>\n",
       "    </tr>\n",
       "  </tbody>\n",
       "</table>\n",
       "<p>67 rows × 3 columns</p>\n",
       "</div>"
      ],
      "text/plain": [
       "   major_category middle_category                  sub_category\n",
       "0             WEB      서버/백엔드 개발자                        서버 개발자\n",
       "1             WEB      서버/백엔드 개발자                        자바 개발자\n",
       "2             WEB      서버/백엔드 개발자                   Node.js 개발자\n",
       "3             WEB      서버/백엔드 개발자                       PHP 개발자\n",
       "4             WEB      서버/백엔드 개발자                         웹 개발자\n",
       "..            ...             ...                           ...\n",
       "62            ETC       블록체인 엔지니어                 블록체인 플랫폼 엔지니어\n",
       "63            ETC       블록체인 엔지니어           BLOCKCHAIN_ENGINEER\n",
       "64            ETC              기타                        ERP전문가\n",
       "65            ETC              기타  CTO,Chief Technology Officer\n",
       "66            ETC              기타                           ERP\n",
       "\n",
       "[67 rows x 3 columns]"
      ]
     },
     "execution_count": 109,
     "metadata": {},
     "output_type": "execute_result"
    }
   ],
   "source": [
    "# DataFrame 확인\n",
    "mapping_df.toPandas()"
   ]
  },
  {
   "cell_type": "code",
   "execution_count": 108,
   "id": "b3a4d3b1-6b09-47b6-8c26-01bede1d0f1c",
   "metadata": {
    "tags": []
   },
   "outputs": [
    {
     "data": {
      "text/html": [
       "<div>\n",
       "<style scoped>\n",
       "    .dataframe tbody tr th:only-of-type {\n",
       "        vertical-align: middle;\n",
       "    }\n",
       "\n",
       "    .dataframe tbody tr th {\n",
       "        vertical-align: top;\n",
       "    }\n",
       "\n",
       "    .dataframe thead th {\n",
       "        text-align: right;\n",
       "    }\n",
       "</style>\n",
       "<table border=\"1\" class=\"dataframe\">\n",
       "  <thead>\n",
       "    <tr style=\"text-align: right;\">\n",
       "      <th></th>\n",
       "      <th>major_category</th>\n",
       "      <th>middle_category</th>\n",
       "      <th>sub_category</th>\n",
       "    </tr>\n",
       "  </thead>\n",
       "  <tbody>\n",
       "    <tr>\n",
       "      <th>0</th>\n",
       "      <td>GAME</td>\n",
       "      <td>게임 개발자</td>\n",
       "      <td>게임개발</td>\n",
       "    </tr>\n",
       "    <tr>\n",
       "      <th>1</th>\n",
       "      <td>GAME</td>\n",
       "      <td>게임 개발자</td>\n",
       "      <td>게임 클라이언트 개발자</td>\n",
       "    </tr>\n",
       "    <tr>\n",
       "      <th>2</th>\n",
       "      <td>GAME</td>\n",
       "      <td>게임 개발자</td>\n",
       "      <td>게임 서버 개발자</td>\n",
       "    </tr>\n",
       "    <tr>\n",
       "      <th>3</th>\n",
       "      <td>GAME</td>\n",
       "      <td>VR/AR/3D</td>\n",
       "      <td>VR 엔지니어</td>\n",
       "    </tr>\n",
       "    <tr>\n",
       "      <th>4</th>\n",
       "      <td>GAME</td>\n",
       "      <td>VR/AR/3D</td>\n",
       "      <td>그래픽스 엔지니어</td>\n",
       "    </tr>\n",
       "    <tr>\n",
       "      <th>5</th>\n",
       "      <td>GAME</td>\n",
       "      <td>VR/AR/3D</td>\n",
       "      <td>VR/AR/3D,게임 클라이언트 개발자</td>\n",
       "    </tr>\n",
       "  </tbody>\n",
       "</table>\n",
       "</div>"
      ],
      "text/plain": [
       "  major_category middle_category           sub_category\n",
       "0           GAME          게임 개발자                   게임개발\n",
       "1           GAME          게임 개발자           게임 클라이언트 개발자\n",
       "2           GAME          게임 개발자              게임 서버 개발자\n",
       "3           GAME        VR/AR/3D                VR 엔지니어\n",
       "4           GAME        VR/AR/3D              그래픽스 엔지니어\n",
       "5           GAME        VR/AR/3D  VR/AR/3D,게임 클라이언트 개발자"
      ]
     },
     "execution_count": 108,
     "metadata": {},
     "output_type": "execute_result"
    }
   ],
   "source": [
    "mapping_df.where(\"major_category = 'GAME'\").toPandas()"
   ]
  },
  {
   "cell_type": "code",
   "execution_count": 78,
   "id": "af4ea482-dc15-4a52-b440-3571d7dbca5d",
   "metadata": {
    "tags": []
   },
   "outputs": [],
   "source": [
    "df_with_mapped_categories = df_final.join(mapping_df, df_final.category == mapping_df.sub_category, \"left\")"
   ]
  },
  {
   "cell_type": "code",
   "execution_count": 79,
   "id": "5d912511-ba33-404b-907b-bc427e2218e2",
   "metadata": {
    "tags": []
   },
   "outputs": [
    {
     "name": "stdout",
     "output_type": "stream",
     "text": [
      "root\n",
      " |-- job_id: string (nullable = true)\n",
      " |-- platform: string (nullable = true)\n",
      " |-- category: string (nullable = true)\n",
      " |-- url: string (nullable = true)\n",
      " |-- company: string (nullable = true)\n",
      " |-- title: string (nullable = true)\n",
      " |-- primary_responsibility: string (nullable = true)\n",
      " |-- required: string (nullable = true)\n",
      " |-- preferred: string (nullable = true)\n",
      " |-- end_at: string (nullable = true)\n",
      " |-- skills: array (nullable = true)\n",
      " |    |-- element: string (containsNull = true)\n",
      " |-- location: string (nullable = true)\n",
      " |-- welfare: string (nullable = true)\n",
      " |-- body: string (nullable = true)\n",
      " |-- company_description: string (nullable = true)\n",
      " |-- coordinate: array (nullable = true)\n",
      " |    |-- element: double (containsNull = true)\n",
      " |-- major_category: string (nullable = true)\n",
      " |-- middle_category: string (nullable = true)\n",
      " |-- sub_category: string (nullable = true)\n",
      "\n"
     ]
    }
   ],
   "source": [
    "df_with_mapped_categories.printSchema()"
   ]
  },
  {
   "cell_type": "code",
   "execution_count": null,
   "id": "0388a888-39a5-42d0-8ad2-aeaac6ef94ac",
   "metadata": {
    "tags": []
   },
   "outputs": [],
   "source": [
    "df_with_mapped_categories.show()"
   ]
  },
  {
   "cell_type": "code",
   "execution_count": 81,
   "id": "077d8419-0de3-4428-a4b5-bab09a46ea7c",
   "metadata": {
    "tags": []
   },
   "outputs": [
    {
     "name": "stdout",
     "output_type": "stream",
     "text": [
      "+------+--------+--------------+------------------+------------+\n",
      "|job_id|platform|major_category|   middle_category|sub_category|\n",
      "+------+--------+--------------+------------------+------------+\n",
      "|175689|  wanted|           WEB|서버/백엔드 개발자|   웹 개발자|\n",
      "|175689|  wanted|           WEB|서버/백엔드 개발자|   웹 개발자|\n",
      "|175657|  wanted|           WEB|서버/백엔드 개발자|   웹 개발자|\n",
      "|175550|  wanted|           WEB|서버/백엔드 개발자|   웹 개발자|\n",
      "|175408|  wanted|           WEB|서버/백엔드 개발자|   웹 개발자|\n",
      "|175378|  wanted|           WEB|서버/백엔드 개발자|   웹 개발자|\n",
      "|175408|  wanted|           WEB|서버/백엔드 개발자|   웹 개발자|\n",
      "|175544|  wanted|           WEB|서버/백엔드 개발자|   웹 개발자|\n",
      "|175675|  wanted|           WEB|서버/백엔드 개발자|   웹 개발자|\n",
      "|175387|  wanted|           WEB|서버/백엔드 개발자|   웹 개발자|\n",
      "|175550|  wanted|           WEB|서버/백엔드 개발자|   웹 개발자|\n",
      "|175618|  wanted|           WEB|서버/백엔드 개발자|   웹 개발자|\n",
      "|175657|  wanted|           WEB|서버/백엔드 개발자|   웹 개발자|\n",
      "|175500|  wanted|           WEB|서버/백엔드 개발자|   웹 개발자|\n",
      "|175618|  wanted|           WEB|서버/백엔드 개발자|   웹 개발자|\n",
      "|175689|  wanted|           WEB|서버/백엔드 개발자|   웹 개발자|\n",
      "|175689|  wanted|           WEB|서버/백엔드 개발자|   웹 개발자|\n",
      "|175500|  wanted|           WEB|서버/백엔드 개발자|   웹 개발자|\n",
      "|175618|  wanted|           WEB|서버/백엔드 개발자|   웹 개발자|\n",
      "|175544|  wanted|           WEB|서버/백엔드 개발자|   웹 개발자|\n",
      "+------+--------+--------------+------------------+------------+\n",
      "only showing top 20 rows\n",
      "\n"
     ]
    }
   ],
   "source": [
    "df_with_mapped_categories.select(\n",
    "        \"job_id\", \"platform\", \"major_category\", \"middle_category\", \"sub_category\", \n",
    "    ).show() # ... and any other columns you need"
   ]
  },
  {
   "cell_type": "code",
   "execution_count": 75,
   "id": "8388862e-fbf5-4d2d-925f-31ff6dc14fe0",
   "metadata": {
    "tags": []
   },
   "outputs": [
    {
     "name": "stdout",
     "output_type": "stream",
     "text": [
      "+------+--------+--------------+------------+---------+\n",
      "|job_id|platform|major_category|sub_category| category|\n",
      "+------+--------+--------------+------------+---------+\n",
      "|175689|  wanted|           WEB|   웹 개발자|웹 개발자|\n",
      "|175689|  wanted|           WEB|   웹 개발자|웹 개발자|\n",
      "|175657|  wanted|           WEB|   웹 개발자|웹 개발자|\n",
      "|175550|  wanted|           WEB|   웹 개발자|웹 개발자|\n",
      "|175408|  wanted|           WEB|   웹 개발자|웹 개발자|\n",
      "|175378|  wanted|           WEB|   웹 개발자|웹 개발자|\n",
      "|175408|  wanted|           WEB|   웹 개발자|웹 개발자|\n",
      "|175544|  wanted|           WEB|   웹 개발자|웹 개발자|\n",
      "|175675|  wanted|           WEB|   웹 개발자|웹 개발자|\n",
      "|175387|  wanted|           WEB|   웹 개발자|웹 개발자|\n",
      "|175550|  wanted|           WEB|   웹 개발자|웹 개발자|\n",
      "|175618|  wanted|           WEB|   웹 개발자|웹 개발자|\n",
      "|175657|  wanted|           WEB|   웹 개발자|웹 개발자|\n",
      "|175500|  wanted|           WEB|   웹 개발자|웹 개발자|\n",
      "|175618|  wanted|           WEB|   웹 개발자|웹 개발자|\n",
      "|175689|  wanted|           WEB|   웹 개발자|웹 개발자|\n",
      "|175689|  wanted|           WEB|   웹 개발자|웹 개발자|\n",
      "|175500|  wanted|           WEB|   웹 개발자|웹 개발자|\n",
      "|175618|  wanted|           WEB|   웹 개발자|웹 개발자|\n",
      "|175544|  wanted|           WEB|   웹 개발자|웹 개발자|\n",
      "+------+--------+--------------+------------+---------+\n",
      "only showing top 20 rows\n",
      "\n"
     ]
    }
   ],
   "source": [
    "df_with_mapped_categories.show()"
   ]
  },
  {
   "cell_type": "markdown",
   "id": "b5273285-625a-41f3-98d6-2f72ca43c8cf",
   "metadata": {},
   "source": [
    "### 컬럼 순서 재정리"
   ]
  },
  {
   "cell_type": "code",
   "execution_count": 92,
   "id": "5665b9b4-57a3-462c-be85-6841e16ca7e1",
   "metadata": {
    "tags": []
   },
   "outputs": [],
   "source": [
    "from pyspark.sql import DataFrame"
   ]
  },
  {
   "cell_type": "code",
   "execution_count": 93,
   "id": "fecd9e11-760b-4091-bd65-e4ba4f9d06cf",
   "metadata": {
    "tags": []
   },
   "outputs": [],
   "source": [
    "new_columns = ['job_id',\n",
    "     'platform',\n",
    "     'category',\n",
    "     'major_category',\n",
    "     'middle_category',\n",
    "     'sub_category',\n",
    "     'company',\n",
    "     'title',\n",
    "     'preferred',\n",
    "     'required',\n",
    "     'primary_responsibility',\n",
    "     'url',\n",
    "     'end_at',\n",
    "     'skills',\n",
    "     'location',\n",
    "     'welfare',\n",
    "     'body',\n",
    "     'company_description',\n",
    "     'coordinate',\n",
    "    ]\n",
    "\n",
    "# spark udf\n",
    "def rearrange_dataframe_columns(df: DataFrame, columns: list) -> DataFrame:\n",
    "    return df.select(*columns)"
   ]
  },
  {
   "cell_type": "code",
   "execution_count": 94,
   "id": "79a841f1-e861-4c82-9e4b-27b8f7752947",
   "metadata": {
    "tags": []
   },
   "outputs": [],
   "source": [
    "# Now rearrange the columns of df_with_mapped_categories\n",
    "df_with_mapped_categories = rearrange_dataframe_columns(df_with_mapped_categories, new_columns)"
   ]
  },
  {
   "cell_type": "code",
   "execution_count": 96,
   "id": "858bc99c-9de0-4e83-bd77-223a69f85c00",
   "metadata": {
    "tags": []
   },
   "outputs": [
    {
     "name": "stdout",
     "output_type": "stream",
     "text": [
      "root\n",
      " |-- job_id: string (nullable = true)\n",
      " |-- platform: string (nullable = true)\n",
      " |-- category: string (nullable = true)\n",
      " |-- major_category: string (nullable = true)\n",
      " |-- middle_category: string (nullable = true)\n",
      " |-- sub_category: string (nullable = true)\n",
      " |-- company: string (nullable = true)\n",
      " |-- title: string (nullable = true)\n",
      " |-- preferred: string (nullable = true)\n",
      " |-- required: string (nullable = true)\n",
      " |-- primary_responsibility: string (nullable = true)\n",
      " |-- url: string (nullable = true)\n",
      " |-- end_at: string (nullable = true)\n",
      " |-- skills: array (nullable = true)\n",
      " |    |-- element: string (containsNull = true)\n",
      " |-- location: string (nullable = true)\n",
      " |-- welfare: string (nullable = true)\n",
      " |-- body: string (nullable = true)\n",
      " |-- company_description: string (nullable = true)\n",
      " |-- coordinate: array (nullable = true)\n",
      " |    |-- element: double (containsNull = true)\n",
      "\n"
     ]
    }
   ],
   "source": [
    "df_with_mapped_categories.printSchema()"
   ]
  },
  {
   "cell_type": "code",
   "execution_count": null,
   "id": "31b38637-542a-482b-a38e-0869fa7499b3",
   "metadata": {},
   "outputs": [],
   "source": [
    "df_with_mapped_categories.toPandas().head()"
   ]
  },
  {
   "cell_type": "markdown",
   "id": "fdcf8d60-b988-41e8-bda7-9c3751443047",
   "metadata": {},
   "source": [
    "### 텍스트 전처리\n",
    "- 개행문자('\\n') -> 빈칸으로 변경"
   ]
  },
  {
   "cell_type": "code",
   "execution_count": 101,
   "id": "e67b6caf-c901-4973-a008-28fbf55d564d",
   "metadata": {
    "tags": []
   },
   "outputs": [],
   "source": [
    "from pyspark.sql.functions import regexp_replace\n",
    "\n",
    "new_df = df_with_mapped_categories\n",
    "new_df = new_df.withColumn(\"preferred\", regexp_replace(new_df[\"preferred\"], \"\\n\", \" \"))\n",
    "new_df = new_df.withColumn(\"required\", regexp_replace(new_df[\"required\"], \"\\n\", \" \"))\n",
    "new_df = new_df.withColumn(\"primary_responsibility\", regexp_replace(new_df[\"primary_responsibility\"], \"\\n\", \" \"))\n",
    "new_df = new_df.withColumn(\"welfare\", regexp_replace(new_df[\"welfare\"], \"\\n\", \" \"))\n",
    "new_df = new_df.withColumn(\"company_description\", regexp_replace(new_df[\"company_description\"], \"\\n\", \" \"))"
   ]
  },
  {
   "cell_type": "code",
   "execution_count": 102,
   "id": "e764865b-d4fd-4190-ab83-617b966e5f2f",
   "metadata": {
    "tags": []
   },
   "outputs": [
    {
     "name": "stdout",
     "output_type": "stream",
     "text": [
      "+-------------------------------+------------------------------+------------------------------+--------------------------------+--------------------------------+\n",
      "|                      preferred|                      required|        primary_responsibility|                         welfare|             company_description|\n",
      "+-------------------------------+------------------------------+------------------------------+--------------------------------+--------------------------------+\n",
      "|• 컴퓨터공학, 전산과 관련 학...| • 최소 5년 이상의 웹 개발 ...|• 포그리트의 메인 서비스(UX...|    • 연 1회 건강검진  • 야근...|[조직소개] 포그리트는 고객의 ...|\n",
      "|• 컴퓨터공학, 전산과 관련 학...| • 최소 5년 이상의 웹 개발 ...|• 포그리트의 메인 서비스(UX...|    • 연 1회 건강검진  • 야근...|[조직소개] 포그리트는 고객의 ...|\n",
      "|  • DeFi 서비스를 이용해보신...|• 관련 학과 전공 (컴퓨터 공...|  • 블록체인 DeFi 서비스를 ...|#조식제공 #중식제공 #건강검진...|위메이드는 20여 년간 게임업계...|\n",
      "|    • 관련 자격증 소지 • MES...|    • C#, C++ 프로그램 개발...|  • 솔루션 기반 QMS 시스템 ...|  • 경조휴가 및 경조금 지원, ...|       일진그룹의 Total IT So...|\n",
      "|       • 웹 뷰 경험이 있으신 분| [이런 분을 찾고있어요]  • ...|[무엇을 만드나요?]  신사업 ...| [이렇게 대우합니다] • 채널팀...| [어떤 팀인가요?]  채널코퍼레...|\n",
      "+-------------------------------+------------------------------+------------------------------+--------------------------------+--------------------------------+\n",
      "only showing top 5 rows\n",
      "\n"
     ]
    }
   ],
   "source": [
    "new_df.select(\"preferred\", \"required\", \"primary_responsibility\", \"welfare\", \"company_description\").show(5)"
   ]
  },
  {
   "cell_type": "code",
   "execution_count": 106,
   "id": "236ba97e-5d6a-440e-af86-e0a3a2da4859",
   "metadata": {
    "tags": []
   },
   "outputs": [
    {
     "data": {
      "text/html": [
       "<div>\n",
       "<style scoped>\n",
       "    .dataframe tbody tr th:only-of-type {\n",
       "        vertical-align: middle;\n",
       "    }\n",
       "\n",
       "    .dataframe tbody tr th {\n",
       "        vertical-align: top;\n",
       "    }\n",
       "\n",
       "    .dataframe thead th {\n",
       "        text-align: right;\n",
       "    }\n",
       "</style>\n",
       "<table border=\"1\" class=\"dataframe\">\n",
       "  <thead>\n",
       "    <tr style=\"text-align: right;\">\n",
       "      <th></th>\n",
       "      <th>job_id</th>\n",
       "      <th>platform</th>\n",
       "      <th>category</th>\n",
       "      <th>major_category</th>\n",
       "      <th>middle_category</th>\n",
       "      <th>sub_category</th>\n",
       "      <th>company</th>\n",
       "      <th>title</th>\n",
       "      <th>preferred</th>\n",
       "      <th>required</th>\n",
       "      <th>primary_responsibility</th>\n",
       "      <th>url</th>\n",
       "      <th>end_at</th>\n",
       "      <th>skills</th>\n",
       "      <th>location</th>\n",
       "      <th>welfare</th>\n",
       "      <th>body</th>\n",
       "      <th>company_description</th>\n",
       "      <th>coordinate</th>\n",
       "    </tr>\n",
       "  </thead>\n",
       "  <tbody>\n",
       "    <tr>\n",
       "      <th>0</th>\n",
       "      <td>105446</td>\n",
       "      <td>wanted</td>\n",
       "      <td>루비온레일즈 개발자</td>\n",
       "      <td>WEB</td>\n",
       "      <td>서버/백엔드 개발자</td>\n",
       "      <td>루비온레일즈 개발자</td>\n",
       "      <td>버킷플레이스(오늘의집)</td>\n",
       "      <td>Software Engineer, Backend</td>\n",
       "      <td>• 소규모 프로젝트 리딩 경험이 있는 분 • 대용량 트래픽 처리에 대한 이해 및 서...</td>\n",
       "      <td>• 만 4년 이상의 백엔드 개발 경력을 보유하신 분 • 컴퓨터공학 전공 혹은 그에 ...</td>\n",
       "      <td>• 애플리케이션 컴포넌트 설계, 개발, 테스트 및 운영 • MSA를 위한 서비스 R...</td>\n",
       "      <td>https://www.wanted.co.kr/wd/105446</td>\n",
       "      <td>None</td>\n",
       "      <td>[]</td>\n",
       "      <td>서울특별시 서초구 서초대로74길 4(서초동, 삼성생명서초타워) 25층</td>\n",
       "      <td>• 몰입과 성장을 위한 근무환경 - 근무시간 자율 (6시~22시) - 최대 주 3회...</td>\n",
       "      <td></td>\n",
       "      <td>\"No.1 Lifestyle Tech Company\"  오늘의집은 \"좋은 공간이 인...</td>\n",
       "      <td>[37.4967103, 127.0256999]</td>\n",
       "    </tr>\n",
       "    <tr>\n",
       "      <th>1</th>\n",
       "      <td>26574</td>\n",
       "      <td>wanted</td>\n",
       "      <td>루비온레일즈 개발자</td>\n",
       "      <td>WEB</td>\n",
       "      <td>서버/백엔드 개발자</td>\n",
       "      <td>루비온레일즈 개발자</td>\n",
       "      <td>브레인커머스</td>\n",
       "      <td>[잡플래닛] 백엔드 개발자 (미들급)</td>\n",
       "      <td>- Ruby on Rails 를 경험해보신 분 - AWS, Azure 등 클라우드 ...</td>\n",
       "      <td>- 5년 이상 백엔드 엔지니어링 경험이 있으신 분 - 특정 프로그래밍 언어 및 프레...</td>\n",
       "      <td>잡플래닛은 사용자들의 다양한 경험을 바탕으로 서비스를 만들어 가고 있습니다. 잡플래...</td>\n",
       "      <td>https://www.wanted.co.kr/wd/26574</td>\n",
       "      <td>None</td>\n",
       "      <td>[]</td>\n",
       "      <td>서울 강남구 테헤란로 415</td>\n",
       "      <td>- 분 단위 시차 출퇴근제 (오전 7시~ 오전 10시 사이 자율 출퇴근) - 야근하...</td>\n",
       "      <td></td>\n",
       "      <td>더 나은 선택은 없을까? 지금 이 순간에도 잡플래닛을 방문하는 월 300만명의 회원...</td>\n",
       "      <td>[37.5056545, 127.0515387]</td>\n",
       "    </tr>\n",
       "    <tr>\n",
       "      <th>2</th>\n",
       "      <td>175352</td>\n",
       "      <td>wanted</td>\n",
       "      <td>루비온레일즈 개발자</td>\n",
       "      <td>WEB</td>\n",
       "      <td>서버/백엔드 개발자</td>\n",
       "      <td>루비온레일즈 개발자</td>\n",
       "      <td>왓타임</td>\n",
       "      <td>백엔드 개발자</td>\n",
       "      <td>• 테스트 코드 작성 경험 • SaaS 개발 경험 • 고객과 만나는 것을 좋아하는 ...</td>\n",
       "      <td>• AWS • Rails, Spring Framework</td>\n",
       "      <td>•  되는시간 서비스 백엔드 개발 •  어드민 개발 업무 X</td>\n",
       "      <td>https://www.wanted.co.kr/wd/175352</td>\n",
       "      <td>None</td>\n",
       "      <td>[Git, Ruby Motion, Ruby on Rails, AWS, Spring ...</td>\n",
       "      <td>서울시 강남구 테헤란로 507 삼성역 위워크</td>\n",
       "      <td>• 백엔드 개발을 처음부터 끝까지 주도적으로 해볼수 있어요. • 창업자가 프론트, ...</td>\n",
       "      <td></td>\n",
       "      <td>되는시간은 캘린더 연동 기반 비즈니스 일정 조율 서비스로 업무 방식의 새로운 문화를...</td>\n",
       "      <td>[37.5076276, 127.0577131]</td>\n",
       "    </tr>\n",
       "    <tr>\n",
       "      <th>3</th>\n",
       "      <td>105447</td>\n",
       "      <td>wanted</td>\n",
       "      <td>루비온레일즈 개발자</td>\n",
       "      <td>WEB</td>\n",
       "      <td>서버/백엔드 개발자</td>\n",
       "      <td>루비온레일즈 개발자</td>\n",
       "      <td>버킷플레이스(오늘의집)</td>\n",
       "      <td>Senior Software Engineer, Backend</td>\n",
       "      <td>• 대용량 트래픽 처리에 대한 이해 및 서비스 경험이 있는 분 • 애자일 스프린트,...</td>\n",
       "      <td>• 만 8년 이상의 백엔드 개발 경력을 보유하신 분 • 컴퓨터공학 전공 혹은 그에 ...</td>\n",
       "      <td>• 고가용성, 고확장성 아키텍처 및 API 설계, 개발, 테스트 및 운영 • 비즈니...</td>\n",
       "      <td>https://www.wanted.co.kr/wd/105447</td>\n",
       "      <td>None</td>\n",
       "      <td>[]</td>\n",
       "      <td>서울특별시 서초구 서초대로74길 4(서초동, 삼성생명서초타워) 25층</td>\n",
       "      <td>• 몰입과 성장을 위한 근무환경 - 근무시간 자율 (6시~22시) - 최대 주 3회...</td>\n",
       "      <td></td>\n",
       "      <td>\"No.1 Lifestyle Tech Company\"  오늘의집은 \"좋은 공간이 인...</td>\n",
       "      <td>[37.4967103, 127.0256999]</td>\n",
       "    </tr>\n",
       "    <tr>\n",
       "      <th>4</th>\n",
       "      <td>170656</td>\n",
       "      <td>wanted</td>\n",
       "      <td>루비온레일즈 개발자</td>\n",
       "      <td>WEB</td>\n",
       "      <td>서버/백엔드 개발자</td>\n",
       "      <td>루비온레일즈 개발자</td>\n",
       "      <td>브라운백</td>\n",
       "      <td>개발 리드</td>\n",
       "      <td>• Top Level Manager(C레벨, VP) 경험 또는 Manager of ...</td>\n",
       "      <td>• 소프트웨어 엔지니어 실무 경력 최소 7년  • 소프트웨어 엔지니어 매니저 경력 ...</td>\n",
       "      <td>• Engineering Principle / Culture / Standard /...</td>\n",
       "      <td>https://www.wanted.co.kr/wd/170656</td>\n",
       "      <td>None</td>\n",
       "      <td>[Android, React, Ruby on Rails, Kotlin, C, Spr...</td>\n",
       "      <td>서울특별시 서초구 반포대로20길 45 (서초동) 브라운백베이스캠프</td>\n",
       "      <td>1. 기본 복지 - 4대보험 - 연월차∙휴가 제도 - 정직원 채용 시 개인별 법인 ...</td>\n",
       "      <td></td>\n",
       "      <td>[안녕하세요, 저희는 브라운백입니다.]  브라운백은 `인류를 편리하게, 동료를 행복...</td>\n",
       "      <td>[37.488331, 127.0123005]</td>\n",
       "    </tr>\n",
       "  </tbody>\n",
       "</table>\n",
       "</div>"
      ],
      "text/plain": [
       "   job_id platform    category major_category middle_category sub_category  \\\n",
       "0  105446   wanted  루비온레일즈 개발자            WEB      서버/백엔드 개발자   루비온레일즈 개발자   \n",
       "1   26574   wanted  루비온레일즈 개발자            WEB      서버/백엔드 개발자   루비온레일즈 개발자   \n",
       "2  175352   wanted  루비온레일즈 개발자            WEB      서버/백엔드 개발자   루비온레일즈 개발자   \n",
       "3  105447   wanted  루비온레일즈 개발자            WEB      서버/백엔드 개발자   루비온레일즈 개발자   \n",
       "4  170656   wanted  루비온레일즈 개발자            WEB      서버/백엔드 개발자   루비온레일즈 개발자   \n",
       "\n",
       "        company                              title  \\\n",
       "0  버킷플레이스(오늘의집)         Software Engineer, Backend   \n",
       "1        브레인커머스               [잡플래닛] 백엔드 개발자 (미들급)   \n",
       "2           왓타임                            백엔드 개발자   \n",
       "3  버킷플레이스(오늘의집)  Senior Software Engineer, Backend   \n",
       "4          브라운백                              개발 리드   \n",
       "\n",
       "                                           preferred  \\\n",
       "0  • 소규모 프로젝트 리딩 경험이 있는 분 • 대용량 트래픽 처리에 대한 이해 및 서...   \n",
       "1  - Ruby on Rails 를 경험해보신 분 - AWS, Azure 등 클라우드 ...   \n",
       "2  • 테스트 코드 작성 경험 • SaaS 개발 경험 • 고객과 만나는 것을 좋아하는 ...   \n",
       "3  • 대용량 트래픽 처리에 대한 이해 및 서비스 경험이 있는 분 • 애자일 스프린트,...   \n",
       "4  • Top Level Manager(C레벨, VP) 경험 또는 Manager of ...   \n",
       "\n",
       "                                            required  \\\n",
       "0  • 만 4년 이상의 백엔드 개발 경력을 보유하신 분 • 컴퓨터공학 전공 혹은 그에 ...   \n",
       "1  - 5년 이상 백엔드 엔지니어링 경험이 있으신 분 - 특정 프로그래밍 언어 및 프레...   \n",
       "2                    • AWS • Rails, Spring Framework   \n",
       "3  • 만 8년 이상의 백엔드 개발 경력을 보유하신 분 • 컴퓨터공학 전공 혹은 그에 ...   \n",
       "4  • 소프트웨어 엔지니어 실무 경력 최소 7년  • 소프트웨어 엔지니어 매니저 경력 ...   \n",
       "\n",
       "                              primary_responsibility  \\\n",
       "0  • 애플리케이션 컴포넌트 설계, 개발, 테스트 및 운영 • MSA를 위한 서비스 R...   \n",
       "1  잡플래닛은 사용자들의 다양한 경험을 바탕으로 서비스를 만들어 가고 있습니다. 잡플래...   \n",
       "2                  •  되는시간 서비스 백엔드 개발 •  어드민 개발 업무 X   \n",
       "3  • 고가용성, 고확장성 아키텍처 및 API 설계, 개발, 테스트 및 운영 • 비즈니...   \n",
       "4  • Engineering Principle / Culture / Standard /...   \n",
       "\n",
       "                                  url end_at  \\\n",
       "0  https://www.wanted.co.kr/wd/105446   None   \n",
       "1   https://www.wanted.co.kr/wd/26574   None   \n",
       "2  https://www.wanted.co.kr/wd/175352   None   \n",
       "3  https://www.wanted.co.kr/wd/105447   None   \n",
       "4  https://www.wanted.co.kr/wd/170656   None   \n",
       "\n",
       "                                              skills  \\\n",
       "0                                                 []   \n",
       "1                                                 []   \n",
       "2  [Git, Ruby Motion, Ruby on Rails, AWS, Spring ...   \n",
       "3                                                 []   \n",
       "4  [Android, React, Ruby on Rails, Kotlin, C, Spr...   \n",
       "\n",
       "                                 location  \\\n",
       "0  서울특별시 서초구 서초대로74길 4(서초동, 삼성생명서초타워) 25층   \n",
       "1                         서울 강남구 테헤란로 415   \n",
       "2                서울시 강남구 테헤란로 507 삼성역 위워크   \n",
       "3  서울특별시 서초구 서초대로74길 4(서초동, 삼성생명서초타워) 25층   \n",
       "4    서울특별시 서초구 반포대로20길 45 (서초동) 브라운백베이스캠프   \n",
       "\n",
       "                                             welfare body  \\\n",
       "0  • 몰입과 성장을 위한 근무환경 - 근무시간 자율 (6시~22시) - 최대 주 3회...        \n",
       "1  - 분 단위 시차 출퇴근제 (오전 7시~ 오전 10시 사이 자율 출퇴근) - 야근하...        \n",
       "2  • 백엔드 개발을 처음부터 끝까지 주도적으로 해볼수 있어요. • 창업자가 프론트, ...        \n",
       "3  • 몰입과 성장을 위한 근무환경 - 근무시간 자율 (6시~22시) - 최대 주 3회...        \n",
       "4  1. 기본 복지 - 4대보험 - 연월차∙휴가 제도 - 정직원 채용 시 개인별 법인 ...        \n",
       "\n",
       "                                 company_description  \\\n",
       "0  \"No.1 Lifestyle Tech Company\"  오늘의집은 \"좋은 공간이 인...   \n",
       "1  더 나은 선택은 없을까? 지금 이 순간에도 잡플래닛을 방문하는 월 300만명의 회원...   \n",
       "2  되는시간은 캘린더 연동 기반 비즈니스 일정 조율 서비스로 업무 방식의 새로운 문화를...   \n",
       "3  \"No.1 Lifestyle Tech Company\"  오늘의집은 \"좋은 공간이 인...   \n",
       "4  [안녕하세요, 저희는 브라운백입니다.]  브라운백은 `인류를 편리하게, 동료를 행복...   \n",
       "\n",
       "                  coordinate  \n",
       "0  [37.4967103, 127.0256999]  \n",
       "1  [37.5056545, 127.0515387]  \n",
       "2  [37.5076276, 127.0577131]  \n",
       "3  [37.4967103, 127.0256999]  \n",
       "4   [37.488331, 127.0123005]  "
      ]
     },
     "execution_count": 106,
     "metadata": {},
     "output_type": "execute_result"
    }
   ],
   "source": [
    "new_df.toPandas().head()"
   ]
  },
  {
   "cell_type": "markdown",
   "id": "6e5a21a1-ae5b-43ab-8369-21d6a1a28fea",
   "metadata": {},
   "source": [
    "## 데이터 확인"
   ]
  },
  {
   "cell_type": "markdown",
   "id": "d4f57a21-a70c-43db-b0e4-ba6a57ce3283",
   "metadata": {},
   "source": [
    "### 채용공고 수"
   ]
  },
  {
   "cell_type": "code",
   "execution_count": 103,
   "id": "c47abc9d-0aa1-4a29-9f5d-2d9f3f54e94f",
   "metadata": {
    "tags": []
   },
   "outputs": [
    {
     "name": "stdout",
     "output_type": "stream",
     "text": [
      "+--------------+---------------------------+------------------------+------------+\n",
      "|major_category|            middle_category|            sub_category|job_id_count|\n",
      "+--------------+---------------------------+------------------------+------------+\n",
      "|       SUPPORT|                QA 엔지니어|      QA,테스트 엔지니어|         240|\n",
      "|           ETC|          블록체인 엔지니어|블록체인 플랫폼 엔지니어|         100|\n",
      "|          GAME|                게임 개발자|        게임 서버 개발자|          24|\n",
      "|       SUPPORT|                   기술지원|        SUPPORT_ENGINEER|          12|\n",
      "|     DEVSECOPS|   데브옵스/인프라 엔지니어|  devops/시스템 엔지니어|         190|\n",
      "|           WEB|          프론트엔드 개발자|         프론트엔드 개발|         178|\n",
      "|           WEB|                웹 퍼블리셔|             웹 퍼블리셔|          80|\n",
      "|        MOBILE|                 iOS 개발자|              iOS 개발자|         300|\n",
      "|          GAME|                   VR/AR/3D|             VR 엔지니어|          53|\n",
      "|     DEVSECOPS|            정보보안 담당자|    CIO,Chief Informa...|           7|\n",
      "|        MOBILE|크로스 플랫폼 모바일 개발자|  크로스플랫폼 앱 개발자|         100|\n",
      "|          DATA|            데이터 엔지니어|       빅데이터 엔지니어|         279|\n",
      "|     SW/HW/IOT|         HW/임베디드 개발자|       하드웨어 엔지니어|         160|\n",
      "|           WEB|                웹 퍼블리셔|              웹퍼블리셔|          30|\n",
      "|     SW/HW/IOT|          소프트웨어 개발자|           파이썬 개발자|         440|\n",
      "|     SW/HW/IOT|          소프트웨어 개발자|            C,C++ 개발자|         560|\n",
      "|          DATA|              데이터 분석가|            DATA_ANALYST|          13|\n",
      "|           WEB|          프론트엔드 개발자|      FRONTEND_DEVELOPER|          82|\n",
      "|          null|                       null|                    null|        3287|\n",
      "|           WEB|         서버/백엔드 개발자|             .NET 개발자|          80|\n",
      "+--------------+---------------------------+------------------------+------------+\n",
      "only showing top 20 rows\n",
      "\n"
     ]
    }
   ],
   "source": [
    "from pyspark.sql import functions as F\n",
    "\n",
    "group_category = new_df.groupBy('major_category', 'middle_category', 'sub_category') \\\n",
    "                                          .agg(F.count('job_id').alias('job_id_count'))\n",
    "\n",
    "group_category.show()"
   ]
  },
  {
   "cell_type": "code",
   "execution_count": 104,
   "id": "91beadaf-0881-459e-8a15-7ccbfb0f6092",
   "metadata": {
    "tags": []
   },
   "outputs": [
    {
     "data": {
      "text/html": [
       "<div>\n",
       "<style scoped>\n",
       "    .dataframe tbody tr th:only-of-type {\n",
       "        vertical-align: middle;\n",
       "    }\n",
       "\n",
       "    .dataframe tbody tr th {\n",
       "        vertical-align: top;\n",
       "    }\n",
       "\n",
       "    .dataframe thead th {\n",
       "        text-align: right;\n",
       "    }\n",
       "</style>\n",
       "<table border=\"1\" class=\"dataframe\">\n",
       "  <thead>\n",
       "    <tr style=\"text-align: right;\">\n",
       "      <th></th>\n",
       "      <th>major_category</th>\n",
       "      <th>middle_category</th>\n",
       "      <th>sub_category</th>\n",
       "      <th>job_id_count</th>\n",
       "    </tr>\n",
       "  </thead>\n",
       "  <tbody>\n",
       "    <tr>\n",
       "      <th>0</th>\n",
       "      <td>SUPPORT</td>\n",
       "      <td>QA 엔지니어</td>\n",
       "      <td>QA,테스트 엔지니어</td>\n",
       "      <td>240</td>\n",
       "    </tr>\n",
       "    <tr>\n",
       "      <th>1</th>\n",
       "      <td>ETC</td>\n",
       "      <td>블록체인 엔지니어</td>\n",
       "      <td>블록체인 플랫폼 엔지니어</td>\n",
       "      <td>100</td>\n",
       "    </tr>\n",
       "    <tr>\n",
       "      <th>2</th>\n",
       "      <td>GAME</td>\n",
       "      <td>게임 개발자</td>\n",
       "      <td>게임 서버 개발자</td>\n",
       "      <td>24</td>\n",
       "    </tr>\n",
       "    <tr>\n",
       "      <th>3</th>\n",
       "      <td>SUPPORT</td>\n",
       "      <td>기술지원</td>\n",
       "      <td>SUPPORT_ENGINEER</td>\n",
       "      <td>12</td>\n",
       "    </tr>\n",
       "    <tr>\n",
       "      <th>4</th>\n",
       "      <td>DEVSECOPS</td>\n",
       "      <td>데브옵스/인프라 엔지니어</td>\n",
       "      <td>devops/시스템 엔지니어</td>\n",
       "      <td>190</td>\n",
       "    </tr>\n",
       "    <tr>\n",
       "      <th>...</th>\n",
       "      <td>...</td>\n",
       "      <td>...</td>\n",
       "      <td>...</td>\n",
       "      <td>...</td>\n",
       "    </tr>\n",
       "    <tr>\n",
       "      <th>62</th>\n",
       "      <td>DATA</td>\n",
       "      <td>DBA</td>\n",
       "      <td>DBA</td>\n",
       "      <td>118</td>\n",
       "    </tr>\n",
       "    <tr>\n",
       "      <th>63</th>\n",
       "      <td>GAME</td>\n",
       "      <td>VR/AR/3D</td>\n",
       "      <td>VR/AR/3D,게임 클라이언트 개발자</td>\n",
       "      <td>22</td>\n",
       "    </tr>\n",
       "    <tr>\n",
       "      <th>64</th>\n",
       "      <td>SUPPORT</td>\n",
       "      <td>QA 엔지니어</td>\n",
       "      <td>QA</td>\n",
       "      <td>73</td>\n",
       "    </tr>\n",
       "    <tr>\n",
       "      <th>65</th>\n",
       "      <td>GAME</td>\n",
       "      <td>게임 개발자</td>\n",
       "      <td>게임 클라이언트 개발자</td>\n",
       "      <td>47</td>\n",
       "    </tr>\n",
       "    <tr>\n",
       "      <th>66</th>\n",
       "      <td>SW/HW/IOT</td>\n",
       "      <td>소프트웨어 개발자</td>\n",
       "      <td>소프트웨어 엔지니어</td>\n",
       "      <td>1300</td>\n",
       "    </tr>\n",
       "  </tbody>\n",
       "</table>\n",
       "<p>67 rows × 4 columns</p>\n",
       "</div>"
      ],
      "text/plain": [
       "   major_category middle_category           sub_category  job_id_count\n",
       "0         SUPPORT         QA 엔지니어            QA,테스트 엔지니어           240\n",
       "1             ETC       블록체인 엔지니어          블록체인 플랫폼 엔지니어           100\n",
       "2            GAME          게임 개발자              게임 서버 개발자            24\n",
       "3         SUPPORT            기술지원       SUPPORT_ENGINEER            12\n",
       "4       DEVSECOPS   데브옵스/인프라 엔지니어        devops/시스템 엔지니어           190\n",
       "..            ...             ...                    ...           ...\n",
       "62           DATA             DBA                    DBA           118\n",
       "63           GAME        VR/AR/3D  VR/AR/3D,게임 클라이언트 개발자            22\n",
       "64        SUPPORT         QA 엔지니어                     QA            73\n",
       "65           GAME          게임 개발자           게임 클라이언트 개발자            47\n",
       "66      SW/HW/IOT       소프트웨어 개발자             소프트웨어 엔지니어          1300\n",
       "\n",
       "[67 rows x 4 columns]"
      ]
     },
     "execution_count": 104,
     "metadata": {},
     "output_type": "execute_result"
    }
   ],
   "source": [
    "group_category.toPandas()"
   ]
  },
  {
   "cell_type": "code",
   "execution_count": 123,
   "id": "fe7b71f7-f260-4b90-be07-f755addd7cc4",
   "metadata": {
    "scrolled": true,
    "tags": []
   },
   "outputs": [
    {
     "name": "stdout",
     "output_type": "stream",
     "text": [
      "Requirement already satisfied: matplotlib in /opt/conda/lib/python3.10/site-packages (3.7.0)\n",
      "Requirement already satisfied: seaborn in /opt/conda/lib/python3.10/site-packages (0.12.2)\n",
      "Requirement already satisfied: python-dateutil>=2.7 in /opt/conda/lib/python3.10/site-packages (from matplotlib) (2.8.2)\n",
      "Requirement already satisfied: contourpy>=1.0.1 in /opt/conda/lib/python3.10/site-packages (from matplotlib) (1.0.7)\n",
      "Requirement already satisfied: pillow>=6.2.0 in /opt/conda/lib/python3.10/site-packages (from matplotlib) (9.4.0)\n",
      "Requirement already satisfied: cycler>=0.10 in /opt/conda/lib/python3.10/site-packages (from matplotlib) (0.11.0)\n",
      "Requirement already satisfied: fonttools>=4.22.0 in /opt/conda/lib/python3.10/site-packages (from matplotlib) (4.38.0)\n",
      "Requirement already satisfied: pyparsing>=2.3.1 in /opt/conda/lib/python3.10/site-packages (from matplotlib) (3.0.9)\n",
      "Requirement already satisfied: kiwisolver>=1.0.1 in /opt/conda/lib/python3.10/site-packages (from matplotlib) (1.4.4)\n",
      "Requirement already satisfied: packaging>=20.0 in /opt/conda/lib/python3.10/site-packages (from matplotlib) (23.0)\n",
      "Requirement already satisfied: numpy>=1.20 in /opt/conda/lib/python3.10/site-packages (from matplotlib) (1.23.5)\n",
      "Requirement already satisfied: pandas>=0.25 in /opt/conda/lib/python3.10/site-packages (from seaborn) (1.5.3)\n",
      "Requirement already satisfied: pytz>=2020.1 in /opt/conda/lib/python3.10/site-packages (from pandas>=0.25->seaborn) (2022.7.1)\n",
      "Requirement already satisfied: six>=1.5 in /opt/conda/lib/python3.10/site-packages (from python-dateutil>=2.7->matplotlib) (1.16.0)\n"
     ]
    }
   ],
   "source": [
    "!pip install matplotlib seaborn"
   ]
  },
  {
   "cell_type": "code",
   "execution_count": null,
   "id": "9194c198-8067-436c-a87c-4d2cd91b7b4e",
   "metadata": {},
   "outputs": [],
   "source": [
    "# Convert to pandas DataFrame\n",
    "grouped_major_category_pd = group_category.toPandas()"
   ]
  },
  {
   "cell_type": "code",
   "execution_count": 136,
   "id": "26fe9c6a-8d21-4c8c-85ff-02ac5df9dd0f",
   "metadata": {
    "tags": []
   },
   "outputs": [],
   "source": [
    "import logging\n",
    "logging.getLogger('matplotlib').setLevel(logging.ERROR)"
   ]
  },
  {
   "cell_type": "code",
   "execution_count": 137,
   "id": "a4d9c46f-f4e2-4e54-ae91-6497da1633a6",
   "metadata": {
    "tags": []
   },
   "outputs": [
    {
     "data": {
      "image/png": "[encoded data removed]",
      "text/plain": [
       "<Figure size 1000x600 with 1 Axes>"
      ]
     },
     "metadata": {},
     "output_type": "display_data"
    }
   ],
   "source": [
    "import warnings\n",
    "warnings.filterwarnings(\"ignore\")\n",
    "\n",
    "import matplotlib.pyplot as plt\n",
    "import seaborn as sns\n",
    "import matplotlib.font_manager as fm\n",
    "\n",
    "\n",
    "# Visualize using seaborn and matplotlib\n",
    "plt.figure(figsize=(10, 6))\n",
    "sns.barplot(data=grouped_major_category_pd, y='job_id_count', x='major_category')\n",
    "\n",
    "# Setting the downloaded font \n",
    "font_path = \"./font/applegothic.ttf\"\n",
    "font_properties = fm.FontProperties(fname=font_path)\n",
    "\n",
    "# Use the font properties for Korean characters\n",
    "plt.title('Grouped Data Count by Major Category', fontproperties=font_properties)\n",
    "plt.ylabel('대분류', fontproperties=font_properties)\n",
    "plt.xlabel('채용공고 수', fontproperties=font_properties)\n",
    "\n",
    "plt.rc('axes', unicode_minus=False)\n",
    "plt.show()"
   ]
  },
  {
   "cell_type": "code",
   "execution_count": 146,
   "id": "df86814f-424a-4926-8395-e315024a8062",
   "metadata": {
    "tags": []
   },
   "outputs": [
    {
     "data": {
      "image/png": "[encoded data removed]",
      "text/plain": [
       "<Figure size 1000x900 with 1 Axes>"
      ]
     },
     "metadata": {},
     "output_type": "display_data"
    }
   ],
   "source": [
    "import matplotlib.pyplot as plt\n",
    "import matplotlib.font_manager as fm\n",
    "import seaborn as sns\n",
    "\n",
    "# Convert to pandas DataFrame if necessary\n",
    "# grouped_major_category_pd = group_category.toPandas()\n",
    "\n",
    "# Group by sub-category\n",
    "grouped_df_sub_category = grouped_major_category_pd.groupby('middle_category').size().reset_index(name='job_id_count').sort_values('job_id_count', ascending=False)\n",
    "\n",
    "# Setting the font globally\n",
    "font_path = \"./font/applegothic.ttf\"\n",
    "font_name = fm.FontProperties(fname=font_path).get_name()\n",
    "plt.rc('font', family=font_name)\n",
    "font_properties = fm.FontProperties(fname=font_path)\n",
    "\n",
    "# Create the plot\n",
    "plt.figure(figsize=(10, 9))\n",
    "sns.barplot(data=grouped_df_sub_category, y='middle_category', x='job_id_count')\n",
    "\n",
    "\n",
    "# Set y-tick labels manually\n",
    "ax = plt.gca()\n",
    "y_labels = ax.get_yticklabels()\n",
    "ax.set_yticklabels(y_labels, fontproperties=fm.FontProperties(fname=font_path))\n",
    "\n",
    "\n",
    "plt.title('Grouped Data Count by Sub Category', fontproperties=font_properties)\n",
    "plt.xlabel('채용공고 수', fontproperties=font_properties)\n",
    "plt.ylabel('중분류', fontproperties=font_properties)\n",
    "plt.rc('axes', unicode_minus=False)\n",
    "plt.show()\n",
    "\n"
   ]
  },
  {
   "cell_type": "markdown",
   "id": "e750bef9-3aee-45d0-9bb7-24e9a2d98ff2",
   "metadata": {},
   "source": [
    "### 회사 주소"
   ]
  },
  {
   "cell_type": "code",
   "execution_count": 147,
   "id": "7f4be6fb-cb88-4c43-ae37-594c80ede40e",
   "metadata": {
    "tags": []
   },
   "outputs": [],
   "source": [
    "# Convert to pandas DataFrame\n",
    "temp_df = new_df.toPandas()"
   ]
  },
  {
   "cell_type": "code",
   "execution_count": 148,
   "id": "a9abe69f-7278-4fe6-9d46-82d5cf97ed83",
   "metadata": {
    "tags": []
   },
   "outputs": [],
   "source": [
    "def clean_location_sido(location):\n",
    "    if location:\n",
    "        location = location.split()\n",
    "        if location[0].startswith('주소'):\n",
    "            location = location[1][:2]\n",
    "        else:\n",
    "            location = location[0][:2]\n",
    "        return location\n",
    "    else:\n",
    "        None"
   ]
  },
  {
   "cell_type": "code",
   "execution_count": 149,
   "id": "84cc0401-aa03-4d21-a2ed-717d1f8eb7e8",
   "metadata": {
    "tags": []
   },
   "outputs": [],
   "source": [
    "temp_df['sido_location'] = temp_df['location'].apply(lambda x: clean_location_sido(x))"
   ]
  },
  {
   "cell_type": "code",
   "execution_count": 156,
   "id": "c486ae04-a023-4cc7-ab89-554f904bbbc7",
   "metadata": {
    "tags": []
   },
   "outputs": [
    {
     "data": {
      "image/png": "[encoded data removed]",
      "text/plain": [
       "<Figure size 1000x2000 with 1 Axes>"
      ]
     },
     "metadata": {},
     "output_type": "display_data"
    }
   ],
   "source": [
    "import matplotlib.pyplot as plt\n",
    "import matplotlib.font_manager as fm\n",
    "import seaborn as sns\n",
    "\n",
    "# Assuming temp_df has already been defined\n",
    "\n",
    "# Grouping data by 'sido_location'\n",
    "grouped_df_location = temp_df.groupby('sido_location').size().reset_index(name='count')\n",
    "\n",
    "# Setting the font path and properties\n",
    "font_path = \"./font/applegothic.ttf\"\n",
    "font_properties = fm.FontProperties(fname=font_path)\n",
    "\n",
    "# Drawing the bar plot\n",
    "plt.figure(figsize=(10, 20))\n",
    "ax = sns.barplot(data=grouped_df_location, y='sido_location', x='count')\n",
    "\n",
    "# Adjusting y-tick labels for the font\n",
    "y_labels = ax.get_yticklabels()\n",
    "ax.set_yticklabels(y_labels, fontproperties=font_properties)\n",
    "\n",
    "# Setting title and labels with the desired font\n",
    "plt.title('Grouped Data Count by Location (Sido)', fontproperties=font_properties)\n",
    "plt.xlabel('채용공고 수', fontproperties=font_properties)\n",
    "plt.ylabel('지역', fontproperties=font_properties)\n",
    "\n",
    "# Displaying the plot\n",
    "plt.show()"
   ]
  },
  {
   "cell_type": "code",
   "execution_count": 157,
   "id": "a81f113d-91a0-4263-9366-51a58be8c1b9",
   "metadata": {
    "tags": []
   },
   "outputs": [],
   "source": [
    "def clean_location_gugun(location):\n",
    "    if location:\n",
    "        location = location.split()\n",
    "        if location[0].startswith('주소'):\n",
    "            location = location[2][:2]\n",
    "        else:\n",
    "            if len(location) == 1:\n",
    "                return None\n",
    "            location = location[1][:2]\n",
    "        return location\n",
    "    else:\n",
    "        None"
   ]
  },
  {
   "cell_type": "code",
   "execution_count": 158,
   "id": "71415564-923e-4ab7-9e04-f69a8685cfad",
   "metadata": {
    "tags": []
   },
   "outputs": [],
   "source": [
    "temp_df['gugun_location'] = temp_df['location'].apply(lambda x: clean_location_gugun(x))"
   ]
  },
  {
   "cell_type": "code",
   "execution_count": 160,
   "id": "5174a4a2-0691-4fba-a003-beb4a23effea",
   "metadata": {
    "tags": []
   },
   "outputs": [
    {
     "data": {
      "image/png": "[encoded data removed]",
      "text/plain": [
       "<Figure size 1000x3000 with 1 Axes>"
      ]
     },
     "metadata": {},
     "output_type": "display_data"
    }
   ],
   "source": [
    "grouped_df_location_gugun = temp_df.groupby('gugun_location').size().reset_index(name='count')\n",
    "\n",
    "# 그래프 그리기\n",
    "plt.figure(figsize=(10, 30))\n",
    "ax = sns.barplot(data=grouped_df_location_gugun, y='gugun_location', x='count')\n",
    "\n",
    "# Adjusting y-tick labels for the font\n",
    "y_labels = ax.get_yticklabels()\n",
    "ax.set_yticklabels(y_labels, fontproperties=font_properties)\n",
    "\n",
    "\n",
    "plt.title('Grouped Data Count by Location (Gugun)', fontproperties=font_properties)\n",
    "plt.xlabel('채용공고 수', fontproperties=font_properties)\n",
    "plt.ylabel('지역', fontproperties=font_properties)\n",
    "plt.show()"
   ]
  },
  {
   "cell_type": "markdown",
   "id": "b5913a1f-0234-4295-a094-850bed5818e8",
   "metadata": {},
   "source": [
    "## 키워드 추출"
   ]
  },
  {
   "cell_type": "code",
   "execution_count": 161,
   "id": "b9cccb46-1509-4ee2-af4c-d35d70044d36",
   "metadata": {
    "tags": []
   },
   "outputs": [
    {
     "name": "stdout",
     "output_type": "stream",
     "text": [
      "Collecting kiwipiepy\n",
      "  Downloading kiwipiepy-0.15.2-cp310-cp310-manylinux_2_17_aarch64.manylinux2014_aarch64.whl (2.1 MB)\n",
      "\u001b[2K     \u001b[90m━━━━━━━━━━━━━━━━━━━━━━━━━━━━━━━━━━━━━━━━\u001b[0m \u001b[32m2.1/2.1 MB\u001b[0m \u001b[31m9.9 MB/s\u001b[0m eta \u001b[36m0:00:00\u001b[0mta \u001b[36m0:00:01\u001b[0m\n",
      "\u001b[?25hRequirement already satisfied: tqdm in /opt/conda/lib/python3.10/site-packages (from kiwipiepy) (4.64.1)\n",
      "Collecting kiwipiepy-model~=0.15\n",
      "  Downloading kiwipiepy_model-0.15.0.tar.gz (30.5 MB)\n",
      "\u001b[2K     \u001b[90m━━━━━━━━━━━━━━━━━━━━━━━━━━━━━━━━━━━━━━━━\u001b[0m \u001b[32m30.5/30.5 MB\u001b[0m \u001b[31m8.7 MB/s\u001b[0m eta \u001b[36m0:00:00\u001b[0m:00:01\u001b[0m00:01\u001b[0m\n",
      "\u001b[?25h  Preparing metadata (setup.py) ... \u001b[?25ldone\n",
      "\u001b[?25hCollecting dataclasses\n",
      "  Downloading dataclasses-0.6-py3-none-any.whl (14 kB)\n",
      "Requirement already satisfied: numpy in /opt/conda/lib/python3.10/site-packages (from kiwipiepy) (1.23.5)\n",
      "Building wheels for collected packages: kiwipiepy-model\n",
      "  Building wheel for kiwipiepy-model (setup.py) ... \u001b[?25ldone\n",
      "\u001b[?25h  Created wheel for kiwipiepy-model: filename=kiwipiepy_model-0.15.0-py3-none-any.whl size=30602630 sha256=695cdad06d9c5a97b7c9408c64080e6953771f02c41dea8e77dbeee3a5b2cad7\n",
      "  Stored in directory: /home/jovyan/.cache/pip/wheels/f3/55/41/ca474338ece1bc4314b01445f64ff002d71e19df45575a16e2\n",
      "Successfully built kiwipiepy-model\n",
      "Installing collected packages: kiwipiepy-model, dataclasses, kiwipiepy\n",
      "Successfully installed dataclasses-0.6 kiwipiepy-0.15.2 kiwipiepy-model-0.15.0\n"
     ]
    }
   ],
   "source": [
    "!pip install kiwipiepy"
   ]
  },
  {
   "cell_type": "code",
   "execution_count": 162,
   "id": "cd6a136b-0374-45d6-8e3c-d35bef77ecb1",
   "metadata": {
    "tags": []
   },
   "outputs": [],
   "source": [
    "from kiwipiepy import Kiwi"
   ]
  },
  {
   "cell_type": "code",
   "execution_count": 163,
   "id": "270b6d60-5d7a-4de6-a730-fbd27f9c5c98",
   "metadata": {
    "tags": []
   },
   "outputs": [],
   "source": [
    "kiwi = Kiwi()"
   ]
  },
  {
   "cell_type": "code",
   "execution_count": 167,
   "id": "c79d9a1a-7c24-435c-9af8-501f058bc82e",
   "metadata": {
    "tags": []
   },
   "outputs": [
    {
     "name": "stderr",
     "output_type": "stream",
     "text": [
      "Traceback (most recent call last):\n",
      "  File \"/usr/local/spark/python/pyspark/serializers.py\", line 458, in dumps\n",
      "    return cloudpickle.dumps(obj, pickle_protocol)\n",
      "  File \"/usr/local/spark/python/pyspark/cloudpickle/cloudpickle_fast.py\", line 73, in dumps\n",
      "    cp.dump(obj)\n",
      "  File \"/usr/local/spark/python/pyspark/cloudpickle/cloudpickle_fast.py\", line 602, in dump\n",
      "    return Pickler.dump(self, obj)\n",
      "TypeError: cannot pickle 'Kiwi' object\n"
     ]
    },
    {
     "ename": "PicklingError",
     "evalue": "Could not serialize object: TypeError: cannot pickle 'Kiwi' object",
     "output_type": "error",
     "traceback": [
      "\u001b[0;31m---------------------------------------------------------------------------\u001b[0m",
      "\u001b[0;31mTypeError\u001b[0m                                 Traceback (most recent call last)",
      "File \u001b[0;32m/usr/local/spark/python/pyspark/serializers.py:458\u001b[0m, in \u001b[0;36mCloudPickleSerializer.dumps\u001b[0;34m(self, obj)\u001b[0m\n\u001b[1;32m    457\u001b[0m \u001b[38;5;28;01mtry\u001b[39;00m:\n\u001b[0;32m--> 458\u001b[0m     \u001b[38;5;28;01mreturn\u001b[39;00m \u001b[43mcloudpickle\u001b[49m\u001b[38;5;241;43m.\u001b[39;49m\u001b[43mdumps\u001b[49m\u001b[43m(\u001b[49m\u001b[43mobj\u001b[49m\u001b[43m,\u001b[49m\u001b[43m \u001b[49m\u001b[43mpickle_protocol\u001b[49m\u001b[43m)\u001b[49m\n\u001b[1;32m    459\u001b[0m \u001b[38;5;28;01mexcept\u001b[39;00m pickle\u001b[38;5;241m.\u001b[39mPickleError:\n",
      "File \u001b[0;32m/usr/local/spark/python/pyspark/cloudpickle/cloudpickle_fast.py:73\u001b[0m, in \u001b[0;36mdumps\u001b[0;34m(obj, protocol, buffer_callback)\u001b[0m\n\u001b[1;32m     70\u001b[0m cp \u001b[38;5;241m=\u001b[39m CloudPickler(\n\u001b[1;32m     71\u001b[0m     file, protocol\u001b[38;5;241m=\u001b[39mprotocol, buffer_callback\u001b[38;5;241m=\u001b[39mbuffer_callback\n\u001b[1;32m     72\u001b[0m )\n\u001b[0;32m---> 73\u001b[0m \u001b[43mcp\u001b[49m\u001b[38;5;241;43m.\u001b[39;49m\u001b[43mdump\u001b[49m\u001b[43m(\u001b[49m\u001b[43mobj\u001b[49m\u001b[43m)\u001b[49m\n\u001b[1;32m     74\u001b[0m \u001b[38;5;28;01mreturn\u001b[39;00m file\u001b[38;5;241m.\u001b[39mgetvalue()\n",
      "File \u001b[0;32m/usr/local/spark/python/pyspark/cloudpickle/cloudpickle_fast.py:602\u001b[0m, in \u001b[0;36mCloudPickler.dump\u001b[0;34m(self, obj)\u001b[0m\n\u001b[1;32m    601\u001b[0m \u001b[38;5;28;01mtry\u001b[39;00m:\n\u001b[0;32m--> 602\u001b[0m     \u001b[38;5;28;01mreturn\u001b[39;00m \u001b[43mPickler\u001b[49m\u001b[38;5;241;43m.\u001b[39;49m\u001b[43mdump\u001b[49m\u001b[43m(\u001b[49m\u001b[38;5;28;43mself\u001b[39;49m\u001b[43m,\u001b[49m\u001b[43m \u001b[49m\u001b[43mobj\u001b[49m\u001b[43m)\u001b[49m\n\u001b[1;32m    603\u001b[0m \u001b[38;5;28;01mexcept\u001b[39;00m \u001b[38;5;167;01mRuntimeError\u001b[39;00m \u001b[38;5;28;01mas\u001b[39;00m e:\n",
      "\u001b[0;31mTypeError\u001b[0m: cannot pickle 'Kiwi' object",
      "\nDuring handling of the above exception, another exception occurred:\n",
      "\u001b[0;31mPicklingError\u001b[0m                             Traceback (most recent call last)",
      "Cell \u001b[0;32mIn[167], line 19\u001b[0m\n\u001b[1;32m     16\u001b[0m extract_noun_udf \u001b[38;5;241m=\u001b[39m udf(extract_noun, ArrayType(StringType()))\n\u001b[1;32m     18\u001b[0m \u001b[38;5;66;03m# Applying the UDF to your Spark DataFrame columns\u001b[39;00m\n\u001b[0;32m---> 19\u001b[0m new_df \u001b[38;5;241m=\u001b[39m new_df\u001b[38;5;241m.\u001b[39mwithColumn(\u001b[38;5;124m'\u001b[39m\u001b[38;5;124mcleaned_required\u001b[39m\u001b[38;5;124m'\u001b[39m, \u001b[43mextract_noun_udf\u001b[49m\u001b[43m(\u001b[49m\u001b[43mnew_df\u001b[49m\u001b[43m[\u001b[49m\u001b[38;5;124;43m'\u001b[39;49m\u001b[38;5;124;43mrequired\u001b[39;49m\u001b[38;5;124;43m'\u001b[39;49m\u001b[43m]\u001b[49m\u001b[43m)\u001b[49m)\n\u001b[1;32m     20\u001b[0m new_df \u001b[38;5;241m=\u001b[39m new_df\u001b[38;5;241m.\u001b[39mwithColumn(\u001b[38;5;124m'\u001b[39m\u001b[38;5;124mcleaned_primary_responsibility\u001b[39m\u001b[38;5;124m'\u001b[39m, extract_noun_udf(new_df[\u001b[38;5;124m'\u001b[39m\u001b[38;5;124mprimary_responsibility\u001b[39m\u001b[38;5;124m'\u001b[39m]))\n\u001b[1;32m     21\u001b[0m new_df \u001b[38;5;241m=\u001b[39m new_df\u001b[38;5;241m.\u001b[39mwithColumn(\u001b[38;5;124m'\u001b[39m\u001b[38;5;124mcleaned_preferred\u001b[39m\u001b[38;5;124m'\u001b[39m, extract_noun_udf(new_df[\u001b[38;5;124m'\u001b[39m\u001b[38;5;124mpreferred\u001b[39m\u001b[38;5;124m'\u001b[39m]))\n",
      "File \u001b[0;32m/usr/local/spark/python/pyspark/sql/udf.py:276\u001b[0m, in \u001b[0;36mUserDefinedFunction._wrapped.<locals>.wrapper\u001b[0;34m(*args)\u001b[0m\n\u001b[1;32m    274\u001b[0m \u001b[38;5;129m@functools\u001b[39m\u001b[38;5;241m.\u001b[39mwraps(\u001b[38;5;28mself\u001b[39m\u001b[38;5;241m.\u001b[39mfunc, assigned\u001b[38;5;241m=\u001b[39massignments)\n\u001b[1;32m    275\u001b[0m \u001b[38;5;28;01mdef\u001b[39;00m \u001b[38;5;21mwrapper\u001b[39m(\u001b[38;5;241m*\u001b[39margs: \u001b[38;5;124m\"\u001b[39m\u001b[38;5;124mColumnOrName\u001b[39m\u001b[38;5;124m\"\u001b[39m) \u001b[38;5;241m-\u001b[39m\u001b[38;5;241m>\u001b[39m Column:\n\u001b[0;32m--> 276\u001b[0m     \u001b[38;5;28;01mreturn\u001b[39;00m \u001b[38;5;28;43mself\u001b[39;49m\u001b[43m(\u001b[49m\u001b[38;5;241;43m*\u001b[39;49m\u001b[43margs\u001b[49m\u001b[43m)\u001b[49m\n",
      "File \u001b[0;32m/usr/local/spark/python/pyspark/sql/udf.py:249\u001b[0m, in \u001b[0;36mUserDefinedFunction.__call__\u001b[0;34m(self, *cols)\u001b[0m\n\u001b[1;32m    247\u001b[0m     judf \u001b[38;5;241m=\u001b[39m \u001b[38;5;28mself\u001b[39m\u001b[38;5;241m.\u001b[39m_create_judf(func)\n\u001b[1;32m    248\u001b[0m \u001b[38;5;28;01melse\u001b[39;00m:\n\u001b[0;32m--> 249\u001b[0m     judf \u001b[38;5;241m=\u001b[39m \u001b[38;5;28;43mself\u001b[39;49m\u001b[38;5;241;43m.\u001b[39;49m\u001b[43m_judf\u001b[49m\n\u001b[1;32m    251\u001b[0m jPythonUDF \u001b[38;5;241m=\u001b[39m judf\u001b[38;5;241m.\u001b[39mapply(_to_seq(sc, cols, _to_java_column))\n\u001b[1;32m    252\u001b[0m \u001b[38;5;28;01mif\u001b[39;00m profiler \u001b[38;5;129;01mis\u001b[39;00m \u001b[38;5;129;01mnot\u001b[39;00m \u001b[38;5;28;01mNone\u001b[39;00m:\n",
      "File \u001b[0;32m/usr/local/spark/python/pyspark/sql/udf.py:215\u001b[0m, in \u001b[0;36mUserDefinedFunction._judf\u001b[0;34m(self)\u001b[0m\n\u001b[1;32m    208\u001b[0m \u001b[38;5;129m@property\u001b[39m\n\u001b[1;32m    209\u001b[0m \u001b[38;5;28;01mdef\u001b[39;00m \u001b[38;5;21m_judf\u001b[39m(\u001b[38;5;28mself\u001b[39m) \u001b[38;5;241m-\u001b[39m\u001b[38;5;241m>\u001b[39m JavaObject:\n\u001b[1;32m    210\u001b[0m     \u001b[38;5;66;03m# It is possible that concurrent access, to newly created UDF,\u001b[39;00m\n\u001b[1;32m    211\u001b[0m     \u001b[38;5;66;03m# will initialize multiple UserDefinedPythonFunctions.\u001b[39;00m\n\u001b[1;32m    212\u001b[0m     \u001b[38;5;66;03m# This is unlikely, doesn't affect correctness,\u001b[39;00m\n\u001b[1;32m    213\u001b[0m     \u001b[38;5;66;03m# and should have a minimal performance impact.\u001b[39;00m\n\u001b[1;32m    214\u001b[0m     \u001b[38;5;28;01mif\u001b[39;00m \u001b[38;5;28mself\u001b[39m\u001b[38;5;241m.\u001b[39m_judf_placeholder \u001b[38;5;129;01mis\u001b[39;00m \u001b[38;5;28;01mNone\u001b[39;00m:\n\u001b[0;32m--> 215\u001b[0m         \u001b[38;5;28mself\u001b[39m\u001b[38;5;241m.\u001b[39m_judf_placeholder \u001b[38;5;241m=\u001b[39m \u001b[38;5;28;43mself\u001b[39;49m\u001b[38;5;241;43m.\u001b[39;49m\u001b[43m_create_judf\u001b[49m\u001b[43m(\u001b[49m\u001b[38;5;28;43mself\u001b[39;49m\u001b[38;5;241;43m.\u001b[39;49m\u001b[43mfunc\u001b[49m\u001b[43m)\u001b[49m\n\u001b[1;32m    216\u001b[0m     \u001b[38;5;28;01mreturn\u001b[39;00m \u001b[38;5;28mself\u001b[39m\u001b[38;5;241m.\u001b[39m_judf_placeholder\n",
      "File \u001b[0;32m/usr/local/spark/python/pyspark/sql/udf.py:224\u001b[0m, in \u001b[0;36mUserDefinedFunction._create_judf\u001b[0;34m(self, func)\u001b[0m\n\u001b[1;32m    221\u001b[0m spark \u001b[38;5;241m=\u001b[39m SparkSession\u001b[38;5;241m.\u001b[39m_getActiveSessionOrCreate()\n\u001b[1;32m    222\u001b[0m sc \u001b[38;5;241m=\u001b[39m spark\u001b[38;5;241m.\u001b[39msparkContext\n\u001b[0;32m--> 224\u001b[0m wrapped_func \u001b[38;5;241m=\u001b[39m \u001b[43m_wrap_function\u001b[49m\u001b[43m(\u001b[49m\u001b[43msc\u001b[49m\u001b[43m,\u001b[49m\u001b[43m \u001b[49m\u001b[43mfunc\u001b[49m\u001b[43m,\u001b[49m\u001b[43m \u001b[49m\u001b[38;5;28;43mself\u001b[39;49m\u001b[38;5;241;43m.\u001b[39;49m\u001b[43mreturnType\u001b[49m\u001b[43m)\u001b[49m\n\u001b[1;32m    225\u001b[0m jdt \u001b[38;5;241m=\u001b[39m spark\u001b[38;5;241m.\u001b[39m_jsparkSession\u001b[38;5;241m.\u001b[39mparseDataType(\u001b[38;5;28mself\u001b[39m\u001b[38;5;241m.\u001b[39mreturnType\u001b[38;5;241m.\u001b[39mjson())\n\u001b[1;32m    226\u001b[0m \u001b[38;5;28;01massert\u001b[39;00m sc\u001b[38;5;241m.\u001b[39m_jvm \u001b[38;5;129;01mis\u001b[39;00m \u001b[38;5;129;01mnot\u001b[39;00m \u001b[38;5;28;01mNone\u001b[39;00m\n",
      "File \u001b[0;32m/usr/local/spark/python/pyspark/sql/udf.py:50\u001b[0m, in \u001b[0;36m_wrap_function\u001b[0;34m(sc, func, returnType)\u001b[0m\n\u001b[1;32m     46\u001b[0m \u001b[38;5;28;01mdef\u001b[39;00m \u001b[38;5;21m_wrap_function\u001b[39m(\n\u001b[1;32m     47\u001b[0m     sc: SparkContext, func: Callable[\u001b[38;5;241m.\u001b[39m\u001b[38;5;241m.\u001b[39m\u001b[38;5;241m.\u001b[39m, Any], returnType: \u001b[38;5;124m\"\u001b[39m\u001b[38;5;124mDataTypeOrString\u001b[39m\u001b[38;5;124m\"\u001b[39m\n\u001b[1;32m     48\u001b[0m ) \u001b[38;5;241m-\u001b[39m\u001b[38;5;241m>\u001b[39m JavaObject:\n\u001b[1;32m     49\u001b[0m     command \u001b[38;5;241m=\u001b[39m (func, returnType)\n\u001b[0;32m---> 50\u001b[0m     pickled_command, broadcast_vars, env, includes \u001b[38;5;241m=\u001b[39m \u001b[43m_prepare_for_python_RDD\u001b[49m\u001b[43m(\u001b[49m\u001b[43msc\u001b[49m\u001b[43m,\u001b[49m\u001b[43m \u001b[49m\u001b[43mcommand\u001b[49m\u001b[43m)\u001b[49m\n\u001b[1;32m     51\u001b[0m     \u001b[38;5;28;01massert\u001b[39;00m sc\u001b[38;5;241m.\u001b[39m_jvm \u001b[38;5;129;01mis\u001b[39;00m \u001b[38;5;129;01mnot\u001b[39;00m \u001b[38;5;28;01mNone\u001b[39;00m\n\u001b[1;32m     52\u001b[0m     \u001b[38;5;28;01mreturn\u001b[39;00m sc\u001b[38;5;241m.\u001b[39m_jvm\u001b[38;5;241m.\u001b[39mPythonFunction(\n\u001b[1;32m     53\u001b[0m         \u001b[38;5;28mbytearray\u001b[39m(pickled_command),\n\u001b[1;32m     54\u001b[0m         env,\n\u001b[0;32m   (...)\u001b[0m\n\u001b[1;32m     59\u001b[0m         sc\u001b[38;5;241m.\u001b[39m_javaAccumulator,\n\u001b[1;32m     60\u001b[0m     )\n",
      "File \u001b[0;32m/usr/local/spark/python/pyspark/rdd.py:3345\u001b[0m, in \u001b[0;36m_prepare_for_python_RDD\u001b[0;34m(sc, command)\u001b[0m\n\u001b[1;32m   3342\u001b[0m \u001b[38;5;28;01mdef\u001b[39;00m \u001b[38;5;21m_prepare_for_python_RDD\u001b[39m(sc: \u001b[38;5;124m\"\u001b[39m\u001b[38;5;124mSparkContext\u001b[39m\u001b[38;5;124m\"\u001b[39m, command: Any) \u001b[38;5;241m-\u001b[39m\u001b[38;5;241m>\u001b[39m Tuple[\u001b[38;5;28mbytes\u001b[39m, Any, Any, Any]:\n\u001b[1;32m   3343\u001b[0m     \u001b[38;5;66;03m# the serialized command will be compressed by broadcast\u001b[39;00m\n\u001b[1;32m   3344\u001b[0m     ser \u001b[38;5;241m=\u001b[39m CloudPickleSerializer()\n\u001b[0;32m-> 3345\u001b[0m     pickled_command \u001b[38;5;241m=\u001b[39m \u001b[43mser\u001b[49m\u001b[38;5;241;43m.\u001b[39;49m\u001b[43mdumps\u001b[49m\u001b[43m(\u001b[49m\u001b[43mcommand\u001b[49m\u001b[43m)\u001b[49m\n\u001b[1;32m   3346\u001b[0m     \u001b[38;5;28;01massert\u001b[39;00m sc\u001b[38;5;241m.\u001b[39m_jvm \u001b[38;5;129;01mis\u001b[39;00m \u001b[38;5;129;01mnot\u001b[39;00m \u001b[38;5;28;01mNone\u001b[39;00m\n\u001b[1;32m   3347\u001b[0m     \u001b[38;5;28;01mif\u001b[39;00m \u001b[38;5;28mlen\u001b[39m(pickled_command) \u001b[38;5;241m>\u001b[39m sc\u001b[38;5;241m.\u001b[39m_jvm\u001b[38;5;241m.\u001b[39mPythonUtils\u001b[38;5;241m.\u001b[39mgetBroadcastThreshold(sc\u001b[38;5;241m.\u001b[39m_jsc):  \u001b[38;5;66;03m# Default 1M\u001b[39;00m\n\u001b[1;32m   3348\u001b[0m         \u001b[38;5;66;03m# The broadcast will have same life cycle as created PythonRDD\u001b[39;00m\n",
      "File \u001b[0;32m/usr/local/spark/python/pyspark/serializers.py:468\u001b[0m, in \u001b[0;36mCloudPickleSerializer.dumps\u001b[0;34m(self, obj)\u001b[0m\n\u001b[1;32m    466\u001b[0m     msg \u001b[38;5;241m=\u001b[39m \u001b[38;5;124m\"\u001b[39m\u001b[38;5;124mCould not serialize object: \u001b[39m\u001b[38;5;132;01m%s\u001b[39;00m\u001b[38;5;124m: \u001b[39m\u001b[38;5;132;01m%s\u001b[39;00m\u001b[38;5;124m\"\u001b[39m \u001b[38;5;241m%\u001b[39m (e\u001b[38;5;241m.\u001b[39m\u001b[38;5;18m__class__\u001b[39m\u001b[38;5;241m.\u001b[39m\u001b[38;5;18m__name__\u001b[39m, emsg)\n\u001b[1;32m    467\u001b[0m print_exec(sys\u001b[38;5;241m.\u001b[39mstderr)\n\u001b[0;32m--> 468\u001b[0m \u001b[38;5;28;01mraise\u001b[39;00m pickle\u001b[38;5;241m.\u001b[39mPicklingError(msg)\n",
      "\u001b[0;31mPicklingError\u001b[0m: Could not serialize object: TypeError: cannot pickle 'Kiwi' object"
     ]
    }
   ],
   "source": [
    "from pyspark.sql.functions import udf\n",
    "from pyspark.sql.types import ArrayType, StringType\n",
    "\n",
    "# Your extract_noun function\n",
    "kiwi = Kiwi()\n",
    "\n",
    "def extract_noun(text):\n",
    "    nouns = []\n",
    "    result = kiwi.tokenize(text)\n",
    "    for token in result:\n",
    "        if token.tag in ['NNG', 'NNP']:\n",
    "            nouns.append(token.form)\n",
    "    return nouns\n",
    "\n",
    "# Registering the function as a UDF\n",
    "extract_noun_udf = udf(extract_noun, ArrayType(StringType()))\n",
    "\n",
    "# Applying the UDF to your Spark DataFrame columns\n",
    "new_df = new_df.withColumn('cleaned_required', extract_noun_udf(new_df['required']))\n",
    "new_df = new_df.withColumn('cleaned_primary_responsibility', extract_noun_udf(new_df['primary_responsibility']))\n",
    "new_df = new_df.withColumn('cleaned_preferred', extract_noun_udf(new_df['preferred']))\n",
    "new_df = new_df.withColumn('cleaned_welfare', extract_noun_udf(new_df['welfare']))\n",
    "new_df = new_df.withColumn('cleaned_company_description', extract_noun_udf(new_df['company_description']))"
   ]
  },
  {
   "cell_type": "code",
   "execution_count": null,
   "id": "f6d0996f-9f9b-41e7-b3b9-bc7875848b3a",
   "metadata": {},
   "outputs": [],
   "source": []
  }
 ],
 "metadata": {
  "kernelspec": {
   "display_name": "Python 3 (ipykernel)",
   "language": "python",
   "name": "python3"
  },
  "language_info": {
   "codemirror_mode": {
    "name": "ipython",
    "version": 3
   },
   "file_extension": ".py",
   "mimetype": "text/x-python",
   "name": "python",
   "nbconvert_exporter": "python",
   "pygments_lexer": "ipython3",
   "version": "3.10.9"
  }
 },
 "nbformat": 4,
 "nbformat_minor": 5
}
