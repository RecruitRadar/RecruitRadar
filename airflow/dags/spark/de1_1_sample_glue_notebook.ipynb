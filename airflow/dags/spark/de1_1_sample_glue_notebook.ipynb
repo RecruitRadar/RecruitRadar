{
	"cells": [
		{
			"cell_type": "markdown",
			"metadata": {
				"editable": true,
				"trusted": true
			},
			"source": [
				"# AWS Glue Studio Notebook\n",
				"##### You are now running a AWS Glue Studio notebook; To start using your notebook you need to start an AWS Glue Interactive Session.\n"
			]
		},
		{
			"cell_type": "markdown",
			"metadata": {
				"editable": true,
				"trusted": true
			},
			"source": [
				"#### Optional: Run this cell to see available notebook commands (\"magics\").\n"
			]
		},
		{
			"cell_type": "code",
			"execution_count": 2,
			"metadata": {
				"editable": true,
				"trusted": true,
				"vscode": {
					"languageId": "python_glue_session"
				}
			},
			"outputs": [
				{
					"name": "stdout",
					"output_type": "stream",
					"text": [
						"Welcome to the Glue Interactive Sessions Kernel\n",
						"For more information on available magic commands, please type %help in any new cell.\n",
						"\n",
						"Please view our Getting Started page to access the most up-to-date information on the Interactive Sessions kernel: https://docs.aws.amazon.com/glue/latest/dg/interactive-sessions.html\n",
						"Installed kernel version: 0.38.1 \n"
					]
				},
				{
					"data": {
						"text/markdown": [
							"\n",
							"# Available Magic Commands\n",
							"\n",
							"## Sessions Magic\n",
							"\n",
							"----\n",
							"    %help                             Return a list of descriptions and input types for all magic commands. \n",
							"    %profile            String        Specify a profile in your aws configuration to use as the credentials provider.\n",
							"    %region             String        Specify the AWS region in which to initialize a session. \n",
							"                                      Default from ~/.aws/config on Linux or macOS, \n",
							"                                      or C:\\Users\\ USERNAME \\.aws\\config\" on Windows.\n",
							"    %idle_timeout       Int           The number of minutes of inactivity after which a session will timeout. \n",
							"                                      Default: 2880 minutes (48 hours).\n",
							"    %session_id_prefix  String        Define a String that will precede all session IDs in the format \n",
							"                                      [session_id_prefix]-[session_id]. If a session ID is not provided,\n",
							"                                      a random UUID will be generated.\n",
							"    %status                           Returns the status of the current Glue session including its duration, \n",
							"                                      configuration and executing user / role.\n",
							"    %session_id                       Returns the session ID for the running session. \n",
							"    %list_sessions                    Lists all currently running sessions by ID.\n",
							"    %stop_session                     Stops the current session.\n",
							"    %glue_version       String        The version of Glue to be used by this session. \n",
							"                                      Currently, the only valid options are 2.0, 3.0 and 4.0. \n",
							"                                      Default: 2.0.\n",
							"----\n",
							"\n",
							"## Selecting Job Types\n",
							"\n",
							"----\n",
							"    %streaming          String        Sets the session type to Glue Streaming.\n",
							"    %etl                String        Sets the session type to Glue ETL.\n",
							"    %glue_ray           String        Sets the session type to Glue Ray.\n",
							"----\n",
							"\n",
							"## Glue Config Magic \n",
							"*(common across all job types)*\n",
							"\n",
							"----\n",
							"\n",
							"    %%configure         Dictionary    A json-formatted dictionary consisting of all configuration parameters for \n",
							"                                      a session. Each parameter can be specified here or through individual magics.\n",
							"    %iam_role           String        Specify an IAM role ARN to execute your session with.\n",
							"                                      Default from ~/.aws/config on Linux or macOS, \n",
							"                                      or C:\\Users\\%USERNAME%\\.aws\\config` on Windows.\n",
							"    %number_of_workers  int           The number of workers of a defined worker_type that are allocated \n",
							"                                      when a session runs.\n",
							"                                      Default: 5.\n",
							"    %additional_python_modules  List  Comma separated list of additional Python modules to include in your cluster \n",
							"                                      (can be from Pypi or S3).\n",
							"    %%tags        Dictionary          Specify a json-formatted dictionary consisting of tags to use in the session.\n",
							"----\n",
							"\n",
							"                                      \n",
							"## Magic for Spark Jobs (ETL & Streaming)\n",
							"\n",
							"----\n",
							"    %worker_type        String        Set the type of instances the session will use as workers. \n",
							"                                      ETL and Streaming support G.1X, G.2X, G.4X and G.8X. \n",
							"                                      Default: G.1X.\n",
							"    %connections        List          Specify a comma separated list of connections to use in the session.\n",
							"    %extra_py_files     List          Comma separated list of additional Python files From S3.\n",
							"    %extra_jars         List          Comma separated list of additional Jars to include in the cluster.\n",
							"    %spark_conf         String        Specify custom spark configurations for your session. \n",
							"                                      E.g. %spark_conf spark.serializer=org.apache.spark.serializer.KryoSerializer\n",
							"----\n",
							"                                      \n",
							"## Magic for Ray Job\n",
							"\n",
							"----\n",
							"    %min_workers        Int           The minimum number of workers that are allocated to a Ray job. \n",
							"                                      Default: 1.\n",
							"    %object_memory_head Int           The percentage of free memory on the instance head node after a warm start. \n",
							"                                      Minimum: 0. Maximum: 100.\n",
							"    %object_memory_worker Int         The percentage of free memory on the instance worker nodes after a warm start. \n",
							"                                      Minimum: 0. Maximum: 100.\n",
							"----\n",
							"\n",
							"## Action Magic\n",
							"\n",
							"----\n",
							"\n",
							"    %%sql               String        Run SQL code. All lines after the initial %%sql magic will be passed\n",
							"                                      as part of the SQL code.  \n",
							"----\n",
							"\n"
						]
					},
					"metadata": {},
					"output_type": "display_data"
				}
			],
			"source": [
				"%help"
			]
		},
		{
			"cell_type": "markdown",
			"metadata": {
				"editable": true,
				"trusted": true
			},
			"source": [
				"####  Run this cell to set up and start your interactive session.\n"
			]
		},
		{
			"cell_type": "code",
			"execution_count": 5,
			"metadata": {
				"editable": true,
				"trusted": true,
				"vscode": {
					"languageId": "python_glue_session"
				}
			},
			"outputs": [
				{
					"name": "stdout",
					"output_type": "stream",
					"text": [
						"Welcome to the Glue Interactive Sessions Kernel\n",
						"For more information on available magic commands, please type %help in any new cell.\n",
						"\n",
						"Please view our Getting Started page to access the most up-to-date information on the Interactive Sessions kernel: https://docs.aws.amazon.com/glue/latest/dg/interactive-sessions.html\n",
						"Installed kernel version: 0.38.1 \n",
						"Current idle_timeout is 2800 minutes.\n",
						"idle_timeout has been set to 2880 minutes.\n",
						"Setting Glue version to: 3.0\n",
						"Previous worker type: G.1X\n",
						"Setting new worker type to: G.1X\n",
						"Previous number of workers: 5\n",
						"Setting new number of workers to: 5\n"
					]
				}
			],
			"source": [
				"%idle_timeout 2880\n",
				"%glue_version 3.0\n",
				"%worker_type G.1X\n",
				"%number_of_workers 5"
			]
		},
		{
			"cell_type": "code",
			"execution_count": 1,
			"metadata": {
				"tags": [],
				"trusted": true,
				"vscode": {
					"languageId": "python_glue_session"
				}
			},
			"outputs": [
				{
					"name": "stdout",
					"output_type": "stream",
					"text": [
						"Authenticating with environment variables and user-defined glue_role_arn: arn:aws:iam::862327261051:role/DE1_1_Glue_Role\n",
						"Trying to create a Glue session for the kernel.\n",
						"Worker Type: G.1X\n",
						"Number of Workers: 5\n",
						"Session ID: 9e95af5a-3319-4372-900b-cd5ec02833c0\n",
						"Job Type: glueetl\n",
						"Applying the following default arguments:\n",
						"--glue_kernel_version 0.38.1\n",
						"--enable-glue-datacatalog true\n",
						"Waiting for session 9e95af5a-3319-4372-900b-cd5ec02833c0 to get into ready status...\n",
						"Session 9e95af5a-3319-4372-900b-cd5ec02833c0 has been created.\n",
						"\n"
					]
				}
			],
			"source": [
				"import sys\n",
				"from awsglue.transforms import *\n",
				"from awsglue.utils import getResolvedOptions\n",
				"from pyspark.context import SparkContext\n",
				"from awsglue.context import GlueContext\n",
				"from awsglue.job import Job\n",
				"from awsglue.dynamicframe import DynamicFrame\n",
				"\n",
				"sc = SparkContext.getOrCreate()\n",
				"glueContext = GlueContext(sc)\n",
				"spark = glueContext.spark_session\n",
				"job = Job(glueContext)"
			]
		},
		{
			"cell_type": "markdown",
			"metadata": {
				"editable": true,
				"trusted": true
			},
			"source": [
				"#### Example: Create a DynamicFrame from a table in the AWS Glue Data Catalog and display its schema\n"
			]
		},
		{
			"cell_type": "code",
			"execution_count": 2,
			"metadata": {
				"tags": [],
				"trusted": true,
				"vscode": {
					"languageId": "python_glue_session"
				}
			},
			"outputs": [
				{
					"name": "stdout",
					"output_type": "stream",
					"text": [
						"\n"
					]
				}
			],
			"source": [
				"df = glueContext.create_dynamic_frame.from_catalog(\n",
				"    database=\"1-1-test-kms\",\n",
				"    table_name=\"part_00000_d68b9568_0f0f_413b_aadf_f1a1edf7367f_c000_snappy_parquet\",\n",
				"    transformation_ctx=\"S3bucket_node1\",\n",
				")"
			]
		},
		{
			"cell_type": "code",
			"execution_count": 3,
			"metadata": {
				"tags": [],
				"trusted": true,
				"vscode": {
					"languageId": "python_glue_session"
				}
			},
			"outputs": [
				{
					"name": "stdout",
					"output_type": "stream",
					"text": [
						"{\"job_id\": \"175835\", \"platform\": \"wanted\", \"category\": \"프론트엔드 개발자\", \"major_category\": \"WEB\", \"middle_category\": \"프론트엔드 개발자\", \"sub_category\": \"프론트엔드 개발자\", \"company\": \"뉴스젤리(Newsjelly)\", \"title\": \"웹 프론트엔드 개발자\", \"preferred\": \"- D3/Highcharts 등의 시각화 라이브러리를 사용해보신 분   - CSV/JSON 등의 다양한 데이터 형식에 익숙하신분   - 반응형 웹 개발을 경험하신 분   - Vue/React 등의 SPA 프레임워크 개발을 경험하신 분   - Vite/Webpack 등의 번들러를 사용해보신 분   - Typescript에 익숙하신 분   - 컨테이너 기반 운영 환경에 익숙하신 분   - 백엔드 개발에도 관심이 있으신 분   - 최신 기술 동향을 파악에 관심이 있으신 분  [이런 분이면 더 좋아요!]   • 개인의 전문성을 바탕으로 자기 주도적으로 일하는 분  • 동료와 유연한 협업이 가능한 분  • 새로운 도전을 두려워하지 않는 분  • ‘할 수 있다, 가보자고’ 긍정 마인드를 소유한 분  • 맡은 일은 끝까지 책임질 줄 아는 분   [ 제출서류 ]     - 이력서 (별도의 지원 양식은 없지만 희망 연봉을 기재해 주세요)    - 포트폴리오    - 포트폴리오 자료 파일 또는 URL    - Github/Gitlab 등의 개인 프로젝트 저장소(선택)    - 개인 기술블로그(선택)  [ 채용절차 ]   서류전형  -＞ 기술 인터뷰 -＞ 임원 면접 -＞ 처우협의 -＞ 최종합격 (* 면접상황에 따라 일부 변경 될 수 있습니다. )   [ 주요 기술 스택 ]    - 언어: Typescript/Javascript, Python   - 프론트엔드: Vue, React   - 백엔드: FastAPI, Django   - 데이터베이스: PostgreSQL, MariaDB   - 네트워크: Traefik, Nginx   - DevOps: Docker   [참고사항]  ㆍ해당 공고는 수시 채용으로 채용 완료 시 조기 마감될 수 있습니다. ㆍ입사지원 서류에 허위 기재 사실이 발견될 경우 입사가 취소될 수 있습니다. ㆍ연봉은 회사 내규에 따르되 지원자 역량에 따라 조율이 가능합니다. ㆍ모든 정규직 채용의 경우, 3개월의 수습기간이 있으며, 평가 결과에 따라 수습 기간이 연장되거나     채용이 취소될 수 있습니다.\", \"required\": \"[ 기본 자격 요건 ]      - 학력/전공/경력 무관   - HTML/CSS/Javascript를 능숙하게 사용할 수 있는 분\", \"primary_responsibility\": \"* 데이터 시각화 관련 웹 프로젝트의 프론트엔드 개발\", \"url\": \"https://www.wanted.co.kr/wd/175835\", \"end_at\": null, \"skills\": [\"React\", \"VueJS\", \"CSS\", \"HTML\", \"JavaScript\", \"Python\", \"TypeScript\", \"PostgreSQL\"], \"location\": \"성동구 왕십리로58 (성수동, 서울숲포휴) 217호\", \"welfare\": \"• 자유로운 젤리언즈  - 성수동 서울숲 1분거리 사무실   - 전문성을 바탕으로 협업하는 수평적인 조직문화  - 오전 8시~10시30분 내 자율 출근제, 주 40시간 근무  • 건강한 젤리언즈  - 최상의 컨디션 유지를 위한 묻지마 휴가  - 불가피한 야근시 저녁 식대 및 택시비 지원  • 성장하는 젤리언즈  - 업무 관련 도서/교육비 무한 지원  • 즐거운 젤리언즈  - 출퇴근만 잘해도 스타벅스 기프트 카드 제공  - 원하는 간식 직접 선택 가능  - 티타임 및 간식타임(빵타임)을 통한 리프레시  - 성수동 핫플레이스와 함께하는 생일파티\", \"body\": \"\", \"company_description\": \"[국내 No.1 데이터 시각화 전문가 그룹, 뉴스젤리]   뉴스젤리는 데이터 활용에 가치를 더하는 “데이터 시각화” 전문 기업으로서, 데이터 시각화 기술을 연구하고 고객의 문제를 해결합니다.    2014년부터 지금까지 “데이터 시각화” 분야에서 전문성을 쌓으며 국내에선 독보적인 전문성을 인정받고 있습니다. 단순히 특정 고객의 문제를 그대로 받아 해결하기 보다는, 데이터 활용에 근본적으로 유사한 어려움을 겪는 수 많은 사람들을 위해 자체적으로 솔루션을 개발하고 15건 이상의 특허를 출원하였습니다.    여느 기업과 다를 바 없이, 설립 이래 뉴스젤리에도 크고 작은 일들이 많았습니다. ‘스타트업 5년차 생존율 29%’이라는 말로 불리는 스타트업의 어려움과 많은 흔들림 가운데에서도 뉴스젤리는 오로지 “데이터 시각화로부터 촉진되는 생각, 사업, 결과의 변화”를 지켜보며 어느덧 국내 대표 데이터 시각화 기업이 되었습니다.   대기업부터 학술기관, 언론사, 공공기관까지   영리활동부터 공공 및 학술 분야까지    다양한 분야에서 뉴스젤리가 가치를 더하며 보람찬 발전을 거듭하고 있습니다.   데이터 시각화 솔루션에서 시작해 시각화 컨설팅 및 대시보드 구축 범위까지 뉴스젤리는 전문성을 보유한 구성원들과 함께 성장하며 ‘더 나은 뉴스젤리’로 거듭나기 위한 노력을 지속하고 있습니다. 더 나은 뉴스젤리 안에서 데이터 시각화의 가치를 경험하고, 더 많은 사람들에게 가치를 전할 인재를 기다립니다.\", \"coordinate\": [37.5427787, 127.045065]}\n",
						"{\"job_id\": \"175835\", \"platform\": \"wanted\", \"category\": \"프론트엔드 개발자\", \"major_category\": \"WEB\", \"middle_category\": \"프론트엔드 개발자\", \"sub_category\": \"프론트엔드 개발자\", \"company\": \"뉴스젤리(Newsjelly)\", \"title\": \"웹 프론트엔드 개발자\", \"preferred\": \"- D3/Highcharts 등의 시각화 라이브러리를 사용해보신 분   - CSV/JSON 등의 다양한 데이터 형식에 익숙하신분   - 반응형 웹 개발을 경험하신 분   - Vue/React 등의 SPA 프레임워크 개발을 경험하신 분   - Vite/Webpack 등의 번들러를 사용해보신 분   - Typescript에 익숙하신 분   - 컨테이너 기반 운영 환경에 익숙하신 분   - 백엔드 개발에도 관심이 있으신 분   - 최신 기술 동향을 파악에 관심이 있으신 분  [이런 분이면 더 좋아요!]   • 개인의 전문성을 바탕으로 자기 주도적으로 일하는 분  • 동료와 유연한 협업이 가능한 분  • 새로운 도전을 두려워하지 않는 분  • ‘할 수 있다, 가보자고’ 긍정 마인드를 소유한 분  • 맡은 일은 끝까지 책임질 줄 아는 분   [ 제출서류 ]     - 이력서 (별도의 지원 양식은 없지만 희망 연봉을 기재해 주세요)    - 포트폴리오    - 포트폴리오 자료 파일 또는 URL    - Github/Gitlab 등의 개인 프로젝트 저장소(선택)    - 개인 기술블로그(선택)  [ 채용절차 ]   서류전형  -＞ 기술 인터뷰 -＞ 임원 면접 -＞ 처우협의 -＞ 최종합격 (* 면접상황에 따라 일부 변경 될 수 있습니다. )   [ 주요 기술 스택 ]    - 언어: Typescript/Javascript, Python   - 프론트엔드: Vue, React   - 백엔드: FastAPI, Django   - 데이터베이스: PostgreSQL, MariaDB   - 네트워크: Traefik, Nginx   - DevOps: Docker   [참고사항]  ㆍ해당 공고는 수시 채용으로 채용 완료 시 조기 마감될 수 있습니다. ㆍ입사지원 서류에 허위 기재 사실이 발견될 경우 입사가 취소될 수 있습니다. ㆍ연봉은 회사 내규에 따르되 지원자 역량에 따라 조율이 가능합니다. ㆍ모든 정규직 채용의 경우, 3개월의 수습기간이 있으며, 평가 결과에 따라 수습 기간이 연장되거나     채용이 취소될 수 있습니다.\", \"required\": \"[ 기본 자격 요건 ]      - 학력/전공/경력 무관   - HTML/CSS/Javascript를 능숙하게 사용할 수 있는 분\", \"primary_responsibility\": \"* 데이터 시각화 관련 웹 프로젝트의 프론트엔드 개발\", \"url\": \"https://www.wanted.co.kr/wd/175835\", \"end_at\": null, \"skills\": [\"React\", \"VueJS\", \"CSS\", \"HTML\", \"JavaScript\", \"Python\", \"TypeScript\", \"PostgreSQL\"], \"location\": \"성동구 왕십리로58 (성수동, 서울숲포휴) 217호\", \"welfare\": \"• 자유로운 젤리언즈  - 성수동 서울숲 1분거리 사무실   - 전문성을 바탕으로 협업하는 수평적인 조직문화  - 오전 8시~10시30분 내 자율 출근제, 주 40시간 근무  • 건강한 젤리언즈  - 최상의 컨디션 유지를 위한 묻지마 휴가  - 불가피한 야근시 저녁 식대 및 택시비 지원  • 성장하는 젤리언즈  - 업무 관련 도서/교육비 무한 지원  • 즐거운 젤리언즈  - 출퇴근만 잘해도 스타벅스 기프트 카드 제공  - 원하는 간식 직접 선택 가능  - 티타임 및 간식타임(빵타임)을 통한 리프레시  - 성수동 핫플레이스와 함께하는 생일파티\", \"body\": \"\", \"company_description\": \"[국내 No.1 데이터 시각화 전문가 그룹, 뉴스젤리]   뉴스젤리는 데이터 활용에 가치를 더하는 “데이터 시각화” 전문 기업으로서, 데이터 시각화 기술을 연구하고 고객의 문제를 해결합니다.    2014년부터 지금까지 “데이터 시각화” 분야에서 전문성을 쌓으며 국내에선 독보적인 전문성을 인정받고 있습니다. 단순히 특정 고객의 문제를 그대로 받아 해결하기 보다는, 데이터 활용에 근본적으로 유사한 어려움을 겪는 수 많은 사람들을 위해 자체적으로 솔루션을 개발하고 15건 이상의 특허를 출원하였습니다.    여느 기업과 다를 바 없이, 설립 이래 뉴스젤리에도 크고 작은 일들이 많았습니다. ‘스타트업 5년차 생존율 29%’이라는 말로 불리는 스타트업의 어려움과 많은 흔들림 가운데에서도 뉴스젤리는 오로지 “데이터 시각화로부터 촉진되는 생각, 사업, 결과의 변화”를 지켜보며 어느덧 국내 대표 데이터 시각화 기업이 되었습니다.   대기업부터 학술기관, 언론사, 공공기관까지   영리활동부터 공공 및 학술 분야까지    다양한 분야에서 뉴스젤리가 가치를 더하며 보람찬 발전을 거듭하고 있습니다.   데이터 시각화 솔루션에서 시작해 시각화 컨설팅 및 대시보드 구축 범위까지 뉴스젤리는 전문성을 보유한 구성원들과 함께 성장하며 ‘더 나은 뉴스젤리’로 거듭나기 위한 노력을 지속하고 있습니다. 더 나은 뉴스젤리 안에서 데이터 시각화의 가치를 경험하고, 더 많은 사람들에게 가치를 전할 인재를 기다립니다.\", \"coordinate\": [37.5427787, 127.045065]}\n"
					]
				}
			],
			"source": [
				"df.show(2)"
			]
		},
		{
			"cell_type": "markdown",
			"metadata": {
				"editable": true,
				"trusted": true
			},
			"source": [
				"#### Example: Convert the DynamicFrame to a Spark DataFrame and display a sample of the data\n"
			]
		},
		{
			"cell_type": "code",
			"execution_count": 4,
			"metadata": {
				"editable": true,
				"trusted": true,
				"vscode": {
					"languageId": "python_glue_session"
				}
			},
			"outputs": [
				{
					"name": "stdout",
					"output_type": "stream",
					"text": [
						"+------+--------+-----------------+--------------+-----------------+-----------------+-------------------+-----------------------------+------------------------------+---------------------------+-------------------------------+--------------------+----------+--------------------+--------------------------------+-------------------------------+----+---------------------------------+--------------------+\n",
						"|job_id|platform|         category|major_category|  middle_category|     sub_category|            company|                        title|                     preferred|                   required|         primary_responsibility|                 url|    end_at|              skills|                        location|                        welfare|body|              company_description|          coordinate|\n",
						"+------+--------+-----------------+--------------+-----------------+-----------------+-------------------+-----------------------------+------------------------------+---------------------------+-------------------------------+--------------------+----------+--------------------+--------------------------------+-------------------------------+----+---------------------------------+--------------------+\n",
						"|175835|  wanted|프론트엔드 개발자|           WEB|프론트엔드 개발자|프론트엔드 개발자|뉴스젤리(Newsjelly)|         웹 프론트엔드 개발자|         - D3/Highcharts 등...| [ 기본 자격 요건 ]     ...|* 데이터 시각화 관련 웹 프로...|https://www.wante...|      null|[React, VueJS, CS...|  성동구 왕십리로58 (성수동, ...| • 자유로운 젤리언즈  - 성수...|    |     [국내 No.1 데이터 시각화 ...|[37.5427787, 127....|\n",
						"|175835|  wanted|프론트엔드 개발자|           WEB|프론트엔드 개발자|프론트엔드 개발자|뉴스젤리(Newsjelly)|         웹 프론트엔드 개발자|         - D3/Highcharts 등...| [ 기본 자격 요건 ]     ...|* 데이터 시각화 관련 웹 프로...|https://www.wante...|      null|[React, VueJS, CS...|  성동구 왕십리로58 (성수동, ...| • 자유로운 젤리언즈  - 성수...|    |     [국내 No.1 데이터 시각화 ...|[37.5427787, 127....|\n",
						"|175618|  wanted|    파이썬 개발자|     SW/HW/IOT|소프트웨어 개발자|    파이썬 개발자|             베링랩|   백엔드 개발자 (Python/R...|          - Microservice Ar...|    - Python 혹은 Rust에...|   - 신사업 플랫폼 구축     ...|https://www.wante...|      null|[React, TypeScrip...|  서울시 강남구 봉은사로 524 ...| - 최신형 노트북 제공 (맥북/...|    |베링랩은 가장 어렵고 난해한 번...|[37.5125207, 127....|\n",
						"|167904|  wanted|      BI 엔지니어|          DATA|    데이터 분석가|      BI 엔지니어|         웅진씽크빅|[에듀테크연구소] AI학습모델링|• 관련 석박사 소지자 우대 •...|  • 경력 3년 ~ 10년 • 데...|• 머신러닝 기반 교육 모델(예...|https://www.wante...|      null|[SAP, Git, JIRA, ...|                중구 청계천로 24|  - 전형절차 : 서류전형 ＞ 1...|    |      웅진씽크빅은 2014년 DT(D...|[37.5685119, 126....|\n",
						"|174645|  wanted|머신러닝 엔지니어|          DATA|      AI 엔지니어|머신러닝 엔지니어|         한국딥러닝|  딥러닝 엔지니어(3D Recon...|          • 3D Generation, ...|• 학력 : 무관 • 딥러닝, ...|      • 딥러닝 기반 3D Recon...|https://www.wante...|2023-08-20|[Git, Github, Mon...|서울특별시 서초구 강남대로 53...|KDL 크루의 롤러코스터 성장을...|    |  현재 AI 분야의 주인공은 단연...|[37.5097631999999...|\n",
						"+------+--------+-----------------+--------------+-----------------+-----------------+-------------------+-----------------------------+------------------------------+---------------------------+-------------------------------+--------------------+----------+--------------------+--------------------------------+-------------------------------+----+---------------------------------+--------------------+\n",
						"only showing top 5 rows\n"
					]
				}
			],
			"source": [
				"converted_df = df.toDF()\n",
				"converted_df.show(5)"
			]
		},
		{
			"cell_type": "code",
			"execution_count": 5,
			"metadata": {
				"tags": [],
				"trusted": true,
				"vscode": {
					"languageId": "python_glue_session"
				}
			},
			"outputs": [
				{
					"name": "stdout",
					"output_type": "stream",
					"text": [
						"root\n",
						" |-- job_id: string (nullable = true)\n",
						" |-- platform: string (nullable = true)\n",
						" |-- category: string (nullable = true)\n",
						" |-- major_category: string (nullable = true)\n",
						" |-- middle_category: string (nullable = true)\n",
						" |-- sub_category: string (nullable = true)\n",
						" |-- company: string (nullable = true)\n",
						" |-- title: string (nullable = true)\n",
						" |-- preferred: string (nullable = true)\n",
						" |-- required: string (nullable = true)\n",
						" |-- primary_responsibility: string (nullable = true)\n",
						" |-- url: string (nullable = true)\n",
						" |-- end_at: string (nullable = true)\n",
						" |-- skills: array (nullable = true)\n",
						" |    |-- element: string (containsNull = true)\n",
						" |-- location: string (nullable = true)\n",
						" |-- welfare: string (nullable = true)\n",
						" |-- body: string (nullable = true)\n",
						" |-- company_description: string (nullable = true)\n",
						" |-- coordinate: array (nullable = true)\n",
						" |    |-- element: double (containsNull = true)\n"
					]
				}
			],
			"source": [
				"converted_df.printSchema()"
			]
		},
		{
			"cell_type": "code",
			"execution_count": 6,
			"metadata": {
				"tags": [],
				"trusted": true,
				"vscode": {
					"languageId": "python_glue_session"
				}
			},
			"outputs": [
				{
					"name": "stdout",
					"output_type": "stream",
					"text": [
						"\n"
					]
				}
			],
			"source": [
				"converted_df.createOrReplaceTempView(\"jd_analysis\")"
			]
		},
		{
			"cell_type": "code",
			"execution_count": 7,
			"metadata": {
				"tags": [],
				"trusted": true,
				"vscode": {
					"languageId": "python_glue_session"
				}
			},
			"outputs": [
				{
					"name": "stdout",
					"output_type": "stream",
					"text": [
						"+--------------+----------------------+\n",
						"|major_category|count(DISTINCT job_id)|\n",
						"+--------------+----------------------+\n",
						"|          GAME|                    32|\n",
						"|        MOBILE|                    93|\n",
						"|       SUPPORT|                    89|\n",
						"|           ETC|                    63|\n",
						"|           WEB|                   305|\n",
						"|     DEVSECOPS|                   100|\n",
						"|     SW/HW/IOT|                   143|\n",
						"|          DATA|                   158|\n",
						"+--------------+----------------------+\n"
					]
				}
			],
			"source": [
				"spark.sql(\"\"\"SELECT major_category, COUNT(DISTINCT(job_id))\n",
				"FROM jd_analysis\n",
				"GROUP BY major_category\n",
				"\"\"\").show()"
			]
		},
		{
			"cell_type": "code",
			"execution_count": 8,
			"metadata": {
				"tags": [],
				"trusted": true,
				"vscode": {
					"languageId": "python_glue_session"
				}
			},
			"outputs": [
				{
					"name": "stdout",
					"output_type": "stream",
					"text": [
						"+--------------+---------------------------+----------------------+\n",
						"|major_category|            middle_category|count(DISTINCT job_id)|\n",
						"+--------------+---------------------------+----------------------+\n",
						"|       SUPPORT|                         PM|                    39|\n",
						"|          DATA|              데이터 분석가|                    34|\n",
						"|          DATA|        데이터 사이언티스트|                    33|\n",
						"|       SUPPORT|                   기술지원|                    32|\n",
						"|        MOBILE|          안드로이드 개발자|                    44|\n",
						"|     DEVSECOPS|   데브옵스/인프라 엔지니어|                    79|\n",
						"|           ETC|          블록체인 엔지니어|                    23|\n",
						"|        MOBILE|                 iOS 개발자|                    47|\n",
						"|           WEB|                웹 퍼블리셔|                    20|\n",
						"|        MOBILE|크로스 플랫폼 모바일 개발자|                    33|\n",
						"|     DEVSECOPS|            정보보안 담당자|                    28|\n",
						"|     SW/HW/IOT|         HW/임베디드 개발자|                    41|\n",
						"|          DATA|                        DBA|                    28|\n",
						"|       SUPPORT|                QA 엔지니어|                    24|\n",
						"|           ETC|                       기타|                    40|\n",
						"|           WEB|         서버/백엔드 개발자|                   214|\n",
						"|          DATA|            데이터 엔지니어|                    57|\n",
						"|           WEB|          프론트엔드 개발자|                   101|\n",
						"|     SW/HW/IOT|          소프트웨어 개발자|                   111|\n",
						"|          GAME|                   VR/AR/3D|                    32|\n",
						"+--------------+---------------------------+----------------------+\n",
						"only showing top 20 rows\n"
					]
				}
			],
			"source": [
				"spark.sql(\"\"\"SELECT major_category, middle_category, COUNT(DISTINCT(job_id))\n",
				"FROM jd_analysis\n",
				"GROUP BY major_category, middle_category\n",
				"\"\"\").show()"
			]
		},
		{
			"cell_type": "code",
			"execution_count": 9,
			"metadata": {
				"tags": [],
				"trusted": true,
				"vscode": {
					"languageId": "python_glue_session"
				}
			},
			"outputs": [
				{
					"name": "stdout",
					"output_type": "stream",
					"text": [
						"\n"
					]
				}
			],
			"source": [
				"temp_df = spark.sql(\"\"\"SELECT major_category, middle_category, COUNT(DISTINCT(job_id))\n",
				"FROM jd_analysis\n",
				"GROUP BY major_category, middle_category\n",
				"\"\"\")"
			]
		},
		{
			"cell_type": "code",
			"execution_count": 10,
			"metadata": {
				"tags": [],
				"trusted": true,
				"vscode": {
					"languageId": "python_glue_session"
				}
			},
			"outputs": [
				{
					"name": "stdout",
					"output_type": "stream",
					"text": [
						"   major_category  middle_category  count(DISTINCT job_id)\n",
						"0         SUPPORT               PM                      39\n",
						"1            DATA       데이터 사이언티스트                      33\n",
						"2            DATA          데이터 분석가                      34\n",
						"3          MOBILE        안드로이드 개발자                      44\n",
						"4         SUPPORT             기술지원                      32\n",
						"5       DEVSECOPS    데브옵스/인프라 엔지니어                      79\n",
						"6             WEB           웹 퍼블리셔                      20\n",
						"7          MOBILE          iOS 개발자                      47\n",
						"8             ETC        블록체인 엔지니어                      23\n",
						"9          MOBILE  크로스 플랫폼 모바일 개발자                      33\n",
						"10      SW/HW/IOT      HW/임베디드 개발자                      41\n",
						"11      DEVSECOPS         정보보안 담당자                      28\n",
						"12            ETC               기타                      40\n",
						"13           DATA              DBA                      28\n",
						"14        SUPPORT          QA 엔지니어                      24\n",
						"15            WEB       서버/백엔드 개발자                     214\n",
						"16           DATA         데이터 엔지니어                      57\n",
						"17            WEB        프론트엔드 개발자                     101\n",
						"18      SW/HW/IOT        소프트웨어 개발자                     111\n",
						"19           DATA          AI 엔지니어                      52\n",
						"20           GAME         VR/AR/3D                      32\n"
					]
				}
			],
			"source": [
				"temp_df.toPandas()"
			]
		},
		{
			"cell_type": "markdown",
			"metadata": {},
			"source": [
				"### 데이터 저장"
			]
		},
		{
			"cell_type": "code",
			"execution_count": 11,
			"metadata": {
				"tags": [],
				"trusted": true,
				"vscode": {
					"languageId": "python_glue_session"
				}
			},
			"outputs": [
				{
					"name": "stdout",
					"output_type": "stream",
					"text": [
						"\n"
					]
				}
			],
			"source": [
				"single_partition_df = temp_df.coalesce(1)"
			]
		},
		{
			"cell_type": "code",
			"execution_count": 12,
			"metadata": {
				"tags": [],
				"trusted": true,
				"vscode": {
					"languageId": "python_glue_session"
				}
			},
			"outputs": [
				{
					"name": "stdout",
					"output_type": "stream",
					"text": [
						"\n"
					]
				}
			],
			"source": [
				"# Convert back to DynamicFrame\n",
				"group_dynamic_frame = DynamicFrame.fromDF(single_partition_df, glueContext, \"jd_analysis_sample\")\n"
			]
		},
		{
			"cell_type": "code",
			"execution_count": 13,
			"metadata": {
				"tags": [],
				"trusted": true,
				"vscode": {
					"languageId": "python_glue_session"
				}
			},
			"outputs": [
				{
					"name": "stdout",
					"output_type": "stream",
					"text": [
						"\n"
					]
				}
			],
			"source": [
				"# Store the clean data back to S3\n",
				"jd_analysis_group_destn = glueContext.write_dynamic_frame.from_options(\n",
				"    frame=group_dynamic_frame,\n",
				"    connection_type=\"s3\",\n",
				"    format=\"csv\",\n",
				"    connection_options={\n",
				"        \"path\": \"s3://de-1-1/hajun/glue_spark_sample/\",\n",
				"        \"partitionKeys\": [],\n",
				"    },\n",
				"    transformation_ctx=\"jd_analysis_cate_group\",\n",
				")\n",
				"# worker를 5개로 실행 -> 나뉘어짐"
			]
		},
		{
			"cell_type": "code",
			"execution_count": 14,
			"metadata": {
				"tags": [],
				"trusted": true,
				"vscode": {
					"languageId": "python_glue_session"
				}
			},
			"outputs": [
				{
					"name": "stdout",
					"output_type": "stream",
					"text": [
						"\n"
					]
				}
			],
			"source": [
				"spark.stop()"
			]
		},
		{
			"cell_type": "markdown",
			"metadata": {
				"editable": true,
				"trusted": true
			},
			"source": [
				"#### Example: Visualize data with matplotlib\n"
			]
		},
		{
			"cell_type": "code",
			"execution_count": null,
			"metadata": {
				"editable": true,
				"trusted": true,
				"vscode": {
					"languageId": "python_glue_session"
				}
			},
			"outputs": [],
			"source": [
				"import matplotlib.pyplot as plt\n",
				"\n",
				"# Set X-axis and Y-axis values\n",
				"x = [5, 2, 8, 4, 9]\n",
				"y = [10, 4, 8, 5, 2]\n",
				"  \n",
				"# Create a bar chart \n",
				"plt.bar(x, y)\n",
				"  \n",
				"# Show the plot\n",
				"%matplot plt"
			]
		},
		{
			"cell_type": "markdown",
			"metadata": {
				"editable": true,
				"trusted": true
			},
			"source": [
				"#### Example: Write the data in the DynamicFrame to a location in Amazon S3 and a table for it in the AWS Glue Data Catalog\n"
			]
		},
		{
			"cell_type": "code",
			"execution_count": null,
			"metadata": {
				"editable": true,
				"trusted": true,
				"vscode": {
					"languageId": "python_glue_session"
				}
			},
			"outputs": [],
			"source": [
				"s3output = glueContext.getSink(\n",
				"  path=\"s3://de-1-1/hajun/glue_spark_sample/\",\n",
				"  connection_type=\"s3\",\n",
				"  updateBehavior=\"UPDATE_IN_DATABASE\",\n",
				"  partitionKeys=[],\n",
				"  compression=\"snappy\",\n",
				"  enableUpdateCatalog=True,\n",
				"  transformation_ctx=\"s3output\",\n",
				")\n",
				"s3output.setCatalogInfo(\n",
				"  catalogDatabase=\"de1_1_demo\", catalogTableName=\"jd_analysis_cate_group\"\n",
				")\n",
				"s3output.setFormat(\"glueparquet\")\n",
				"s3output.writeFrame(DyF)"
			]
		}
	],
	"metadata": {
		"kernelspec": {
			"display_name": "Glue PySpark",
			"language": "python",
			"name": "glue_pyspark"
		},
		"language_info": {
			"codemirror_mode": {
				"name": "python",
				"version": 3
			},
			"file_extension": ".py",
			"mimetype": "text/x-python",
			"name": "Python_Glue_Session",
			"pygments_lexer": "python3"
		}
	},
	"nbformat": 4,
	"nbformat_minor": 4
}
